{
  "nbformat": 4,
  "nbformat_minor": 0,
  "metadata": {
    "colab": {
      "provenance": []
    },
    "kernelspec": {
      "name": "python3",
      "display_name": "Python 3"
    },
    "language_info": {
      "name": "python"
    }
  },
  "cells": [
    {
      "cell_type": "markdown",
      "source": [
        "### **Movies Recommendation**"
      ],
      "metadata": {
        "id": "Mi03MTVdWR0i"
      }
    },
    {
      "cell_type": "markdown",
      "source": [
        "## **Objective**"
      ],
      "metadata": {
        "id": "UqLRGFXYWXot"
      }
    },
    {
      "cell_type": "markdown",
      "source": [
        " To classify the movie recommendation data."
      ],
      "metadata": {
        "id": "gWBqxTRHWek6"
      }
    },
    {
      "cell_type": "markdown",
      "source": [
        "## **Data Source**"
      ],
      "metadata": {
        "id": "0H5UR7bOWs4W"
      }
    },
    {
      "cell_type": "markdown",
      "source": [
        "Importing the Movie Recommendation Dataset from sklearn library"
      ],
      "metadata": {
        "id": "ayaTtmZLWjsB"
      }
    },
    {
      "cell_type": "markdown",
      "source": [
        "## **Import Library**"
      ],
      "metadata": {
        "id": "904LmO6rW4zx"
      }
    },
    {
      "cell_type": "code",
      "execution_count": null,
      "metadata": {
        "id": "psHNJoe-hADo"
      },
      "outputs": [],
      "source": [
        "import pandas as pd"
      ]
    },
    {
      "cell_type": "code",
      "source": [
        "import numpy as np"
      ],
      "metadata": {
        "id": "hgwTKjYIhKwW"
      },
      "execution_count": null,
      "outputs": []
    },
    {
      "cell_type": "markdown",
      "source": [
        "## **Import Data**"
      ],
      "metadata": {
        "id": "fAEcAK1pd1OR"
      }
    },
    {
      "cell_type": "code",
      "source": [
        "df=pd.read_csv(r\"Movies Recommendation.csv\")"
      ],
      "metadata": {
        "id": "PLGREjKIhM6m"
      },
      "execution_count": null,
      "outputs": []
    },
    {
      "cell_type": "code",
      "source": [
        "df.head()"
      ],
      "metadata": {
        "colab": {
          "base_uri": "https://localhost:8080/",
          "height": 716
        },
        "id": "5uonYiT7820M",
        "outputId": "78b4dfdc-dfe7-4e0c-c5f7-a21ed50c65c8"
      },
      "execution_count": null,
      "outputs": [
        {
          "output_type": "execute_result",
          "data": {
            "text/plain": [
              "   Movie_ID      Movie_Title                       Movie_Genre Movie_Language  \\\n",
              "0         1       Four Rooms                      Crime Comedy             en   \n",
              "1         2        Star Wars  Adventure Action Science Fiction             en   \n",
              "2         3     Finding Nemo                  Animation Family             en   \n",
              "3         4     Forrest Gump              Comedy Drama Romance             en   \n",
              "4         5  American Beauty                             Drama             en   \n",
              "\n",
              "   Movie_Budget  Movie_Popularity Movie_Release_Date  Movie_Revenue  \\\n",
              "0       4000000         22.876230         09-12-1995        4300000   \n",
              "1      11000000        126.393695         25-05-1977      775398007   \n",
              "2      94000000         85.688789         30-05-2003      940335536   \n",
              "3      55000000        138.133331         06-07-1994      677945399   \n",
              "4      15000000         80.878605         15-09-1999      356296601   \n",
              "\n",
              "   Movie_Runtime  Movie_Vote  ...  \\\n",
              "0           98.0         6.5  ...   \n",
              "1          121.0         8.1  ...   \n",
              "2          100.0         7.6  ...   \n",
              "3          142.0         8.2  ...   \n",
              "4          122.0         7.9  ...   \n",
              "\n",
              "                                      Movie_Homepage  \\\n",
              "0                                                NaN   \n",
              "1  http://www.starwars.com/films/star-wars-episod...   \n",
              "2              http://movies.disney.com/finding-nemo   \n",
              "3                                                NaN   \n",
              "4                      http://www.dreamworks.com/ab/   \n",
              "\n",
              "                                      Movie_Keywords  \\\n",
              "0          hotel new year's eve witch bet hotel room   \n",
              "1        android galaxy hermit death star lightsaber   \n",
              "2  father son relationship harbor underwater fish...   \n",
              "3  vietnam veteran hippie mentally disabled runni...   \n",
              "4  male nudity female nudity adultery midlife cri...   \n",
              "\n",
              "                                      Movie_Overview  \\\n",
              "0  It's Ted the Bellhop's first night on the job....   \n",
              "1  Princess Leia is captured and held hostage by ...   \n",
              "2  Nemo, an adventurous young clownfish, is unexp...   \n",
              "3  A man with a low IQ has accomplished great thi...   \n",
              "4  Lester Burnham, a depressed suburban father in...   \n",
              "\n",
              "                              Movie_Production_House  \\\n",
              "0  [{\"name\": \"Miramax Films\", \"id\": 14}, {\"name\":...   \n",
              "1  [{\"name\": \"Lucasfilm\", \"id\": 1}, {\"name\": \"Twe...   \n",
              "2     [{\"name\": \"Pixar Animation Studios\", \"id\": 3}]   \n",
              "3          [{\"name\": \"Paramount Pictures\", \"id\": 4}]   \n",
              "4  [{\"name\": \"DreamWorks SKG\", \"id\": 27}, {\"name\"...   \n",
              "\n",
              "                            Movie_Production_Country  \\\n",
              "0  [{\"iso_3166_1\": \"US\", \"name\": \"United States o...   \n",
              "1  [{\"iso_3166_1\": \"US\", \"name\": \"United States o...   \n",
              "2  [{\"iso_3166_1\": \"US\", \"name\": \"United States o...   \n",
              "3  [{\"iso_3166_1\": \"US\", \"name\": \"United States o...   \n",
              "4  [{\"iso_3166_1\": \"US\", \"name\": \"United States o...   \n",
              "\n",
              "                      Movie_Spoken_Language  \\\n",
              "0  [{\"iso_639_1\": \"en\", \"name\": \"English\"}]   \n",
              "1  [{\"iso_639_1\": \"en\", \"name\": \"English\"}]   \n",
              "2  [{\"iso_639_1\": \"en\", \"name\": \"English\"}]   \n",
              "3  [{\"iso_639_1\": \"en\", \"name\": \"English\"}]   \n",
              "4  [{\"iso_639_1\": \"en\", \"name\": \"English\"}]   \n",
              "\n",
              "                                       Movie_Tagline  \\\n",
              "0  Twelve outrageous guests. Four scandalous requ...   \n",
              "1       A long time ago in a galaxy far, far away...   \n",
              "2  There are 3.7 trillion fish in the ocean, they...   \n",
              "3  The world will never be the same, once you've ...   \n",
              "4                                       Look closer.   \n",
              "\n",
              "                                          Movie_Cast  \\\n",
              "0  Tim Roth Antonio Banderas Jennifer Beals Madon...   \n",
              "1  Mark Hamill Harrison Ford Carrie Fisher Peter ...   \n",
              "2  Albert Brooks Ellen DeGeneres Alexander Gould ...   \n",
              "3  Tom Hanks Robin Wright Gary Sinise Mykelti Wil...   \n",
              "4  Kevin Spacey Annette Bening Thora Birch Wes Be...   \n",
              "\n",
              "                                          Movie_Crew   Movie_Director  \n",
              "0  [{'name': 'Allison Anders', 'gender': 1, 'depa...   Allison Anders  \n",
              "1  [{'name': 'George Lucas', 'gender': 2, 'depart...     George Lucas  \n",
              "2  [{'name': 'Andrew Stanton', 'gender': 2, 'depa...   Andrew Stanton  \n",
              "3  [{'name': 'Alan Silvestri', 'gender': 2, 'depa...  Robert Zemeckis  \n",
              "4  [{'name': 'Thomas Newman', 'gender': 2, 'depar...       Sam Mendes  \n",
              "\n",
              "[5 rows x 21 columns]"
            ],
            "text/html": [
              "\n",
              "  <div id=\"df-676680e9-a82d-4f24-a6fd-d06758a0f851\">\n",
              "    <div class=\"colab-df-container\">\n",
              "      <div>\n",
              "<style scoped>\n",
              "    .dataframe tbody tr th:only-of-type {\n",
              "        vertical-align: middle;\n",
              "    }\n",
              "\n",
              "    .dataframe tbody tr th {\n",
              "        vertical-align: top;\n",
              "    }\n",
              "\n",
              "    .dataframe thead th {\n",
              "        text-align: right;\n",
              "    }\n",
              "</style>\n",
              "<table border=\"1\" class=\"dataframe\">\n",
              "  <thead>\n",
              "    <tr style=\"text-align: right;\">\n",
              "      <th></th>\n",
              "      <th>Movie_ID</th>\n",
              "      <th>Movie_Title</th>\n",
              "      <th>Movie_Genre</th>\n",
              "      <th>Movie_Language</th>\n",
              "      <th>Movie_Budget</th>\n",
              "      <th>Movie_Popularity</th>\n",
              "      <th>Movie_Release_Date</th>\n",
              "      <th>Movie_Revenue</th>\n",
              "      <th>Movie_Runtime</th>\n",
              "      <th>Movie_Vote</th>\n",
              "      <th>...</th>\n",
              "      <th>Movie_Homepage</th>\n",
              "      <th>Movie_Keywords</th>\n",
              "      <th>Movie_Overview</th>\n",
              "      <th>Movie_Production_House</th>\n",
              "      <th>Movie_Production_Country</th>\n",
              "      <th>Movie_Spoken_Language</th>\n",
              "      <th>Movie_Tagline</th>\n",
              "      <th>Movie_Cast</th>\n",
              "      <th>Movie_Crew</th>\n",
              "      <th>Movie_Director</th>\n",
              "    </tr>\n",
              "  </thead>\n",
              "  <tbody>\n",
              "    <tr>\n",
              "      <th>0</th>\n",
              "      <td>1</td>\n",
              "      <td>Four Rooms</td>\n",
              "      <td>Crime Comedy</td>\n",
              "      <td>en</td>\n",
              "      <td>4000000</td>\n",
              "      <td>22.876230</td>\n",
              "      <td>09-12-1995</td>\n",
              "      <td>4300000</td>\n",
              "      <td>98.0</td>\n",
              "      <td>6.5</td>\n",
              "      <td>...</td>\n",
              "      <td>NaN</td>\n",
              "      <td>hotel new year's eve witch bet hotel room</td>\n",
              "      <td>It's Ted the Bellhop's first night on the job....</td>\n",
              "      <td>[{\"name\": \"Miramax Films\", \"id\": 14}, {\"name\":...</td>\n",
              "      <td>[{\"iso_3166_1\": \"US\", \"name\": \"United States o...</td>\n",
              "      <td>[{\"iso_639_1\": \"en\", \"name\": \"English\"}]</td>\n",
              "      <td>Twelve outrageous guests. Four scandalous requ...</td>\n",
              "      <td>Tim Roth Antonio Banderas Jennifer Beals Madon...</td>\n",
              "      <td>[{'name': 'Allison Anders', 'gender': 1, 'depa...</td>\n",
              "      <td>Allison Anders</td>\n",
              "    </tr>\n",
              "    <tr>\n",
              "      <th>1</th>\n",
              "      <td>2</td>\n",
              "      <td>Star Wars</td>\n",
              "      <td>Adventure Action Science Fiction</td>\n",
              "      <td>en</td>\n",
              "      <td>11000000</td>\n",
              "      <td>126.393695</td>\n",
              "      <td>25-05-1977</td>\n",
              "      <td>775398007</td>\n",
              "      <td>121.0</td>\n",
              "      <td>8.1</td>\n",
              "      <td>...</td>\n",
              "      <td>http://www.starwars.com/films/star-wars-episod...</td>\n",
              "      <td>android galaxy hermit death star lightsaber</td>\n",
              "      <td>Princess Leia is captured and held hostage by ...</td>\n",
              "      <td>[{\"name\": \"Lucasfilm\", \"id\": 1}, {\"name\": \"Twe...</td>\n",
              "      <td>[{\"iso_3166_1\": \"US\", \"name\": \"United States o...</td>\n",
              "      <td>[{\"iso_639_1\": \"en\", \"name\": \"English\"}]</td>\n",
              "      <td>A long time ago in a galaxy far, far away...</td>\n",
              "      <td>Mark Hamill Harrison Ford Carrie Fisher Peter ...</td>\n",
              "      <td>[{'name': 'George Lucas', 'gender': 2, 'depart...</td>\n",
              "      <td>George Lucas</td>\n",
              "    </tr>\n",
              "    <tr>\n",
              "      <th>2</th>\n",
              "      <td>3</td>\n",
              "      <td>Finding Nemo</td>\n",
              "      <td>Animation Family</td>\n",
              "      <td>en</td>\n",
              "      <td>94000000</td>\n",
              "      <td>85.688789</td>\n",
              "      <td>30-05-2003</td>\n",
              "      <td>940335536</td>\n",
              "      <td>100.0</td>\n",
              "      <td>7.6</td>\n",
              "      <td>...</td>\n",
              "      <td>http://movies.disney.com/finding-nemo</td>\n",
              "      <td>father son relationship harbor underwater fish...</td>\n",
              "      <td>Nemo, an adventurous young clownfish, is unexp...</td>\n",
              "      <td>[{\"name\": \"Pixar Animation Studios\", \"id\": 3}]</td>\n",
              "      <td>[{\"iso_3166_1\": \"US\", \"name\": \"United States o...</td>\n",
              "      <td>[{\"iso_639_1\": \"en\", \"name\": \"English\"}]</td>\n",
              "      <td>There are 3.7 trillion fish in the ocean, they...</td>\n",
              "      <td>Albert Brooks Ellen DeGeneres Alexander Gould ...</td>\n",
              "      <td>[{'name': 'Andrew Stanton', 'gender': 2, 'depa...</td>\n",
              "      <td>Andrew Stanton</td>\n",
              "    </tr>\n",
              "    <tr>\n",
              "      <th>3</th>\n",
              "      <td>4</td>\n",
              "      <td>Forrest Gump</td>\n",
              "      <td>Comedy Drama Romance</td>\n",
              "      <td>en</td>\n",
              "      <td>55000000</td>\n",
              "      <td>138.133331</td>\n",
              "      <td>06-07-1994</td>\n",
              "      <td>677945399</td>\n",
              "      <td>142.0</td>\n",
              "      <td>8.2</td>\n",
              "      <td>...</td>\n",
              "      <td>NaN</td>\n",
              "      <td>vietnam veteran hippie mentally disabled runni...</td>\n",
              "      <td>A man with a low IQ has accomplished great thi...</td>\n",
              "      <td>[{\"name\": \"Paramount Pictures\", \"id\": 4}]</td>\n",
              "      <td>[{\"iso_3166_1\": \"US\", \"name\": \"United States o...</td>\n",
              "      <td>[{\"iso_639_1\": \"en\", \"name\": \"English\"}]</td>\n",
              "      <td>The world will never be the same, once you've ...</td>\n",
              "      <td>Tom Hanks Robin Wright Gary Sinise Mykelti Wil...</td>\n",
              "      <td>[{'name': 'Alan Silvestri', 'gender': 2, 'depa...</td>\n",
              "      <td>Robert Zemeckis</td>\n",
              "    </tr>\n",
              "    <tr>\n",
              "      <th>4</th>\n",
              "      <td>5</td>\n",
              "      <td>American Beauty</td>\n",
              "      <td>Drama</td>\n",
              "      <td>en</td>\n",
              "      <td>15000000</td>\n",
              "      <td>80.878605</td>\n",
              "      <td>15-09-1999</td>\n",
              "      <td>356296601</td>\n",
              "      <td>122.0</td>\n",
              "      <td>7.9</td>\n",
              "      <td>...</td>\n",
              "      <td>http://www.dreamworks.com/ab/</td>\n",
              "      <td>male nudity female nudity adultery midlife cri...</td>\n",
              "      <td>Lester Burnham, a depressed suburban father in...</td>\n",
              "      <td>[{\"name\": \"DreamWorks SKG\", \"id\": 27}, {\"name\"...</td>\n",
              "      <td>[{\"iso_3166_1\": \"US\", \"name\": \"United States o...</td>\n",
              "      <td>[{\"iso_639_1\": \"en\", \"name\": \"English\"}]</td>\n",
              "      <td>Look closer.</td>\n",
              "      <td>Kevin Spacey Annette Bening Thora Birch Wes Be...</td>\n",
              "      <td>[{'name': 'Thomas Newman', 'gender': 2, 'depar...</td>\n",
              "      <td>Sam Mendes</td>\n",
              "    </tr>\n",
              "  </tbody>\n",
              "</table>\n",
              "<p>5 rows × 21 columns</p>\n",
              "</div>\n",
              "      <button class=\"colab-df-convert\" onclick=\"convertToInteractive('df-676680e9-a82d-4f24-a6fd-d06758a0f851')\"\n",
              "              title=\"Convert this dataframe to an interactive table.\"\n",
              "              style=\"display:none;\">\n",
              "        \n",
              "  <svg xmlns=\"http://www.w3.org/2000/svg\" height=\"24px\"viewBox=\"0 0 24 24\"\n",
              "       width=\"24px\">\n",
              "    <path d=\"M0 0h24v24H0V0z\" fill=\"none\"/>\n",
              "    <path d=\"M18.56 5.44l.94 2.06.94-2.06 2.06-.94-2.06-.94-.94-2.06-.94 2.06-2.06.94zm-11 1L8.5 8.5l.94-2.06 2.06-.94-2.06-.94L8.5 2.5l-.94 2.06-2.06.94zm10 10l.94 2.06.94-2.06 2.06-.94-2.06-.94-.94-2.06-.94 2.06-2.06.94z\"/><path d=\"M17.41 7.96l-1.37-1.37c-.4-.4-.92-.59-1.43-.59-.52 0-1.04.2-1.43.59L10.3 9.45l-7.72 7.72c-.78.78-.78 2.05 0 2.83L4 21.41c.39.39.9.59 1.41.59.51 0 1.02-.2 1.41-.59l7.78-7.78 2.81-2.81c.8-.78.8-2.07 0-2.86zM5.41 20L4 18.59l7.72-7.72 1.47 1.35L5.41 20z\"/>\n",
              "  </svg>\n",
              "      </button>\n",
              "      \n",
              "  <style>\n",
              "    .colab-df-container {\n",
              "      display:flex;\n",
              "      flex-wrap:wrap;\n",
              "      gap: 12px;\n",
              "    }\n",
              "\n",
              "    .colab-df-convert {\n",
              "      background-color: #E8F0FE;\n",
              "      border: none;\n",
              "      border-radius: 50%;\n",
              "      cursor: pointer;\n",
              "      display: none;\n",
              "      fill: #1967D2;\n",
              "      height: 32px;\n",
              "      padding: 0 0 0 0;\n",
              "      width: 32px;\n",
              "    }\n",
              "\n",
              "    .colab-df-convert:hover {\n",
              "      background-color: #E2EBFA;\n",
              "      box-shadow: 0px 1px 2px rgba(60, 64, 67, 0.3), 0px 1px 3px 1px rgba(60, 64, 67, 0.15);\n",
              "      fill: #174EA6;\n",
              "    }\n",
              "\n",
              "    [theme=dark] .colab-df-convert {\n",
              "      background-color: #3B4455;\n",
              "      fill: #D2E3FC;\n",
              "    }\n",
              "\n",
              "    [theme=dark] .colab-df-convert:hover {\n",
              "      background-color: #434B5C;\n",
              "      box-shadow: 0px 1px 3px 1px rgba(0, 0, 0, 0.15);\n",
              "      filter: drop-shadow(0px 1px 2px rgba(0, 0, 0, 0.3));\n",
              "      fill: #FFFFFF;\n",
              "    }\n",
              "  </style>\n",
              "\n",
              "      <script>\n",
              "        const buttonEl =\n",
              "          document.querySelector('#df-676680e9-a82d-4f24-a6fd-d06758a0f851 button.colab-df-convert');\n",
              "        buttonEl.style.display =\n",
              "          google.colab.kernel.accessAllowed ? 'block' : 'none';\n",
              "\n",
              "        async function convertToInteractive(key) {\n",
              "          const element = document.querySelector('#df-676680e9-a82d-4f24-a6fd-d06758a0f851');\n",
              "          const dataTable =\n",
              "            await google.colab.kernel.invokeFunction('convertToInteractive',\n",
              "                                                     [key], {});\n",
              "          if (!dataTable) return;\n",
              "\n",
              "          const docLinkHtml = 'Like what you see? Visit the ' +\n",
              "            '<a target=\"_blank\" href=https://colab.research.google.com/notebooks/data_table.ipynb>data table notebook</a>'\n",
              "            + ' to learn more about interactive tables.';\n",
              "          element.innerHTML = '';\n",
              "          dataTable['output_type'] = 'display_data';\n",
              "          await google.colab.output.renderOutput(dataTable, element);\n",
              "          const docLink = document.createElement('div');\n",
              "          docLink.innerHTML = docLinkHtml;\n",
              "          element.appendChild(docLink);\n",
              "        }\n",
              "      </script>\n",
              "    </div>\n",
              "  </div>\n",
              "  "
            ]
          },
          "metadata": {},
          "execution_count": 5
        }
      ]
    },
    {
      "cell_type": "markdown",
      "source": [
        "## **Describe Data**"
      ],
      "metadata": {
        "id": "TBCD7nNKXth-"
      }
    },
    {
      "cell_type": "markdown",
      "source": [
        "the dataset consists of movie related information.we use this data for visualization,pre-processing."
      ],
      "metadata": {
        "id": "NLQXE8FyYLyd"
      }
    },
    {
      "cell_type": "markdown",
      "source": [
        "## **Data Visualization**"
      ],
      "metadata": {
        "id": "2epiQYkqeDtB"
      }
    },
    {
      "cell_type": "code",
      "source": [
        "df.info()"
      ],
      "metadata": {
        "colab": {
          "base_uri": "https://localhost:8080/"
        },
        "id": "RwlQTnQ69KB5",
        "outputId": "4830ec3e-9856-450b-f758-d3557b942a87"
      },
      "execution_count": null,
      "outputs": [
        {
          "output_type": "stream",
          "name": "stdout",
          "text": [
            "<class 'pandas.core.frame.DataFrame'>\n",
            "RangeIndex: 4760 entries, 0 to 4759\n",
            "Data columns (total 21 columns):\n",
            " #   Column                    Non-Null Count  Dtype  \n",
            "---  ------                    --------------  -----  \n",
            " 0   Movie_ID                  4760 non-null   int64  \n",
            " 1   Movie_Title               4760 non-null   object \n",
            " 2   Movie_Genre               4760 non-null   object \n",
            " 3   Movie_Language            4760 non-null   object \n",
            " 4   Movie_Budget              4760 non-null   int64  \n",
            " 5   Movie_Popularity          4760 non-null   float64\n",
            " 6   Movie_Release_Date        4760 non-null   object \n",
            " 7   Movie_Revenue             4760 non-null   int64  \n",
            " 8   Movie_Runtime             4758 non-null   float64\n",
            " 9   Movie_Vote                4760 non-null   float64\n",
            " 10  Movie_Vote_Count          4760 non-null   int64  \n",
            " 11  Movie_Homepage            1699 non-null   object \n",
            " 12  Movie_Keywords            4373 non-null   object \n",
            " 13  Movie_Overview            4757 non-null   object \n",
            " 14  Movie_Production_House    4760 non-null   object \n",
            " 15  Movie_Production_Country  4760 non-null   object \n",
            " 16  Movie_Spoken_Language     4760 non-null   object \n",
            " 17  Movie_Tagline             3942 non-null   object \n",
            " 18  Movie_Cast                4733 non-null   object \n",
            " 19  Movie_Crew                4760 non-null   object \n",
            " 20  Movie_Director            4738 non-null   object \n",
            "dtypes: float64(3), int64(4), object(14)\n",
            "memory usage: 781.1+ KB\n"
          ]
        }
      ]
    },
    {
      "cell_type": "markdown",
      "source": [
        "## **Data** **Preprocessing**"
      ],
      "metadata": {
        "id": "am0hPCXdYiL-"
      }
    },
    {
      "cell_type": "code",
      "source": [
        "df.shape"
      ],
      "metadata": {
        "colab": {
          "base_uri": "https://localhost:8080/"
        },
        "id": "-0wKp16m9N0c",
        "outputId": "9f5eb622-479f-45ab-88ac-aec5428dd506"
      },
      "execution_count": null,
      "outputs": [
        {
          "output_type": "execute_result",
          "data": {
            "text/plain": [
              "(4760, 21)"
            ]
          },
          "metadata": {},
          "execution_count": 7
        }
      ]
    },
    {
      "cell_type": "code",
      "source": [
        "df.columns"
      ],
      "metadata": {
        "colab": {
          "base_uri": "https://localhost:8080/"
        },
        "id": "k47c7hog9TPo",
        "outputId": "7bcf614b-70cc-4cd7-a196-00b92fd8bbb3"
      },
      "execution_count": null,
      "outputs": [
        {
          "output_type": "execute_result",
          "data": {
            "text/plain": [
              "Index(['Movie_ID', 'Movie_Title', 'Movie_Genre', 'Movie_Language',\n",
              "       'Movie_Budget', 'Movie_Popularity', 'Movie_Release_Date',\n",
              "       'Movie_Revenue', 'Movie_Runtime', 'Movie_Vote', 'Movie_Vote_Count',\n",
              "       'Movie_Homepage', 'Movie_Keywords', 'Movie_Overview',\n",
              "       'Movie_Production_House', 'Movie_Production_Country',\n",
              "       'Movie_Spoken_Language', 'Movie_Tagline', 'Movie_Cast', 'Movie_Crew',\n",
              "       'Movie_Director'],\n",
              "      dtype='object')"
            ]
          },
          "metadata": {},
          "execution_count": 8
        }
      ]
    },
    {
      "cell_type": "code",
      "source": [
        "df_features=df[['Movie_Genre','Movie_Keywords','Movie_Tagline','Movie_Cast','Movie_Director']].fillna('')"
      ],
      "metadata": {
        "id": "eRQQUbGO9WTq"
      },
      "execution_count": null,
      "outputs": []
    },
    {
      "cell_type": "code",
      "source": [
        "df_features.shape"
      ],
      "metadata": {
        "colab": {
          "base_uri": "https://localhost:8080/"
        },
        "id": "UkLDG1SV-JLK",
        "outputId": "cb423397-f840-4787-bb65-805e5aea528a"
      },
      "execution_count": null,
      "outputs": [
        {
          "output_type": "execute_result",
          "data": {
            "text/plain": [
              "(4760, 5)"
            ]
          },
          "metadata": {},
          "execution_count": 10
        }
      ]
    },
    {
      "cell_type": "code",
      "source": [
        "df_features"
      ],
      "metadata": {
        "colab": {
          "base_uri": "https://localhost:8080/",
          "height": 1000
        },
        "id": "hccrIGKK-TcU",
        "outputId": "5ecdd1d7-b018-4d4f-898a-c73cafe487ce"
      },
      "execution_count": null,
      "outputs": [
        {
          "output_type": "execute_result",
          "data": {
            "text/plain": [
              "                           Movie_Genre  \\\n",
              "0                         Crime Comedy   \n",
              "1     Adventure Action Science Fiction   \n",
              "2                     Animation Family   \n",
              "3                 Comedy Drama Romance   \n",
              "4                                Drama   \n",
              "...                                ...   \n",
              "4755                            Horror   \n",
              "4756               Comedy Family Drama   \n",
              "4757                    Thriller Drama   \n",
              "4758                            Family   \n",
              "4759                       Documentary   \n",
              "\n",
              "                                         Movie_Keywords  \\\n",
              "0             hotel new year's eve witch bet hotel room   \n",
              "1           android galaxy hermit death star lightsaber   \n",
              "2     father son relationship harbor underwater fish...   \n",
              "3     vietnam veteran hippie mentally disabled runni...   \n",
              "4     male nudity female nudity adultery midlife cri...   \n",
              "...                                                 ...   \n",
              "4755                                                      \n",
              "4756                                                      \n",
              "4757                     christian film sex trafficking   \n",
              "4758                                                      \n",
              "4759  music actors legendary perfomer classic hollyw...   \n",
              "\n",
              "                                          Movie_Tagline  \\\n",
              "0     Twelve outrageous guests. Four scandalous requ...   \n",
              "1          A long time ago in a galaxy far, far away...   \n",
              "2     There are 3.7 trillion fish in the ocean, they...   \n",
              "3     The world will never be the same, once you've ...   \n",
              "4                                          Look closer.   \n",
              "...                                                 ...   \n",
              "4755                The hot spot where Satan's waitin'.   \n",
              "4756           It’s better to stand out than to fit in.   \n",
              "4757           She never knew it could happen to her...   \n",
              "4758                                                      \n",
              "4759                                                      \n",
              "\n",
              "                                             Movie_Cast     Movie_Director  \n",
              "0     Tim Roth Antonio Banderas Jennifer Beals Madon...     Allison Anders  \n",
              "1     Mark Hamill Harrison Ford Carrie Fisher Peter ...       George Lucas  \n",
              "2     Albert Brooks Ellen DeGeneres Alexander Gould ...     Andrew Stanton  \n",
              "3     Tom Hanks Robin Wright Gary Sinise Mykelti Wil...    Robert Zemeckis  \n",
              "4     Kevin Spacey Annette Bening Thora Birch Wes Be...         Sam Mendes  \n",
              "...                                                 ...                ...  \n",
              "4755  Lisa Hart Carroll Michael Des Barres Paul Drak...         Pece Dingo  \n",
              "4756  Roni Akurati Brighton Sharbino Jason Lee Anjul...       Frank Lotito  \n",
              "4757  Nicole Smolen Kim Baldwin Ariana Stephens Brys...       Jaco Booyens  \n",
              "4758                                                                        \n",
              "4759                                    Tony Oppedisano  Simon Napier-Bell  \n",
              "\n",
              "[4760 rows x 5 columns]"
            ],
            "text/html": [
              "\n",
              "  <div id=\"df-d0824cda-6ab4-4d64-80a1-38d82a0027bc\">\n",
              "    <div class=\"colab-df-container\">\n",
              "      <div>\n",
              "<style scoped>\n",
              "    .dataframe tbody tr th:only-of-type {\n",
              "        vertical-align: middle;\n",
              "    }\n",
              "\n",
              "    .dataframe tbody tr th {\n",
              "        vertical-align: top;\n",
              "    }\n",
              "\n",
              "    .dataframe thead th {\n",
              "        text-align: right;\n",
              "    }\n",
              "</style>\n",
              "<table border=\"1\" class=\"dataframe\">\n",
              "  <thead>\n",
              "    <tr style=\"text-align: right;\">\n",
              "      <th></th>\n",
              "      <th>Movie_Genre</th>\n",
              "      <th>Movie_Keywords</th>\n",
              "      <th>Movie_Tagline</th>\n",
              "      <th>Movie_Cast</th>\n",
              "      <th>Movie_Director</th>\n",
              "    </tr>\n",
              "  </thead>\n",
              "  <tbody>\n",
              "    <tr>\n",
              "      <th>0</th>\n",
              "      <td>Crime Comedy</td>\n",
              "      <td>hotel new year's eve witch bet hotel room</td>\n",
              "      <td>Twelve outrageous guests. Four scandalous requ...</td>\n",
              "      <td>Tim Roth Antonio Banderas Jennifer Beals Madon...</td>\n",
              "      <td>Allison Anders</td>\n",
              "    </tr>\n",
              "    <tr>\n",
              "      <th>1</th>\n",
              "      <td>Adventure Action Science Fiction</td>\n",
              "      <td>android galaxy hermit death star lightsaber</td>\n",
              "      <td>A long time ago in a galaxy far, far away...</td>\n",
              "      <td>Mark Hamill Harrison Ford Carrie Fisher Peter ...</td>\n",
              "      <td>George Lucas</td>\n",
              "    </tr>\n",
              "    <tr>\n",
              "      <th>2</th>\n",
              "      <td>Animation Family</td>\n",
              "      <td>father son relationship harbor underwater fish...</td>\n",
              "      <td>There are 3.7 trillion fish in the ocean, they...</td>\n",
              "      <td>Albert Brooks Ellen DeGeneres Alexander Gould ...</td>\n",
              "      <td>Andrew Stanton</td>\n",
              "    </tr>\n",
              "    <tr>\n",
              "      <th>3</th>\n",
              "      <td>Comedy Drama Romance</td>\n",
              "      <td>vietnam veteran hippie mentally disabled runni...</td>\n",
              "      <td>The world will never be the same, once you've ...</td>\n",
              "      <td>Tom Hanks Robin Wright Gary Sinise Mykelti Wil...</td>\n",
              "      <td>Robert Zemeckis</td>\n",
              "    </tr>\n",
              "    <tr>\n",
              "      <th>4</th>\n",
              "      <td>Drama</td>\n",
              "      <td>male nudity female nudity adultery midlife cri...</td>\n",
              "      <td>Look closer.</td>\n",
              "      <td>Kevin Spacey Annette Bening Thora Birch Wes Be...</td>\n",
              "      <td>Sam Mendes</td>\n",
              "    </tr>\n",
              "    <tr>\n",
              "      <th>...</th>\n",
              "      <td>...</td>\n",
              "      <td>...</td>\n",
              "      <td>...</td>\n",
              "      <td>...</td>\n",
              "      <td>...</td>\n",
              "    </tr>\n",
              "    <tr>\n",
              "      <th>4755</th>\n",
              "      <td>Horror</td>\n",
              "      <td></td>\n",
              "      <td>The hot spot where Satan's waitin'.</td>\n",
              "      <td>Lisa Hart Carroll Michael Des Barres Paul Drak...</td>\n",
              "      <td>Pece Dingo</td>\n",
              "    </tr>\n",
              "    <tr>\n",
              "      <th>4756</th>\n",
              "      <td>Comedy Family Drama</td>\n",
              "      <td></td>\n",
              "      <td>It’s better to stand out than to fit in.</td>\n",
              "      <td>Roni Akurati Brighton Sharbino Jason Lee Anjul...</td>\n",
              "      <td>Frank Lotito</td>\n",
              "    </tr>\n",
              "    <tr>\n",
              "      <th>4757</th>\n",
              "      <td>Thriller Drama</td>\n",
              "      <td>christian film sex trafficking</td>\n",
              "      <td>She never knew it could happen to her...</td>\n",
              "      <td>Nicole Smolen Kim Baldwin Ariana Stephens Brys...</td>\n",
              "      <td>Jaco Booyens</td>\n",
              "    </tr>\n",
              "    <tr>\n",
              "      <th>4758</th>\n",
              "      <td>Family</td>\n",
              "      <td></td>\n",
              "      <td></td>\n",
              "      <td></td>\n",
              "      <td></td>\n",
              "    </tr>\n",
              "    <tr>\n",
              "      <th>4759</th>\n",
              "      <td>Documentary</td>\n",
              "      <td>music actors legendary perfomer classic hollyw...</td>\n",
              "      <td></td>\n",
              "      <td>Tony Oppedisano</td>\n",
              "      <td>Simon Napier-Bell</td>\n",
              "    </tr>\n",
              "  </tbody>\n",
              "</table>\n",
              "<p>4760 rows × 5 columns</p>\n",
              "</div>\n",
              "      <button class=\"colab-df-convert\" onclick=\"convertToInteractive('df-d0824cda-6ab4-4d64-80a1-38d82a0027bc')\"\n",
              "              title=\"Convert this dataframe to an interactive table.\"\n",
              "              style=\"display:none;\">\n",
              "        \n",
              "  <svg xmlns=\"http://www.w3.org/2000/svg\" height=\"24px\"viewBox=\"0 0 24 24\"\n",
              "       width=\"24px\">\n",
              "    <path d=\"M0 0h24v24H0V0z\" fill=\"none\"/>\n",
              "    <path d=\"M18.56 5.44l.94 2.06.94-2.06 2.06-.94-2.06-.94-.94-2.06-.94 2.06-2.06.94zm-11 1L8.5 8.5l.94-2.06 2.06-.94-2.06-.94L8.5 2.5l-.94 2.06-2.06.94zm10 10l.94 2.06.94-2.06 2.06-.94-2.06-.94-.94-2.06-.94 2.06-2.06.94z\"/><path d=\"M17.41 7.96l-1.37-1.37c-.4-.4-.92-.59-1.43-.59-.52 0-1.04.2-1.43.59L10.3 9.45l-7.72 7.72c-.78.78-.78 2.05 0 2.83L4 21.41c.39.39.9.59 1.41.59.51 0 1.02-.2 1.41-.59l7.78-7.78 2.81-2.81c.8-.78.8-2.07 0-2.86zM5.41 20L4 18.59l7.72-7.72 1.47 1.35L5.41 20z\"/>\n",
              "  </svg>\n",
              "      </button>\n",
              "      \n",
              "  <style>\n",
              "    .colab-df-container {\n",
              "      display:flex;\n",
              "      flex-wrap:wrap;\n",
              "      gap: 12px;\n",
              "    }\n",
              "\n",
              "    .colab-df-convert {\n",
              "      background-color: #E8F0FE;\n",
              "      border: none;\n",
              "      border-radius: 50%;\n",
              "      cursor: pointer;\n",
              "      display: none;\n",
              "      fill: #1967D2;\n",
              "      height: 32px;\n",
              "      padding: 0 0 0 0;\n",
              "      width: 32px;\n",
              "    }\n",
              "\n",
              "    .colab-df-convert:hover {\n",
              "      background-color: #E2EBFA;\n",
              "      box-shadow: 0px 1px 2px rgba(60, 64, 67, 0.3), 0px 1px 3px 1px rgba(60, 64, 67, 0.15);\n",
              "      fill: #174EA6;\n",
              "    }\n",
              "\n",
              "    [theme=dark] .colab-df-convert {\n",
              "      background-color: #3B4455;\n",
              "      fill: #D2E3FC;\n",
              "    }\n",
              "\n",
              "    [theme=dark] .colab-df-convert:hover {\n",
              "      background-color: #434B5C;\n",
              "      box-shadow: 0px 1px 3px 1px rgba(0, 0, 0, 0.15);\n",
              "      filter: drop-shadow(0px 1px 2px rgba(0, 0, 0, 0.3));\n",
              "      fill: #FFFFFF;\n",
              "    }\n",
              "  </style>\n",
              "\n",
              "      <script>\n",
              "        const buttonEl =\n",
              "          document.querySelector('#df-d0824cda-6ab4-4d64-80a1-38d82a0027bc button.colab-df-convert');\n",
              "        buttonEl.style.display =\n",
              "          google.colab.kernel.accessAllowed ? 'block' : 'none';\n",
              "\n",
              "        async function convertToInteractive(key) {\n",
              "          const element = document.querySelector('#df-d0824cda-6ab4-4d64-80a1-38d82a0027bc');\n",
              "          const dataTable =\n",
              "            await google.colab.kernel.invokeFunction('convertToInteractive',\n",
              "                                                     [key], {});\n",
              "          if (!dataTable) return;\n",
              "\n",
              "          const docLinkHtml = 'Like what you see? Visit the ' +\n",
              "            '<a target=\"_blank\" href=https://colab.research.google.com/notebooks/data_table.ipynb>data table notebook</a>'\n",
              "            + ' to learn more about interactive tables.';\n",
              "          element.innerHTML = '';\n",
              "          dataTable['output_type'] = 'display_data';\n",
              "          await google.colab.output.renderOutput(dataTable, element);\n",
              "          const docLink = document.createElement('div');\n",
              "          docLink.innerHTML = docLinkHtml;\n",
              "          element.appendChild(docLink);\n",
              "        }\n",
              "      </script>\n",
              "    </div>\n",
              "  </div>\n",
              "  "
            ]
          },
          "metadata": {},
          "execution_count": 11
        }
      ]
    },
    {
      "cell_type": "markdown",
      "source": [
        "## **Define feature variable(X)**"
      ],
      "metadata": {
        "id": "DSjnCOJ8Yyg4"
      }
    },
    {
      "cell_type": "code",
      "source": [
        "X=df_features['Movie_Genre']+''+df_features['Movie_Keywords']"
      ],
      "metadata": {
        "id": "rxKZZMBf-atJ"
      },
      "execution_count": null,
      "outputs": []
    },
    {
      "cell_type": "code",
      "source": [
        "X"
      ],
      "metadata": {
        "colab": {
          "base_uri": "https://localhost:8080/"
        },
        "id": "ZOiPcE3n-16d",
        "outputId": "27c49a34-3d46-4618-d866-e7ab4150c272"
      },
      "execution_count": null,
      "outputs": [
        {
          "output_type": "execute_result",
          "data": {
            "text/plain": [
              "0       Crime Comedyhotel new year's eve witch bet hot...\n",
              "1       Adventure Action Science Fictionandroid galaxy...\n",
              "2       Animation Familyfather son relationship harbor...\n",
              "3       Comedy Drama Romancevietnam veteran hippie men...\n",
              "4       Dramamale nudity female nudity adultery midlif...\n",
              "                              ...                        \n",
              "4755                                               Horror\n",
              "4756                                  Comedy Family Drama\n",
              "4757         Thriller Dramachristian film sex trafficking\n",
              "4758                                               Family\n",
              "4759    Documentarymusic actors legendary perfomer cla...\n",
              "Length: 4760, dtype: object"
            ]
          },
          "metadata": {},
          "execution_count": 14
        }
      ]
    },
    {
      "cell_type": "code",
      "source": [
        "X.shape"
      ],
      "metadata": {
        "colab": {
          "base_uri": "https://localhost:8080/"
        },
        "id": "-15Wyfjp-39D",
        "outputId": "c565fa7e-b11d-4e56-c996-c8fc3f27f339"
      },
      "execution_count": null,
      "outputs": [
        {
          "output_type": "execute_result",
          "data": {
            "text/plain": [
              "(4760,)"
            ]
          },
          "metadata": {},
          "execution_count": 15
        }
      ]
    },
    {
      "cell_type": "markdown",
      "source": [
        "## **Modelling**"
      ],
      "metadata": {
        "id": "16BdtPOSZL2X"
      }
    },
    {
      "cell_type": "markdown",
      "source": [
        "**Get Feature Text Conversion to Tokens**"
      ],
      "metadata": {
        "id": "SPOodApU_IGW"
      }
    },
    {
      "cell_type": "code",
      "source": [
        "from sklearn.feature_extraction.text import TfidfVectorizer"
      ],
      "metadata": {
        "id": "arLnb3mQ_LhE"
      },
      "execution_count": null,
      "outputs": []
    },
    {
      "cell_type": "code",
      "source": [
        "tfidf=TfidfVectorizer()"
      ],
      "metadata": {
        "id": "_WFTP2jv_VqL"
      },
      "execution_count": null,
      "outputs": []
    },
    {
      "cell_type": "code",
      "source": [
        "X=tfidf.fit_transform(X)"
      ],
      "metadata": {
        "id": "VkCBJNRk_b9L"
      },
      "execution_count": null,
      "outputs": []
    },
    {
      "cell_type": "code",
      "source": [
        "X.shape"
      ],
      "metadata": {
        "colab": {
          "base_uri": "https://localhost:8080/"
        },
        "id": "GQa-UxIq_ilo",
        "outputId": "359a899c-e0c7-4881-b8c6-f664c8f017a5"
      },
      "execution_count": null,
      "outputs": [
        {
          "output_type": "execute_result",
          "data": {
            "text/plain": [
              "(4760, 6759)"
            ]
          },
          "metadata": {},
          "execution_count": 19
        }
      ]
    },
    {
      "cell_type": "code",
      "source": [
        "print(X)"
      ],
      "metadata": {
        "colab": {
          "base_uri": "https://localhost:8080/"
        },
        "id": "5hKy5OCz_kdr",
        "outputId": "16886f2f-7b80-4136-fc1c-c4e70a0de2bb"
      },
      "execution_count": null,
      "outputs": [
        {
          "output_type": "stream",
          "name": "stdout",
          "text": [
            "  (0, 5257)\t0.34403014552435945\n",
            "  (0, 3402)\t0.3104806029941325\n",
            "  (0, 557)\t0.39066092096248006\n",
            "  (0, 6693)\t0.3407457280555513\n",
            "  (0, 2267)\t0.3646645923723735\n",
            "  (0, 6739)\t0.3646645923723735\n",
            "  (0, 4324)\t0.25063306645162614\n",
            "  (0, 1101)\t0.39993941224984486\n",
            "  (0, 1385)\t0.16671067887094734\n",
            "  (1, 3772)\t0.4469925807359402\n",
            "  (1, 5623)\t0.31000715323078987\n",
            "  (1, 1606)\t0.26594265214908536\n",
            "  (1, 3130)\t0.4686471256925658\n",
            "  (1, 2938)\t0.43162843658013655\n",
            "  (1, 2652)\t0.3946097474677074\n",
            "  (1, 5357)\t0.17035083523721598\n",
            "  (1, 36)\t0.1340381937155212\n",
            "  (1, 136)\t0.15726401546156465\n",
            "  (2, 4844)\t0.37830380659104706\n",
            "  (2, 500)\t0.3242956647727147\n",
            "  (2, 3029)\t0.30105886724339553\n",
            "  (2, 5802)\t0.3608237105059974\n",
            "  (2, 2831)\t0.30481003398957446\n",
            "  (2, 6400)\t0.3309412888746964\n",
            "  (2, 3090)\t0.34842138495974617\n",
            "  :\t:\n",
            "  (4754, 5792)\t0.4273453412179133\n",
            "  (4754, 2323)\t0.40607516668940613\n",
            "  (4754, 2815)\t0.40915944882091115\n",
            "  (4754, 2333)\t0.2259192821251525\n",
            "  (4754, 306)\t0.2578639111805355\n",
            "  (4754, 36)\t0.15865538251138006\n",
            "  (4754, 136)\t0.18614681261137367\n",
            "  (4755, 3271)\t1.0\n",
            "  (4756, 2333)\t0.7521245706808317\n",
            "  (4756, 1790)\t0.4444659125544014\n",
            "  (4756, 975)\t0.4865785473645111\n",
            "  (4757, 1853)\t0.5859637079477079\n",
            "  (4757, 6288)\t0.5859637079477079\n",
            "  (4757, 5415)\t0.3961979041178979\n",
            "  (4757, 2816)\t0.3031951030295033\n",
            "  (4757, 5875)\t0.25375779043777236\n",
            "  (4758, 2333)\t1.0\n",
            "  (4759, 5477)\t0.3637224667758785\n",
            "  (4759, 2900)\t0.3637224667758785\n",
            "  (4759, 4526)\t0.3637224667758785\n",
            "  (4759, 3746)\t0.3637224667758785\n",
            "  (4759, 120)\t0.3637224667758785\n",
            "  (4759, 1737)\t0.3637224667758785\n",
            "  (4759, 3241)\t0.2930614377364057\n",
            "  (4759, 915)\t0.3469161234170165\n"
          ]
        }
      ]
    },
    {
      "cell_type": "markdown",
      "source": [
        "Get Similarity Score Using Cosine Similarity"
      ],
      "metadata": {
        "id": "vUECkgTd_sS6"
      }
    },
    {
      "cell_type": "code",
      "source": [
        "from sklearn.metrics.pairwise import cosine_similarity"
      ],
      "metadata": {
        "id": "G-RdzuLr_ykf"
      },
      "execution_count": null,
      "outputs": []
    },
    {
      "cell_type": "code",
      "source": [
        "Similarity_Score=cosine_similarity(X)"
      ],
      "metadata": {
        "id": "AfY2nL58_9Nd"
      },
      "execution_count": null,
      "outputs": []
    },
    {
      "cell_type": "code",
      "source": [
        "Similarity_Score.shape"
      ],
      "metadata": {
        "colab": {
          "base_uri": "https://localhost:8080/"
        },
        "id": "io0htIQZAJjC",
        "outputId": "b9d937a0-142c-457d-b700-2cc65588f0d3"
      },
      "execution_count": null,
      "outputs": [
        {
          "output_type": "execute_result",
          "data": {
            "text/plain": [
              "(4760, 4760)"
            ]
          },
          "metadata": {},
          "execution_count": 24
        }
      ]
    },
    {
      "cell_type": "markdown",
      "source": [
        "## **Model Evaluation**"
      ],
      "metadata": {
        "id": "7pSDmgbDZVLE"
      }
    },
    {
      "cell_type": "markdown",
      "source": [
        "Get Movie Names as Input from User and Validate for Closest Spelling"
      ],
      "metadata": {
        "id": "4iSEtsemANaf"
      }
    },
    {
      "cell_type": "code",
      "source": [
        "Favourite_Movie_Name=input(\"Enter your favourite movie name:\")"
      ],
      "metadata": {
        "colab": {
          "base_uri": "https://localhost:8080/"
        },
        "id": "DblMjVTrAVPZ",
        "outputId": "658c5438-640b-48bc-d520-763613f3df1d"
      },
      "execution_count": null,
      "outputs": [
        {
          "name": "stdout",
          "output_type": "stream",
          "text": [
            "Enter your favourite movie name:avtaar\n"
          ]
        }
      ]
    },
    {
      "cell_type": "code",
      "source": [
        "All_Movies_Title_List=df['Movie_Title'].tolist()"
      ],
      "metadata": {
        "id": "-LrZe6shAfkn"
      },
      "execution_count": null,
      "outputs": []
    },
    {
      "cell_type": "code",
      "source": [
        "import difflib"
      ],
      "metadata": {
        "id": "gLK_Vl9aApky"
      },
      "execution_count": null,
      "outputs": []
    },
    {
      "cell_type": "code",
      "source": [
        "Movie_Recommendation=difflib.get_close_matches(Favourite_Movie_Name, All_Movies_Title_List)\n",
        "print(Movie_Recommendation)"
      ],
      "metadata": {
        "colab": {
          "base_uri": "https://localhost:8080/"
        },
        "id": "LR4nZ0brAsP1",
        "outputId": "4d1b8437-51d1-475a-e10b-637dd1897457"
      },
      "execution_count": null,
      "outputs": [
        {
          "output_type": "stream",
          "name": "stdout",
          "text": [
            "['Avatar', 'Gattaca']\n"
          ]
        }
      ]
    },
    {
      "cell_type": "code",
      "source": [
        "Close_Match = Movie_Recommendation[0]\n",
        "print(Close_Match)"
      ],
      "metadata": {
        "colab": {
          "base_uri": "https://localhost:8080/"
        },
        "id": "YSAtBoevCuxm",
        "outputId": "c42c7b6f-cd8c-4f87-aa65-afae7dc7f039"
      },
      "execution_count": null,
      "outputs": [
        {
          "output_type": "stream",
          "name": "stdout",
          "text": [
            "Avatar\n"
          ]
        }
      ]
    },
    {
      "cell_type": "code",
      "source": [
        "Index_of_Close_Match_Movie= df[df.Movie_Title == Close_Match]['Movie_ID'].values[0]\n",
        "print(Index_of_Close_Match_Movie)"
      ],
      "metadata": {
        "colab": {
          "base_uri": "https://localhost:8080/"
        },
        "id": "M4Vd3CnZC7-U",
        "outputId": "cd3e5322-8300-48ea-c418-8ac11cc05aa5"
      },
      "execution_count": null,
      "outputs": [
        {
          "output_type": "stream",
          "name": "stdout",
          "text": [
            "2692\n"
          ]
        }
      ]
    },
    {
      "cell_type": "code",
      "source": [
        "Recommendation_Score = list(enumerate(Similarity_Score[Index_of_Close_Match_Movie]))\n",
        "print(Recommendation_Score)"
      ],
      "metadata": {
        "colab": {
          "base_uri": "https://localhost:8080/"
        },
        "id": "Czx9r5RsDeF-",
        "outputId": "a8d867d5-837a-4c6c-89b2-bada802cd82e"
      },
      "execution_count": null,
      "outputs": [
        {
          "output_type": "stream",
          "name": "stdout",
          "text": [
            "[(0, 0.026067010937601828), (1, 0.0), (2, 0.0), (3, 0.010615959905050012), (4, 0.0), (5, 0.041480760699494815), (6, 0.0), (7, 0.010333718109054537), (8, 0.011284934048368141), (9, 0.0), (10, 0.0), (11, 0.0099560259969793), (12, 0.011782568656532664), (13, 0.0), (14, 0.0), (15, 0.011524202628601547), (16, 0.01146120749449762), (17, 0.0), (18, 0.010980794856834628), (19, 0.0), (20, 0.0), (21, 0.04444323241234227), (22, 0.0), (23, 0.010178681861611754), (24, 0.0), (25, 0.009908659053443274), (26, 0.0), (27, 0.0), (28, 0.0), (29, 0.011550110788938422), (30, 0.0), (31, 0.010023744064538119), (32, 0.01089611151341268), (33, 0.012684601305014922), (34, 0.011753590728607847), (35, 0.0), (36, 0.0), (37, 0.0), (38, 0.0), (39, 0.0), (40, 0.0), (41, 0.010735881309553727), (42, 0.0), (43, 0.026775648228266082), (44, 0.01115375078536746), (45, 0.14523451783366542), (46, 0.0), (47, 0.0), (48, 0.04144811965465734), (49, 0.0), (50, 0.0), (51, 0.03585031683897837), (52, 0.0292272252468516), (53, 0.0), (54, 0.0), (55, 0.0), (56, 0.0), (57, 0.0), (58, 0.0), (59, 0.0), (60, 0.00931724504798838), (61, 0.00978673289289993), (62, 0.012088295104805245), (63, 0.011348297189497496), (64, 0.0), (65, 0.08871198210739363), (66, 0.0), (67, 0.08835621034123187), (68, 0.06356880377947413), (69, 0.0), (70, 0.0), (71, 0.010207558730536694), (72, 0.0), (73, 0.0), (74, 0.013730930208807075), (75, 0.0), (76, 0.0), (77, 0.0), (78, 0.0), (79, 0.010446317726240351), (80, 0.0), (81, 0.0), (82, 0.0), (83, 0.02689609464811394), (84, 0.0), (85, 0.034811199626958785), (86, 0.028120080749635214), (87, 0.03933436072335906), (88, 0.0), (89, 0.03460551577763845), (90, 0.0), (91, 0.0), (92, 0.010391030295090063), (93, 0.0), (94, 0.0), (95, 0.0), (96, 0.01070056174297446), (97, 0.009493010385465737), (98, 0.0), (99, 0.0), (100, 0.0), (101, 0.0), (102, 0.0), (103, 0.010575759268171094), (104, 0.011678620421225899), (105, 0.03623325314070515), (106, 0.022369049925305147), (107, 0.01123670632529719), (108, 0.021434904897359667), (109, 0.03509317499878157), (110, 0.0), (111, 0.011034853111619107), (112, 0.03953274504869416), (113, 0.009155429656926816), (114, 0.010369126842314941), (115, 0.0), (116, 0.00858471401878177), (117, 0.0), (118, 0.0), (119, 0.009098819798403811), (120, 0.034012256461571216), (121, 0.01262958892182081), (122, 0.025270233347909097), (123, 0.05385662485921234), (124, 0.04680348896002745), (125, 0.0), (126, 0.011752183808864796), (127, 0.011528651051364129), (128, 0.0), (129, 0.010530596941999606), (130, 0.0), (131, 0.0), (132, 0.0123402574890579), (133, 0.0), (134, 0.0), (135, 0.0), (136, 0.008468771483150166), (137, 0.029068257925012143), (138, 0.0), (139, 0.0), (140, 0.0), (141, 0.0), (142, 0.011515299108251002), (143, 0.0), (144, 0.025325314706222346), (145, 0.031209974118277202), (146, 0.0), (147, 0.032155578315241365), (148, 0.029726482431103696), (149, 0.0370928441195751), (150, 0.0), (151, 0.0), (152, 0.0), (153, 0.0), (154, 0.0), (155, 0.0), (156, 0.010682177860444324), (157, 0.0), (158, 0.0), (159, 0.0), (160, 0.0), (161, 0.010844260348287022), (162, 0.028519811752756016), (163, 0.0), (164, 0.0), (165, 0.010269729056247382), (166, 0.034451566758805716), (167, 0.0), (168, 0.0), (169, 0.011882111223856042), (170, 0.02426250227131481), (171, 0.0), (172, 0.13102151611174312), (173, 0.01032879669829734), (174, 0.010275302709784252), (175, 0.0), (176, 0.0), (177, 0.0), (178, 0.012644088956335179), (179, 0.0993617134658499), (180, 0.025084051173786058), (181, 0.0477952769218086), (182, 0.0), (183, 0.011906715113045916), (184, 0.010976453642591828), (185, 0.0), (186, 0.0), (187, 0.0), (188, 0.0), (189, 0.0), (190, 0.011610722839732066), (191, 0.0), (192, 0.011496475632438658), (193, 0.011886763687919027), (194, 0.008707849701946067), (195, 0.010672187094238103), (196, 0.0), (197, 0.010718486831057208), (198, 0.01322652675424468), (199, 0.03718559057127462), (200, 0.010224234561939115), (201, 0.027067515597459853), (202, 0.011576157173021344), (203, 0.0), (204, 0.01110166321299882), (205, 0.0), (206, 0.0103815604767506), (207, 0.029858214162937123), (208, 0.010747891974007407), (209, 0.029457728932726496), (210, 0.04531530718333439), (211, 0.0), (212, 0.0), (213, 0.099974069251437), (214, 0.0), (215, 0.010852646925845028), (216, 0.011268488927211686), (217, 0.0), (218, 0.01132152436544518), (219, 0.0), (220, 0.0), (221, 0.012804035402399274), (222, 0.011912937348036548), (223, 0.0), (224, 0.03339767393713959), (225, 0.0), (226, 0.0), (227, 0.010037982933410444), (228, 0.011826787301209117), (229, 0.0), (230, 0.0), (231, 0.0), (232, 0.0), (233, 0.0), (234, 0.0), (235, 0.0), (236, 0.0446998885132365), (237, 0.0), (238, 0.011697749889816261), (239, 0.0), (240, 0.0), (241, 0.0), (242, 0.011237270958207307), (243, 0.010061771391652957), (244, 0.022667202706441177), (245, 0.0), (246, 0.0), (247, 0.0), (248, 0.0), (249, 0.0), (250, 0.0), (251, 0.034102437741826), (252, 0.009637878092773213), (253, 0.0), (254, 0.025816572834514155), (255, 0.011458251579070202), (256, 0.01182417908021681), (257, 0.0), (258, 0.0), (259, 0.0), (260, 0.0), (261, 0.0), (262, 0.0), (263, 0.0), (264, 0.0), (265, 0.0), (266, 0.012032890922287926), (267, 0.011155042984452983), (268, 0.0), (269, 0.010225789412598276), (270, 0.03746039702850242), (271, 0.009374010793483892), (272, 0.0), (273, 0.0), (274, 0.012688647505165174), (275, 0.0), (276, 0.03257099167528971), (277, 0.0), (278, 0.0), (279, 0.0), (280, 0.009394924228082125), (281, 0.026322390635176468), (282, 0.01090582276870076), (283, 0.011385471752842852), (284, 0.0), (285, 0.025538952847696077), (286, 0.011360792349096828), (287, 0.02894479748595957), (288, 0.0), (289, 0.0), (290, 0.0), (291, 0.0), (292, 0.0), (293, 0.0), (294, 0.0), (295, 0.0), (296, 0.01015055879645274), (297, 0.0), (298, 0.0), (299, 0.0), (300, 0.0), (301, 0.0), (302, 0.0), (303, 0.0), (304, 0.0), (305, 0.0), (306, 0.0), (307, 0.010065187638434916), (308, 0.0), (309, 0.010767984238759677), (310, 0.0), (311, 0.0), (312, 0.0), (313, 0.0), (314, 0.0), (315, 0.0), (316, 0.0), (317, 0.0), (318, 0.011636978925370326), (319, 0.0), (320, 0.0), (321, 0.0), (322, 0.0), (323, 0.0), (324, 0.0), (325, 0.009379284210052675), (326, 0.013381592993435458), (327, 0.0), (328, 0.08849734006165454), (329, 0.0), (330, 0.010998052715018141), (331, 0.0), (332, 0.0), (333, 0.021327547818453963), (334, 0.0), (335, 0.0), (336, 0.0), (337, 0.0), (338, 0.0), (339, 0.0), (340, 0.0), (341, 0.0), (342, 0.013083864755371604), (343, 0.01018919140425662), (344, 0.0), (345, 0.0), (346, 0.0), (347, 0.0), (348, 0.010842924068683162), (349, 0.010047401594525366), (350, 0.011404470861619088), (351, 0.011343604978168548), (352, 0.0), (353, 0.010715864992568542), (354, 0.0), (355, 0.012076424419377594), (356, 0.011247211565119106), (357, 0.010181207938131712), (358, 0.01184331005789765), (359, 0.009311384766330635), (360, 0.0256560793048458), (361, 0.0), (362, 0.0), (363, 0.0), (364, 0.010748719831161766), (365, 0.0), (366, 0.0), (367, 0.0), (368, 0.028016198883981182), (369, 0.02639783968038638), (370, 0.034734170915946244), (371, 0.011715451531788707), (372, 0.010730722318844697), (373, 0.010547926206708183), (374, 0.011882412097071849), (375, 0.0), (376, 0.0), (377, 0.0), (378, 0.0), (379, 0.0), (380, 0.0), (381, 0.09927963442729264), (382, 0.0), (383, 0.0), (384, 0.0), (385, 0.026831676344685484), (386, 0.0), (387, 0.0946144348863828), (388, 0.012804315806208378), (389, 0.0), (390, 0.0), (391, 0.0), (392, 0.0), (393, 0.0), (394, 0.0), (395, 0.0), (396, 0.03252508712424392), (397, 0.0), (398, 0.0), (399, 0.0), (400, 0.010069830032722757), (401, 0.0), (402, 0.0), (403, 0.00935777014300333), (404, 0.0), (405, 0.0), (406, 0.0113456954009005), (407, 0.01115613883354428), (408, 0.031157428630936828), (409, 0.0), (410, 0.009388584471831092), (411, 0.0), (412, 0.0), (413, 0.0), (414, 0.0), (415, 0.0), (416, 0.00926619378424474), (417, 0.0), (418, 0.031215913614567346), (419, 0.011845210293776155), (420, 0.0), (421, 0.0), (422, 0.0), (423, 0.0), (424, 0.0), (425, 0.0), (426, 0.0), (427, 0.0), (428, 0.01099194952736427), (429, 0.048779346920423475), (430, 0.011217367228449753), (431, 0.01221335706023366), (432, 0.0), (433, 0.010211571454080184), (434, 0.014188461035452956), (435, 0.02555291582064725), (436, 0.0134907688925629), (437, 0.00983959294860433), (438, 0.0), (439, 0.0), (440, 0.0), (441, 0.010395205023892741), (442, 0.009599850637660008), (443, 0.01336014638230693), (444, 0.0), (445, 0.0), (446, 0.0), (447, 0.028988086139159944), (448, 0.011499454553478474), (449, 0.0), (450, 0.0498754560294892), (451, 0.0), (452, 0.009689995974841433), (453, 0.010996082268588957), (454, 0.0), (455, 0.14532740884951995), (456, 0.012663394437006103), (457, 0.013239695609652772), (458, 0.05852312662498016), (459, 0.0), (460, 0.0), (461, 0.026257423981553573), (462, 0.0), (463, 0.009688291772300859), (464, 0.013504974739543521), (465, 0.009841697562374244), (466, 0.0), (467, 0.0), (468, 0.0), (469, 0.0), (470, 0.012861945364356364), (471, 0.010825761726560683), (472, 0.010535350062140217), (473, 0.0), (474, 0.0), (475, 0.011802925145721592), (476, 0.0), (477, 0.0), (478, 0.0), (479, 0.012464462564480647), (480, 0.011737846574254723), (481, 0.013895059180901477), (482, 0.009841008626170619), (483, 0.03069974366450471), (484, 0.0), (485, 0.03281213801558308), (486, 0.0), (487, 0.0), (488, 0.009467719377617739), (489, 0.0), (490, 0.01419075011189757), (491, 0.0), (492, 0.0), (493, 0.011277717510211449), (494, 0.030263017251853087), (495, 0.012727039489383703), (496, 0.009571032647519606), (497, 0.0), (498, 0.0), (499, 0.0), (500, 0.03392778083217942), (501, 0.03146235856159196), (502, 0.036554795645263274), (503, 0.0), (504, 0.011486526668576552), (505, 0.0), (506, 0.0), (507, 0.0), (508, 0.0), (509, 0.010243923624456175), (510, 0.0119926047338122), (511, 0.0), (512, 0.0), (513, 0.0), (514, 0.0), (515, 0.029885156271285077), (516, 0.0), (517, 0.0), (518, 0.0), (519, 0.01083086718332839), (520, 0.0), (521, 0.0), (522, 0.012113684173420741), (523, 0.0), (524, 0.0), (525, 0.0), (526, 0.0), (527, 0.0), (528, 0.0), (529, 0.0), (530, 0.03202976140965935), (531, 0.0), (532, 0.0), (533, 0.039625318052224995), (534, 0.04006439033015012), (535, 0.0), (536, 0.0), (537, 0.0), (538, 0.0), (539, 0.0), (540, 0.0), (541, 0.0), (542, 0.03511344056011488), (543, 0.03564412677283697), (544, 0.028515104966776558), (545, 0.0), (546, 0.0), (547, 0.04010346378566143), (548, 0.0), (549, 0.0), (550, 0.0), (551, 0.011632974560688097), (552, 0.0), (553, 0.0), (554, 0.0), (555, 0.0), (556, 0.0), (557, 0.0), (558, 0.011724055456830461), (559, 0.0), (560, 0.0), (561, 0.0), (562, 0.010336453930619147), (563, 0.013933972675195586), (564, 0.00981307143208729), (565, 0.0), (566, 0.03214435815877738), (567, 0.0), (568, 0.0), (569, 0.0), (570, 0.0), (571, 0.009689079912951369), (572, 0.0), (573, 0.0), (574, 0.0), (575, 0.0), (576, 0.01049683743285308), (577, 0.0), (578, 0.010443267172852525), (579, 0.013172707826275318), (580, 0.011815697727288582), (581, 0.0), (582, 0.0), (583, 0.0), (584, 0.046875877558221604), (585, 0.0), (586, 0.0), (587, 0.01405390708201936), (588, 0.010376379270324698), (589, 0.013347414355946052), (590, 0.011069918073623878), (591, 0.0), (592, 0.0), (593, 0.0), (594, 0.009075903709371117), (595, 0.0), (596, 0.010772517396539925), (597, 0.0), (598, 0.00898577879498541), (599, 0.0), (600, 0.0), (601, 0.0), (602, 0.0), (603, 0.0), (604, 0.009176483690880474), (605, 0.013707555094688073), (606, 0.012338993838589324), (607, 0.01089696906161637), (608, 0.010502256830714398), (609, 0.01072632875523297), (610, 0.0), (611, 0.0), (612, 0.017295781083049067), (613, 0.02594701279314002), (614, 0.01222198845024235), (615, 0.0), (616, 0.011155779351901655), (617, 0.009614386894577436), (618, 0.0), (619, 0.0), (620, 0.0), (621, 0.0), (622, 0.04086551542790364), (623, 0.014328616802727246), (624, 0.0), (625, 0.0), (626, 0.01209072917873243), (627, 0.011081031337452646), (628, 0.20891131115041606), (629, 0.028169904155881012), (630, 0.0), (631, 0.0), (632, 0.0), (633, 0.0), (634, 0.0), (635, 0.0), (636, 0.010243022675775156), (637, 0.013807082588108775), (638, 0.011940371399484846), (639, 0.0), (640, 0.0), (641, 0.011027618595187586), (642, 0.010192217384833235), (643, 0.04719406805177484), (644, 0.01303993731417365), (645, 0.0), (646, 0.0), (647, 0.0), (648, 0.0), (649, 0.0), (650, 0.0), (651, 0.011023714147642676), (652, 0.010761611371954407), (653, 0.033749379685980005), (654, 0.028202035319874967), (655, 0.012875154390433229), (656, 0.0), (657, 0.011061277896956252), (658, 0.0), (659, 0.01105060414711883), (660, 0.01216297216205048), (661, 0.0), (662, 0.0), (663, 0.0), (664, 0.0), (665, 0.0), (666, 0.0), (667, 0.02490665218794586), (668, 0.020815264733756014), (669, 0.0396847306683431), (670, 0.021034620764253574), (671, 0.0), (672, 0.011265411990106935), (673, 0.013480487163525772), (674, 0.0), (675, 0.03168761817153457), (676, 0.04226727736490235), (677, 0.0), (678, 0.0), (679, 0.0), (680, 0.0), (681, 0.0), (682, 0.04563183517360848), (683, 0.02929340300274489), (684, 0.042964602148281836), (685, 0.0), (686, 0.0), (687, 0.0), (688, 0.01224232299709471), (689, 0.012248065764232118), (690, 0.0), (691, 0.0), (692, 0.021377749482931287), (693, 0.011680613187852124), (694, 0.11733404767654326), (695, 0.026409766325946677), (696, 0.012804553657584856), (697, 0.009755787130878942), (698, 0.011989036795473017), (699, 0.0), (700, 0.0), (701, 0.0433337938463161), (702, 0.0), (703, 0.009287451408064588), (704, 0.0), (705, 0.01036380175365638), (706, 0.0), (707, 0.009809552719156732), (708, 0.0), (709, 0.0), (710, 0.06384763020186851), (711, 0.0), (712, 0.00784571721846277), (713, 0.0), (714, 0.0), (715, 0.0), (716, 0.013033057598948475), (717, 0.0), (718, 0.0), (719, 0.012627500087877355), (720, 0.0), (721, 0.014774746167065152), (722, 0.009495696877066652), (723, 0.0), (724, 0.0), (725, 0.0), (726, 0.0), (727, 0.011661191516329755), (728, 0.01345696958485641), (729, 0.012955641103297043), (730, 0.0), (731, 0.0), (732, 0.012645027833189031), (733, 0.010984636916732871), (734, 0.010281245450577311), (735, 0.023823760589233283), (736, 0.0), (737, 0.0), (738, 0.0), (739, 0.012015520235818845), (740, 0.0), (741, 0.0), (742, 0.009182558180470568), (743, 0.012940644078049771), (744, 0.010190967673325219), (745, 0.0), (746, 0.0), (747, 0.0), (748, 0.0), (749, 0.010892781611924307), (750, 0.012439599349764614), (751, 0.0), (752, 0.0), (753, 0.032669999131258294), (754, 0.0), (755, 0.009134632550996785), (756, 0.0), (757, 0.02811918438651652), (758, 0.0), (759, 0.0), (760, 0.04046259041207093), (761, 0.0136778213555853), (762, 0.0), (763, 0.0), (764, 0.0), (765, 0.0), (766, 0.0), (767, 0.0), (768, 0.0), (769, 0.010858997453039773), (770, 0.0), (771, 0.0), (772, 0.0), (773, 0.0), (774, 0.012450012774327935), (775, 0.0), (776, 0.0), (777, 0.0), (778, 0.0), (779, 0.0), (780, 0.0), (781, 0.0), (782, 0.0), (783, 0.015945195285330786), (784, 0.0), (785, 0.0), (786, 0.0), (787, 0.011285113702506533), (788, 0.0), (789, 0.0), (790, 0.023909514740754183), (791, 0.0), (792, 0.011116465108487147), (793, 0.0), (794, 0.010285912388153498), (795, 0.051381651463144294), (796, 0.011086417825021977), (797, 0.0), (798, 0.010709250302805867), (799, 0.038187501241765474), (800, 0.01101784718026736), (801, 0.024737026588359474), (802, 0.0), (803, 0.0), (804, 0.012008772662519946), (805, 0.0), (806, 0.046582680645238426), (807, 0.0), (808, 0.011978605971290707), (809, 0.0), (810, 0.0), (811, 0.0), (812, 0.0), (813, 0.014846102355826833), (814, 0.0), (815, 0.009571836752439309), (816, 0.036789024185677664), (817, 0.0), (818, 0.009729213681297396), (819, 0.0), (820, 0.0), (821, 0.0), (822, 0.0), (823, 0.0), (824, 0.008315452075421115), (825, 0.0), (826, 0.012411928199919115), (827, 0.026900978875344872), (828, 0.022165327824758836), (829, 0.018324405742954974), (830, 0.1347320399195765), (831, 0.012176489790848899), (832, 0.014449153024067341), (833, 0.028338320991812015), (834, 0.0), (835, 0.0), (836, 0.08316917003511795), (837, 0.0), (838, 0.011223088594069872), (839, 0.0), (840, 0.0), (841, 0.0), (842, 0.03158845239796763), (843, 0.009888702868872029), (844, 0.023676626812375978), (845, 0.0), (846, 0.0), (847, 0.013341964955730005), (848, 0.0), (849, 0.0), (850, 0.011394186864799951), (851, 0.009575321123032967), (852, 0.009519838432213955), (853, 0.029144232382124127), (854, 0.00935080574937491), (855, 0.0), (856, 0.009792096608860094), (857, 0.012528963893244049), (858, 0.01085265379699188), (859, 0.0), (860, 0.039626491600942976), (861, 0.024714431791093536), (862, 0.0), (863, 0.0), (864, 0.009994192486984878), (865, 0.010347996906332941), (866, 0.037466390925068704), (867, 0.010613291581721241), (868, 0.0), (869, 0.03210789929265685), (870, 0.038475495803407964), (871, 0.010838845855975497), (872, 0.01094310309765928), (873, 0.09423696018835138), (874, 0.02968694869565021), (875, 0.0), (876, 0.010260475717634615), (877, 0.0), (878, 0.04097229345977665), (879, 0.043084765761265686), (880, 0.012064769642250273), (881, 0.0), (882, 0.0), (883, 0.0), (884, 0.0), (885, 0.0), (886, 0.009938989618550425), (887, 0.0), (888, 0.023744543639439016), (889, 0.0), (890, 0.0), (891, 0.0), (892, 0.0), (893, 0.0), (894, 0.010542742766385125), (895, 0.0), (896, 0.04069912867702932), (897, 0.011842158376010492), (898, 0.0), (899, 0.0), (900, 0.01018585194634116), (901, 0.0), (902, 0.0), (903, 0.012633763858027162), (904, 0.051381651463144294), (905, 0.051381651463144294), (906, 0.0), (907, 0.010340999938657659), (908, 0.027533863059357427), (909, 0.0), (910, 0.013993630316181324), (911, 0.0), (912, 0.0), (913, 0.0), (914, 0.0), (915, 0.027576146785904622), (916, 0.02641433644216791), (917, 0.0), (918, 0.030103193650167004), (919, 0.0), (920, 0.0), (921, 0.0), (922, 0.0), (923, 0.015163040603020008), (924, 0.00944149407975354), (925, 0.017260915327706697), (926, 0.0), (927, 0.0), (928, 0.0), (929, 0.009917112160461584), (930, 0.015009465872743205), (931, 0.025418032354591273), (932, 0.0), (933, 0.0), (934, 0.011809815885072551), (935, 0.08960836839737393), (936, 0.009954779585510696), (937, 0.03808445863521068), (938, 0.0), (939, 0.043119453224773334), (940, 0.009347454266749666), (941, 0.0), (942, 0.037208856959796026), (943, 0.0), (944, 0.009521039352171561), (945, 0.0), (946, 0.0), (947, 0.07306382026454672), (948, 0.04163468191774147), (949, 0.0), (950, 0.0), (951, 0.010874969074794651), (952, 0.016036913014445407), (953, 0.010360595251154524), (954, 0.0), (955, 0.0), (956, 0.0), (957, 0.013421423615507156), (958, 0.0), (959, 0.013640384020935077), (960, 0.0), (961, 0.0), (962, 0.012726044778347908), (963, 0.00941760625468681), (964, 0.0), (965, 0.0), (966, 0.008517114475623734), (967, 0.01988902854670093), (968, 0.014393490830846033), (969, 0.011953664625475174), (970, 0.0), (971, 0.0), (972, 0.0), (973, 0.0), (974, 0.0), (975, 0.012833245592880455), (976, 0.026212316479339307), (977, 0.0), (978, 0.0), (979, 0.0), (980, 0.011145897061831798), (981, 0.011929944674104732), (982, 0.0), (983, 0.0), (984, 0.0), (985, 0.014185817569261294), (986, 0.04975362309490567), (987, 0.0), (988, 0.03749059493080893), (989, 0.03289179119782455), (990, 0.0), (991, 0.01889705934830682), (992, 0.0), (993, 0.0), (994, 0.02683391235053268), (995, 0.0), (996, 0.0), (997, 0.0), (998, 0.011109582882881237), (999, 0.010968904802983964), (1000, 0.029349233378084143), (1001, 0.010587923343066137), (1002, 0.010003387809184533), (1003, 0.0), (1004, 0.0), (1005, 0.009534586044071872), (1006, 0.01038384044799733), (1007, 0.014287011648048738), (1008, 0.0), (1009, 0.007806849033156336), (1010, 0.0), (1011, 0.0), (1012, 0.0), (1013, 0.0), (1014, 0.0), (1015, 0.012243000565513314), (1016, 0.0), (1017, 0.01117406693435289), (1018, 0.024532676582683228), (1019, 0.011535875402141299), (1020, 0.009659529861465921), (1021, 0.010032767683419427), (1022, 0.0), (1023, 0.018108558203225922), (1024, 0.029193807167179328), (1025, 0.0), (1026, 0.011209725924952773), (1027, 0.011027313644047942), (1028, 0.0), (1029, 0.0), (1030, 0.011170475837430558), (1031, 0.0), (1032, 0.0), (1033, 0.0), (1034, 0.009134275678553228), (1035, 0.039969858754014535), (1036, 0.0), (1037, 0.0), (1038, 0.0), (1039, 0.0), (1040, 0.010194120568904973), (1041, 0.01064558006937079), (1042, 0.0), (1043, 0.0), (1044, 0.009842058556526949), (1045, 0.0), (1046, 0.0), (1047, 0.0), (1048, 0.0), (1049, 0.014409689169459944), (1050, 0.030376256174225486), (1051, 0.0), (1052, 0.0121174772619759), (1053, 0.04161072226768127), (1054, 0.0), (1055, 0.0), (1056, 0.0), (1057, 0.0), (1058, 0.04735891428467404), (1059, 0.0), (1060, 0.009884832478286887), (1061, 0.027684422419750453), (1062, 0.0), (1063, 0.025308044310872854), (1064, 0.04347221627208057), (1065, 0.011299795549075807), (1066, 0.0), (1067, 0.0), (1068, 0.02319681541416094), (1069, 0.0), (1070, 0.16014444032037203), (1071, 0.016893907823706346), (1072, 0.0), (1073, 0.0), (1074, 0.02565737254565412), (1075, 0.011680915537524756), (1076, 0.0), (1077, 0.009036739035355587), (1078, 0.008798533076568546), (1079, 0.00866840639608138), (1080, 0.011175298620961916), (1081, 0.0), (1082, 0.0), (1083, 0.009833764982440813), (1084, 0.010919517727662356), (1085, 0.0), (1086, 0.0), (1087, 0.0), (1088, 0.018987105124177745), (1089, 0.0), (1090, 0.0), (1091, 0.0), (1092, 0.0), (1093, 0.0), (1094, 0.0), (1095, 0.0), (1096, 0.0), (1097, 0.0), (1098, 0.0), (1099, 0.0), (1100, 0.0), (1101, 0.0), (1102, 0.012899803819081545), (1103, 0.0), (1104, 0.0), (1105, 0.0), (1106, 0.0), (1107, 0.00922542623962327), (1108, 0.0), (1109, 0.013382506945487663), (1110, 0.0), (1111, 0.0), (1112, 0.0), (1113, 0.0), (1114, 0.0), (1115, 0.02658810537052443), (1116, 0.02760225709492338), (1117, 0.0), (1118, 0.09487628042252674), (1119, 0.037921751202607316), (1120, 0.0), (1121, 0.0), (1122, 0.011315743384429365), (1123, 0.00939120794921153), (1124, 0.0), (1125, 0.0), (1126, 0.0), (1127, 0.0), (1128, 0.0242716088728778), (1129, 0.0), (1130, 0.0), (1131, 0.010969122846072004), (1132, 0.042746233859536756), (1133, 0.0), (1134, 0.0), (1135, 0.0), (1136, 0.00884325257540716), (1137, 0.0), (1138, 0.0139452367597326), (1139, 0.0), (1140, 0.01109019634457184), (1141, 0.04284095473928058), (1142, 0.0), (1143, 0.0), (1144, 0.0), (1145, 0.0), (1146, 0.0), (1147, 0.0), (1148, 0.027698949410292845), (1149, 0.0), (1150, 0.0), (1151, 0.0), (1152, 0.0), (1153, 0.0), (1154, 0.0), (1155, 0.0), (1156, 0.0), (1157, 0.0), (1158, 0.0), (1159, 0.0), (1160, 0.0380373291642891), (1161, 0.011178925993127005), (1162, 0.0), (1163, 0.011216726307803996), (1164, 0.0), (1165, 0.0), (1166, 0.0), (1167, 0.0), (1168, 0.0), (1169, 0.0), (1170, 0.011343331309696185), (1171, 0.0), (1172, 0.0), (1173, 0.0), (1174, 0.0), (1175, 0.012064088431623363), (1176, 0.010563342341218057), (1177, 0.010182417738481855), (1178, 0.0), (1179, 0.011381505659638167), (1180, 0.0), (1181, 0.0), (1182, 0.009172651030453376), (1183, 0.04093857873981041), (1184, 0.03828820385190247), (1185, 0.02400780438994563), (1186, 0.010376389914138834), (1187, 0.0127367878849154), (1188, 0.012989870899328994), (1189, 0.0), (1190, 0.0), (1191, 0.01227676699795643), (1192, 0.013474836566754482), (1193, 0.0), (1194, 0.0), (1195, 0.0), (1196, 0.0), (1197, 0.0), (1198, 0.0), (1199, 0.009493550512110418), (1200, 0.0), (1201, 0.0), (1202, 0.008440663721527084), (1203, 0.0), (1204, 0.0), (1205, 0.0), (1206, 0.01104751319418334), (1207, 0.0), (1208, 0.01952335722490856), (1209, 0.010759546170749083), (1210, 0.0), (1211, 0.0), (1212, 0.0), (1213, 0.0), (1214, 0.0), (1215, 0.010311754088181312), (1216, 0.010296446552678574), (1217, 0.009057519685107849), (1218, 0.0), (1219, 0.012421087194067353), (1220, 0.010092026791176314), (1221, 0.0), (1222, 0.0), (1223, 0.010815052753290042), (1224, 0.045047179797759684), (1225, 0.01153923416106714), (1226, 0.0), (1227, 0.0), (1228, 0.0), (1229, 0.012901150255994224), (1230, 0.023868120861703385), (1231, 0.029604958798958372), (1232, 0.03775717573253945), (1233, 0.0), (1234, 0.02691253093525026), (1235, 0.0), (1236, 0.028381980683513924), (1237, 0.04222447422049536), (1238, 0.0), (1239, 0.0), (1240, 0.0), (1241, 0.00954612348951339), (1242, 0.0), (1243, 0.0), (1244, 0.0), (1245, 0.01008567192523448), (1246, 0.0), (1247, 0.012334224634390316), (1248, 0.04391027331751358), (1249, 0.0), (1250, 0.0), (1251, 0.012028483458231744), (1252, 0.03816561650233147), (1253, 0.0), (1254, 0.0), (1255, 0.012264669219671027), (1256, 0.0), (1257, 0.01351921009373909), (1258, 0.0), (1259, 0.0), (1260, 0.0), (1261, 0.010753751153827816), (1262, 0.0), (1263, 0.0), (1264, 0.017177998935935596), (1265, 0.0), (1266, 0.0), (1267, 0.0), (1268, 0.0), (1269, 0.0), (1270, 0.0), (1271, 0.0), (1272, 0.0), (1273, 0.009108401609082281), (1274, 0.0), (1275, 0.040442339916067105), (1276, 0.02019723670663711), (1277, 0.0), (1278, 0.0), (1279, 0.0), (1280, 0.0), (1281, 0.0), (1282, 0.0), (1283, 0.0), (1284, 0.0), (1285, 0.0), (1286, 0.013902205300784077), (1287, 0.0), (1288, 0.0), (1289, 0.0), (1290, 0.010320206676454845), (1291, 0.0), (1292, 0.02668090361149882), (1293, 0.0), (1294, 0.0), (1295, 0.0), (1296, 0.0), (1297, 0.0), (1298, 0.0), (1299, 0.0), (1300, 0.023707149285661533), (1301, 0.0), (1302, 0.0), (1303, 0.009296169659736422), (1304, 0.0), (1305, 0.009917018152360357), (1306, 0.011397247163163652), (1307, 0.0), (1308, 0.01006664741092219), (1309, 0.0), (1310, 0.0), (1311, 0.11891363158814945), (1312, 0.0), (1313, 0.0098367506934651), (1314, 0.028283651599873044), (1315, 0.0), (1316, 0.0), (1317, 0.02785011848811349), (1318, 0.012095629569316226), (1319, 0.0), (1320, 0.1809125375604801), (1321, 0.0), (1322, 0.0), (1323, 0.0), (1324, 0.01128396978972312), (1325, 0.01559103916062648), (1326, 0.0), (1327, 0.0), (1328, 0.0), (1329, 0.0), (1330, 0.0), (1331, 0.0), (1332, 0.0), (1333, 0.0), (1334, 0.03870907075539031), (1335, 0.013083193575305603), (1336, 0.0), (1337, 0.03686633400213893), (1338, 0.011146704447121566), (1339, 0.028876342196392638), (1340, 0.0095353523101385), (1341, 0.0), (1342, 0.0), (1343, 0.03411244118363118), (1344, 0.0), (1345, 0.0), (1346, 0.0), (1347, 0.0), (1348, 0.023684753015305465), (1349, 0.011463441566867552), (1350, 0.011108728430693557), (1351, 0.010631353280214844), (1352, 0.010058158078896201), (1353, 0.0), (1354, 0.0), (1355, 0.0), (1356, 0.009369054070780793), (1357, 0.013762617843192427), (1358, 0.0), (1359, 0.0), (1360, 0.04178278997562637), (1361, 0.0), (1362, 0.0), (1363, 0.0), (1364, 0.011150380958000493), (1365, 0.011262100511548502), (1366, 0.0), (1367, 0.0), (1368, 0.0), (1369, 0.025792667960418722), (1370, 0.011279298125820835), (1371, 0.12774776701257928), (1372, 0.009792753932329394), (1373, 0.0), (1374, 0.0), (1375, 0.010503451900749456), (1376, 0.0), (1377, 0.029254138728983903), (1378, 0.011451343619134103), (1379, 0.0), (1380, 0.0), (1381, 0.0), (1382, 0.012034745495646445), (1383, 0.012385292217177164), (1384, 0.0), (1385, 0.036088441528223755), (1386, 0.0), (1387, 0.041441654866153935), (1388, 0.026972501246051654), (1389, 0.0), (1390, 0.0), (1391, 0.0), (1392, 0.0), (1393, 0.0), (1394, 0.009637756181469703), (1395, 0.0), (1396, 0.0), (1397, 0.0), (1398, 0.014589484812003338), (1399, 0.0), (1400, 0.011029691915505218), (1401, 0.0), (1402, 0.0), (1403, 0.010572930019940512), (1404, 0.0), (1405, 0.0), (1406, 0.02615572154904589), (1407, 0.0), (1408, 0.010643155366448935), (1409, 0.0), (1410, 0.014645452320467267), (1411, 0.0), (1412, 0.03244313246319417), (1413, 0.010892821798624221), (1414, 0.008633651961977105), (1415, 0.010787666863166389), (1416, 0.0), (1417, 0.039212875835446345), (1418, 0.0), (1419, 0.028337611369180275), (1420, 0.0), (1421, 0.010639124497613861), (1422, 0.00966795442356117), (1423, 0.010826770434294407), (1424, 0.0), (1425, 0.0), (1426, 0.0), (1427, 0.007326837215577697), (1428, 0.0), (1429, 0.012480919360295694), (1430, 0.0), (1431, 0.0), (1432, 0.02770907426098883), (1433, 0.0), (1434, 0.0), (1435, 0.0), (1436, 0.02793171646988563), (1437, 0.0), (1438, 0.011761365611845888), (1439, 0.0), (1440, 0.028148841137522994), (1441, 0.0), (1442, 0.02892467471343648), (1443, 0.0), (1444, 0.0), (1445, 0.0), (1446, 0.011459976549437893), (1447, 0.0), (1448, 0.010130852396081231), (1449, 0.0), (1450, 0.0), (1451, 0.0), (1452, 0.0), (1453, 0.0), (1454, 0.012492253708561918), (1455, 0.024510248214576702), (1456, 0.0), (1457, 0.0), (1458, 0.0), (1459, 0.0), (1460, 0.0), (1461, 0.0), (1462, 0.010735412280272649), (1463, 0.013472925648013088), (1464, 0.0), (1465, 0.0), (1466, 0.0), (1467, 0.0), (1468, 0.0), (1469, 0.0), (1470, 0.0), (1471, 0.02961680690415589), (1472, 0.012203033454695198), (1473, 0.0), (1474, 0.011247331318886177), (1475, 0.010801003986346522), (1476, 0.011352749287498238), (1477, 0.01050904835360856), (1478, 0.01063367747551128), (1479, 0.0), (1480, 0.0), (1481, 0.011571610805449396), (1482, 0.0), (1483, 0.012470872265185467), (1484, 0.0), (1485, 0.0), (1486, 0.0), (1487, 0.0), (1488, 0.011303734339935713), (1489, 0.01287764481692684), (1490, 0.0), (1491, 0.0), (1492, 0.0), (1493, 0.0), (1494, 0.0), (1495, 0.0), (1496, 0.0), (1497, 0.0), (1498, 0.014104973360495793), (1499, 0.0), (1500, 0.0), (1501, 0.0), (1502, 0.0), (1503, 0.012731208218531347), (1504, 0.0), (1505, 0.0), (1506, 0.03862898070648023), (1507, 0.0), (1508, 0.0), (1509, 0.0114115106854004), (1510, 0.01193904058037998), (1511, 0.0), (1512, 0.0), (1513, 0.010397935560113694), (1514, 0.009073856847094674), (1515, 0.0), (1516, 0.0), (1517, 0.0), (1518, 0.01480586022222702), (1519, 0.010222859148044395), (1520, 0.0), (1521, 0.0), (1522, 0.0), (1523, 0.0), (1524, 0.0), (1525, 0.0), (1526, 0.0), (1527, 0.02790002942713833), (1528, 0.0), (1529, 0.0), (1530, 0.0), (1531, 0.0), (1532, 0.0), (1533, 0.013974267076454135), (1534, 0.0), (1535, 0.0), (1536, 0.0), (1537, 0.011405270647353185), (1538, 0.0), (1539, 0.01057896102243128), (1540, 0.0), (1541, 0.0), (1542, 0.033238081087583166), (1543, 0.012325971839853412), (1544, 0.02828986475596788), (1545, 0.0), (1546, 0.0), (1547, 0.012334271391016019), (1548, 0.0), (1549, 0.0), (1550, 0.0), (1551, 0.0), (1552, 0.0), (1553, 0.0), (1554, 0.0), (1555, 0.0), (1556, 0.0), (1557, 0.0), (1558, 0.010002054733506214), (1559, 0.0), (1560, 0.0), (1561, 0.0), (1562, 0.0), (1563, 0.0), (1564, 0.0), (1565, 0.011563423980344012), (1566, 0.0), (1567, 0.0), (1568, 0.0), (1569, 0.0), (1570, 0.011235998289610766), (1571, 0.0), (1572, 0.05072328863241236), (1573, 0.0), (1574, 0.0), (1575, 0.0), (1576, 0.0), (1577, 0.0), (1578, 0.0), (1579, 0.0), (1580, 0.0), (1581, 0.0), (1582, 0.010987966479770435), (1583, 0.0), (1584, 0.0), (1585, 0.02582173117534215), (1586, 0.0), (1587, 0.0), (1588, 0.0), (1589, 0.0), (1590, 0.0), (1591, 0.030608666302467263), (1592, 0.0), (1593, 0.0), (1594, 0.0), (1595, 0.035386290233964474), (1596, 0.0), (1597, 0.01143934560497892), (1598, 0.010584532006972533), (1599, 0.0), (1600, 0.0), (1601, 0.0), (1602, 0.0), (1603, 0.0), (1604, 0.0), (1605, 0.00916688422459328), (1606, 0.0), (1607, 0.0), (1608, 0.010851683484370399), (1609, 0.0), (1610, 0.0), (1611, 0.0), (1612, 0.0), (1613, 0.0), (1614, 0.0), (1615, 0.0), (1616, 0.011295384125134833), (1617, 0.0), (1618, 0.0), (1619, 0.013625622538968594), (1620, 0.010961883133668191), (1621, 0.039832785026120754), (1622, 0.0), (1623, 0.0), (1624, 0.008962972910442554), (1625, 0.0), (1626, 0.0), (1627, 0.008697568369822621), (1628, 0.010543106100691386), (1629, 0.03544040459941754), (1630, 0.0), (1631, 0.0), (1632, 0.0), (1633, 0.0), (1634, 0.01155836078724964), (1635, 0.0), (1636, 0.0), (1637, 0.0), (1638, 0.0), (1639, 0.0), (1640, 0.0), (1641, 0.0), (1642, 0.0), (1643, 0.01154779156017369), (1644, 0.0), (1645, 0.009385135048438702), (1646, 0.0), (1647, 0.0), (1648, 0.010475540234172005), (1649, 0.0), (1650, 0.0), (1651, 0.0), (1652, 0.0), (1653, 0.010516623132836342), (1654, 0.0), (1655, 0.016910897547127178), (1656, 0.0), (1657, 0.0), (1658, 0.011918480566879254), (1659, 0.0), (1660, 0.0), (1661, 0.0), (1662, 0.0), (1663, 0.0), (1664, 0.0), (1665, 0.0350612500190167), (1666, 0.012884563341817578), (1667, 0.010558549457437356), (1668, 0.0), (1669, 0.0), (1670, 0.0), (1671, 0.03565579487756987), (1672, 0.0), (1673, 0.0), (1674, 0.026224251632149705), (1675, 0.013523746478430486), (1676, 0.0), (1677, 0.009197953150514025), (1678, 0.010095818729158717), (1679, 0.0), (1680, 0.025071581844955754), (1681, 0.0), (1682, 0.012069270343393841), (1683, 0.0), (1684, 0.0), (1685, 0.011255885359685358), (1686, 0.0), (1687, 0.011448149024498686), (1688, 0.0), (1689, 0.0), (1690, 0.01029353544303697), (1691, 0.0), (1692, 0.0), (1693, 0.009003985335147714), (1694, 0.023476608895425802), (1695, 0.0), (1696, 0.0), (1697, 0.0), (1698, 0.0), (1699, 0.0), (1700, 0.0), (1701, 0.0), (1702, 0.0), (1703, 0.009908415717728117), (1704, 0.0), (1705, 0.025968261844792118), (1706, 0.01086251932477631), (1707, 0.020026422714970467), (1708, 0.0), (1709, 0.0), (1710, 0.012390547787864293), (1711, 0.013037840532725819), (1712, 0.0), (1713, 0.0), (1714, 0.0), (1715, 0.0), (1716, 0.0452069419876973), (1717, 0.0125115281284643), (1718, 0.0), (1719, 0.011273008453855031), (1720, 0.0), (1721, 0.0), (1722, 0.011690462336940103), (1723, 0.0), (1724, 0.0), (1725, 0.0), (1726, 0.0), (1727, 0.02899024730410713), (1728, 0.0), (1729, 0.0), (1730, 0.01034813278798519), (1731, 0.0), (1732, 0.0), (1733, 0.0), (1734, 0.0), (1735, 0.030785350008561398), (1736, 0.02926189822081443), (1737, 0.0), (1738, 0.0), (1739, 0.038492535747208276), (1740, 0.011580375954197824), (1741, 0.0), (1742, 0.0), (1743, 0.009983204322238256), (1744, 0.009461986253602126), (1745, 0.0), (1746, 0.0), (1747, 0.008128909307673323), (1748, 0.011127110908795139), (1749, 0.0), (1750, 0.0), (1751, 0.0), (1752, 0.0), (1753, 0.0), (1754, 0.02687134896169531), (1755, 0.0), (1756, 0.0), (1757, 0.0), (1758, 0.0), (1759, 0.0), (1760, 0.011192831524513142), (1761, 0.0), (1762, 0.010614303516311003), (1763, 0.012050122920256581), (1764, 0.011736574838824058), (1765, 0.0), (1766, 0.0), (1767, 0.0), (1768, 0.012299363023085513), (1769, 0.0), (1770, 0.0), (1771, 0.0), (1772, 0.0), (1773, 0.0), (1774, 0.028225236373048426), (1775, 0.0), (1776, 0.0319017149510528), (1777, 0.0), (1778, 0.0), (1779, 0.011388288941205409), (1780, 0.0), (1781, 0.0), (1782, 0.01315167160261689), (1783, 0.0), (1784, 0.0), (1785, 0.0), (1786, 0.0), (1787, 0.0), (1788, 0.0), (1789, 0.0), (1790, 0.0), (1791, 0.0), (1792, 0.0), (1793, 0.0), (1794, 0.0), (1795, 0.0), (1796, 0.00847006520042119), (1797, 0.023725983935589137), (1798, 0.010912573364842325), (1799, 0.0), (1800, 0.0), (1801, 0.0), (1802, 0.0), (1803, 0.0), (1804, 0.0), (1805, 0.0), (1806, 0.03702481828425711), (1807, 0.0), (1808, 0.0), (1809, 0.0), (1810, 0.0), (1811, 0.0), (1812, 0.0), (1813, 0.014057266107346856), (1814, 0.0), (1815, 0.0350639374671832), (1816, 0.026517511292159745), (1817, 0.0), (1818, 0.0), (1819, 0.011453059159185605), (1820, 0.0), (1821, 0.1409189593696622), (1822, 0.010608447004259442), (1823, 0.0), (1824, 0.0), (1825, 0.0), (1826, 0.0), (1827, 0.012000403341523268), (1828, 0.012105218266684339), (1829, 0.0), (1830, 0.009428747594556837), (1831, 0.0), (1832, 0.028325056923156473), (1833, 0.0), (1834, 0.0), (1835, 0.0), (1836, 0.0), (1837, 0.0), (1838, 0.0), (1839, 0.0), (1840, 0.0), (1841, 0.0), (1842, 0.0), (1843, 0.0), (1844, 0.0), (1845, 0.009863923473475632), (1846, 0.0), (1847, 0.0), (1848, 0.0), (1849, 0.0), (1850, 0.0), (1851, 0.01225143612099719), (1852, 0.0), (1853, 0.03620170001464128), (1854, 0.023213510036544826), (1855, 0.0), (1856, 0.0), (1857, 0.0), (1858, 0.03183012076646938), (1859, 0.0), (1860, 0.0), (1861, 0.026914624571089858), (1862, 0.0), (1863, 0.0), (1864, 0.01200124096373163), (1865, 0.01272428023207277), (1866, 0.012228262394300407), (1867, 0.0), (1868, 0.0), (1869, 0.010612034035195348), (1870, 0.0), (1871, 0.010956790460091561), (1872, 0.0), (1873, 0.0), (1874, 0.029216972908198476), (1875, 0.010942984448390975), (1876, 0.01403539015107271), (1877, 0.0), (1878, 0.012266779055535975), (1879, 0.0), (1880, 0.0), (1881, 0.0), (1882, 0.009367186728849433), (1883, 0.0), (1884, 0.015427670613682037), (1885, 0.012253883770359401), (1886, 0.009642187822817607), (1887, 0.0), (1888, 0.0), (1889, 0.0), (1890, 0.0), (1891, 0.010691800578342134), (1892, 0.011068598357283325), (1893, 0.011957738585873835), (1894, 0.0), (1895, 0.0), (1896, 0.011194620703184468), (1897, 0.010049816726020509), (1898, 0.0), (1899, 0.0), (1900, 0.0), (1901, 0.0), (1902, 0.011331717400616285), (1903, 0.0), (1904, 0.0), (1905, 0.012523099731657423), (1906, 0.0), (1907, 0.011649924640541142), (1908, 0.0), (1909, 0.011302020908148908), (1910, 0.0), (1911, 0.0), (1912, 0.0), (1913, 0.0), (1914, 0.0), (1915, 0.0), (1916, 0.013515353531384007), (1917, 0.0), (1918, 0.013072019661184243), (1919, 0.0), (1920, 0.009201851861135243), (1921, 0.0), (1922, 0.021279213633207825), (1923, 0.013730258873721864), (1924, 0.011214549617525963), (1925, 0.0), (1926, 0.0), (1927, 0.0), (1928, 0.0), (1929, 0.0), (1930, 0.0), (1931, 0.011380648730867316), (1932, 0.0), (1933, 0.0), (1934, 0.008133403219686922), (1935, 0.0), (1936, 0.0), (1937, 0.023938925691363185), (1938, 0.0), (1939, 0.0), (1940, 0.0), (1941, 0.0), (1942, 0.03739733913149845), (1943, 0.009728744545675284), (1944, 0.0), (1945, 0.024292805595017848), (1946, 0.014105704422971781), (1947, 0.012743307842381705), (1948, 0.0), (1949, 0.031811455161140124), (1950, 0.01017648475689381), (1951, 0.01257623594852113), (1952, 0.0), (1953, 0.0), (1954, 0.0), (1955, 0.0), (1956, 0.0), (1957, 0.0), (1958, 0.0), (1959, 0.0), (1960, 0.009536089738691881), (1961, 0.0), (1962, 0.0), (1963, 0.0), (1964, 0.009879565322994372), (1965, 0.0), (1966, 0.0), (1967, 0.03611475086133853), (1968, 0.013847971056145764), (1969, 0.00919974781639363), (1970, 0.026488015792807514), (1971, 0.03476337989003721), (1972, 0.0), (1973, 0.0), (1974, 0.0), (1975, 0.0), (1976, 0.0), (1977, 0.011090770900307169), (1978, 0.0), (1979, 0.0), (1980, 0.0), (1981, 0.0), (1982, 0.0), (1983, 0.012584521739992343), (1984, 0.0), (1985, 0.04099991953744195), (1986, 0.0), (1987, 0.0), (1988, 0.0), (1989, 0.009121987187108414), (1990, 0.0), (1991, 0.0), (1992, 0.027538231461966083), (1993, 0.0), (1994, 0.0), (1995, 0.017515024025236706), (1996, 0.0), (1997, 0.013042994300263821), (1998, 0.0), (1999, 0.0), (2000, 0.011285703158448186), (2001, 0.0), (2002, 0.0), (2003, 0.0), (2004, 0.011230842693079455), (2005, 0.0), (2006, 0.0), (2007, 0.0), (2008, 0.01000265348674975), (2009, 0.0), (2010, 0.00817864849745722), (2011, 0.010913296358420843), (2012, 0.0), (2013, 0.0), (2014, 0.10521885267483864), (2015, 0.0), (2016, 0.036438000652815154), (2017, 0.0), (2018, 0.0), (2019, 0.0), (2020, 0.0), (2021, 0.0), (2022, 0.0), (2023, 0.03590649441242904), (2024, 0.038434396202575154), (2025, 0.0), (2026, 0.15013225916655354), (2027, 0.012465903865049928), (2028, 0.0), (2029, 0.013132627029640997), (2030, 0.0), (2031, 0.012922731572689257), (2032, 0.0), (2033, 0.0), (2034, 0.01191359743130612), (2035, 0.010881006078548533), (2036, 0.0), (2037, 0.050474521820191395), (2038, 0.0), (2039, 0.011024907527583996), (2040, 0.045341329637022004), (2041, 0.0), (2042, 0.0), (2043, 0.0), (2044, 0.0), (2045, 0.010793891759474303), (2046, 0.0), (2047, 0.0), (2048, 0.011550578626194165), (2049, 0.011832518542463893), (2050, 0.0), (2051, 0.01094365751168291), (2052, 0.0), (2053, 0.046838348336951836), (2054, 0.0), (2055, 0.034177890939487046), (2056, 0.0), (2057, 0.0), (2058, 0.0), (2059, 0.0), (2060, 0.0), (2061, 0.011956702429728218), (2062, 0.0), (2063, 0.0), (2064, 0.0), (2065, 0.030228108248469856), (2066, 0.0), (2067, 0.009573771926349962), (2068, 0.011405430615184162), (2069, 0.009876637073228474), (2070, 0.03832908695996734), (2071, 0.0), (2072, 0.0), (2073, 0.011606257721628542), (2074, 0.0), (2075, 0.01495730048277514), (2076, 0.022411240820033103), (2077, 0.0), (2078, 0.0), (2079, 0.0), (2080, 0.03293166525169402), (2081, 0.0), (2082, 0.02887387180812652), (2083, 0.010570097512878985), (2084, 0.0), (2085, 0.0), (2086, 0.0), (2087, 0.009873878614300313), (2088, 0.010885060427261159), (2089, 0.012666859681433789), (2090, 0.0), (2091, 0.009617215615391512), (2092, 0.0), (2093, 0.0), (2094, 0.0), (2095, 0.0), (2096, 0.012646021555983392), (2097, 0.0445817019400192), (2098, 0.0), (2099, 0.0), (2100, 0.0), (2101, 0.0), (2102, 0.011806827952518532), (2103, 0.010462109893994338), (2104, 0.012413220090954476), (2105, 0.011509002678267304), (2106, 0.0), (2107, 0.0), (2108, 0.012584947370999335), (2109, 0.0), (2110, 0.02404863508031382), (2111, 0.0), (2112, 0.042954645629467006), (2113, 0.0), (2114, 0.0), (2115, 0.0), (2116, 0.012729818593657231), (2117, 0.01116133496064732), (2118, 0.0), (2119, 0.0267853467519238), (2120, 0.0), (2121, 0.014139828545324256), (2122, 0.1116263452160776), (2123, 0.13837248685095785), (2124, 0.0), (2125, 0.0), (2126, 0.034464893990539786), (2127, 0.008663159099408877), (2128, 0.0), (2129, 0.0), (2130, 0.0), (2131, 0.011483922105412315), (2132, 0.011453080607250303), (2133, 0.0), (2134, 0.011625773619300154), (2135, 0.0), (2136, 0.0), (2137, 0.06798656999173974), (2138, 0.0), (2139, 0.0), (2140, 0.0), (2141, 0.0), (2142, 0.0), (2143, 0.00927709664080736), (2144, 0.012583588165584407), (2145, 0.0), (2146, 0.0), (2147, 0.0), (2148, 0.0), (2149, 0.013761980601912846), (2150, 0.0), (2151, 0.0), (2152, 0.0), (2153, 0.0), (2154, 0.011540326682332548), (2155, 0.011676876826393052), (2156, 0.0), (2157, 0.0), (2158, 0.0), (2159, 0.012012214179084284), (2160, 0.0), (2161, 0.0), (2162, 0.01464024125170144), (2163, 0.0), (2164, 0.0), (2165, 0.0), (2166, 0.0), (2167, 0.0), (2168, 0.0), (2169, 0.010888670564442919), (2170, 0.0), (2171, 0.0), (2172, 0.0), (2173, 0.0), (2174, 0.010388724599470519), (2175, 0.0), (2176, 0.01113347056251336), (2177, 0.0), (2178, 0.0), (2179, 0.0), (2180, 0.0), (2181, 0.0), (2182, 0.0), (2183, 0.0), (2184, 0.0), (2185, 0.0), (2186, 0.0), (2187, 0.0), (2188, 0.046052094504464056), (2189, 0.0), (2190, 0.0), (2191, 0.022186835423317834), (2192, 0.0), (2193, 0.0), (2194, 0.0), (2195, 0.011595695874091365), (2196, 0.03525658163315153), (2197, 0.0), (2198, 0.0), (2199, 0.016461146871954407), (2200, 0.0), (2201, 0.010445605805815399), (2202, 0.0), (2203, 0.0), (2204, 0.0), (2205, 0.0), (2206, 0.027954000895738407), (2207, 0.0), (2208, 0.0), (2209, 0.0), (2210, 0.08005242025544135), (2211, 0.008263433073371459), (2212, 0.04390177316627902), (2213, 0.0), (2214, 0.16787472059313252), (2215, 0.0), (2216, 0.0378518880259943), (2217, 0.0), (2218, 0.0), (2219, 0.0), (2220, 0.0), (2221, 0.0), (2222, 0.0), (2223, 0.010934054077535893), (2224, 0.03998778691026289), (2225, 0.0), (2226, 0.016463288160941565), (2227, 0.0), (2228, 0.0), (2229, 0.11735549429212896), (2230, 0.016992013615165048), (2231, 0.0), (2232, 0.0), (2233, 0.0), (2234, 0.0), (2235, 0.08290520208608533), (2236, 0.0), (2237, 0.019158953377406217), (2238, 0.0), (2239, 0.0), (2240, 0.007477919598972013), (2241, 0.0), (2242, 0.011322233224991497), (2243, 0.0), (2244, 0.0), (2245, 0.0), (2246, 0.0), (2247, 0.0), (2248, 0.0), (2249, 0.0), (2250, 0.05419849500815785), (2251, 0.04139702274801522), (2252, 0.0), (2253, 0.0), (2254, 0.044791722402390724), (2255, 0.04063756310134272), (2256, 0.0), (2257, 0.05128512572199491), (2258, 0.0), (2259, 0.0), (2260, 0.011328620464284754), (2261, 0.0), (2262, 0.0), (2263, 0.0), (2264, 0.026347715798091316), (2265, 0.012563534410211578), (2266, 0.04888417287999153), (2267, 0.0), (2268, 0.0), (2269, 0.02514360512367774), (2270, 0.0), (2271, 0.0), (2272, 0.0), (2273, 0.0), (2274, 0.0), (2275, 0.09742399292951223), (2276, 0.05465309483819846), (2277, 0.010060311947298764), (2278, 0.0), (2279, 0.02959773262421455), (2280, 0.028790990794642122), (2281, 0.0), (2282, 0.0), (2283, 0.0), (2284, 0.04521813708312343), (2285, 0.0), (2286, 0.016004429054347884), (2287, 0.010042833829759706), (2288, 0.10080542419003585), (2289, 0.032456340200816496), (2290, 0.0), (2291, 0.0), (2292, 0.0), (2293, 0.0), (2294, 0.0), (2295, 0.11735549429212896), (2296, 0.0), (2297, 0.0), (2298, 0.0), (2299, 0.10080542419003585), (2300, 0.0), (2301, 0.010898028351781847), (2302, 0.01369165194834208), (2303, 0.0), (2304, 0.0), (2305, 0.0), (2306, 0.0), (2307, 0.0), (2308, 0.0), (2309, 0.0), (2310, 0.0), (2311, 0.0), (2312, 0.0), (2313, 0.01004474168400715), (2314, 0.0), (2315, 0.0), (2316, 0.031047235655548757), (2317, 0.0), (2318, 0.0257074458240843), (2319, 0.012461750409813064), (2320, 0.027344356815785918), (2321, 0.12740270392728245), (2322, 0.0), (2323, 0.0), (2324, 0.0), (2325, 0.0), (2326, 0.0), (2327, 0.0), (2328, 0.0), (2329, 0.0), (2330, 0.0), (2331, 0.0), (2332, 0.0), (2333, 0.0), (2334, 0.03788533333349911), (2335, 0.0), (2336, 0.0), (2337, 0.0), (2338, 0.00994728278076669), (2339, 0.0), (2340, 0.0), (2341, 0.0), (2342, 0.0), (2343, 0.0), (2344, 0.015044058602315126), (2345, 0.0), (2346, 0.1860387741393776), (2347, 0.008602129879176277), (2348, 0.01620324710377839), (2349, 0.02863613744089117), (2350, 0.020235343508212943), (2351, 0.0), (2352, 0.0), (2353, 0.0), (2354, 0.0), (2355, 0.010376598006096206), (2356, 0.0), (2357, 0.0), (2358, 0.0), (2359, 0.0114224352913382), (2360, 0.0), (2361, 0.011600598556344016), (2362, 0.015542068512726045), (2363, 0.10828399775965072), (2364, 0.0), (2365, 0.0), (2366, 0.0), (2367, 0.01105077256782409), (2368, 0.0), (2369, 0.0), (2370, 0.0), (2371, 0.0), (2372, 0.0), (2373, 0.0), (2374, 0.011128452792039029), (2375, 0.14468001680717876), (2376, 0.0), (2377, 0.0), (2378, 0.0), (2379, 0.04480457485305781), (2380, 0.0), (2381, 0.0), (2382, 0.0), (2383, 0.09742399292951223), (2384, 0.0), (2385, 0.0), (2386, 0.011405230781530938), (2387, 0.0), (2388, 0.017052636863360355), (2389, 0.0), (2390, 0.011060405001112), (2391, 0.024183676478236424), (2392, 0.10080542419003585), (2393, 0.01188562184151372), (2394, 0.030610476781322365), (2395, 0.0), (2396, 0.0), (2397, 0.011980059770023657), (2398, 0.0), (2399, 0.011627527271576614), (2400, 0.051889087639739796), (2401, 0.0), (2402, 0.013879420568432894), (2403, 0.0), (2404, 0.06798656999173974), (2405, 0.012552494701151813), (2406, 0.08081302105382865), (2407, 0.04888417287999153), (2408, 0.0), (2409, 0.0), (2410, 0.0), (2411, 0.013008942123735906), (2412, 0.03891176993849011), (2413, 0.0), (2414, 0.0), (2415, 0.023328463731964975), (2416, 0.0), (2417, 0.0), (2418, 0.0), (2419, 0.0), (2420, 0.0), (2421, 0.0), (2422, 0.012405669919788571), (2423, 0.04480457485305781), (2424, 0.0), (2425, 0.10080542419003585), (2426, 0.0), (2427, 0.022506097402392147), (2428, 0.021679718561015273), (2429, 0.0), (2430, 0.010841468534163413), (2431, 0.0), (2432, 0.0), (2433, 0.0), (2434, 0.027344356815785918), (2435, 0.0), (2436, 0.016705188301469064), (2437, 0.014891737291018909), (2438, 0.015300613065454507), (2439, 0.0), (2440, 0.0), (2441, 0.01016811612997019), (2442, 0.0), (2443, 0.011042815154160104), (2444, 0.09192738415644233), (2445, 0.0), (2446, 0.0), (2447, 0.04021934715132123), (2448, 0.024663538818907278), (2449, 0.0), (2450, 0.0), (2451, 0.0), (2452, 0.0), (2453, 0.015528468635884399), (2454, 0.10080542419003585), (2455, 0.0), (2456, 0.0), (2457, 0.010349334777190449), (2458, 0.0), (2459, 0.023727853840381733), (2460, 0.0), (2461, 0.01002647937207294), (2462, 0.0), (2463, 0.0), (2464, 0.05309177288398448), (2465, 0.0), (2466, 0.010990197230364894), (2467, 0.013147543820640366), (2468, 0.0), (2469, 0.007375613110390948), (2470, 0.0), (2471, 0.0), (2472, 0.0), (2473, 0.01127370347808114), (2474, 0.011085939271596243), (2475, 0.0297826742446181), (2476, 0.0), (2477, 0.01328500355800674), (2478, 0.013088404532490513), (2479, 0.0), (2480, 0.0), (2481, 0.0), (2482, 0.009487256714275243), (2483, 0.0), (2484, 0.02756403417903484), (2485, 0.0), (2486, 0.03961035828192633), (2487, 0.025429146492500276), (2488, 0.043176943912919985), (2489, 0.037085864015570444), (2490, 0.06798656999173974), (2491, 0.0), (2492, 0.043176943912919985), (2493, 0.0), (2494, 0.043176943912919985), (2495, 0.0), (2496, 0.01017665079570659), (2497, 0.0), (2498, 0.0), (2499, 0.0), (2500, 0.0), (2501, 0.0), (2502, 0.013002561053979707), (2503, 0.0), (2504, 0.0), (2505, 0.0), (2506, 0.0), (2507, 0.0), (2508, 0.0), (2509, 0.011610147560415457), (2510, 0.0), (2511, 0.0), (2512, 0.04217760143328247), (2513, 0.0), (2514, 0.0), (2515, 0.0), (2516, 0.0), (2517, 0.0), (2518, 0.0), (2519, 0.0), (2520, 0.016415660623628297), (2521, 0.0), (2522, 0.04061444082951989), (2523, 0.0), (2524, 0.0), (2525, 0.0), (2526, 0.01205245750298323), (2527, 0.012711903555097588), (2528, 0.011935024952136324), (2529, 0.043176943912919985), (2530, 0.018130255879352186), (2531, 0.03495979574432019), (2532, 0.0), (2533, 0.0), (2534, 0.010060904896470522), (2535, 0.016492134380178155), (2536, 0.0), (2537, 0.0), (2538, 0.009436991800389361), (2539, 0.0), (2540, 0.1087799830215273), (2541, 0.0), (2542, 0.0), (2543, 0.0), (2544, 0.0), (2545, 0.0), (2546, 0.028438021561872223), (2547, 0.0), (2548, 0.0), (2549, 0.0), (2550, 0.03524769571058651), (2551, 0.0), (2552, 0.0), (2553, 0.009865491634707969), (2554, 0.013051780434740161), (2555, 0.023804846637067383), (2556, 0.014642828674811512), (2557, 0.0), (2558, 0.2785899194367715), (2559, 0.023627157359461633), (2560, 0.04888417287999153), (2561, 0.06798656999173974), (2562, 0.0), (2563, 0.014073192127069024), (2564, 0.0), (2565, 0.0), (2566, 0.0), (2567, 0.0), (2568, 0.009847280389335855), (2569, 0.049528066441182794), (2570, 0.024183676478236424), (2571, 0.0), (2572, 0.0), (2573, 0.0), (2574, 0.0), (2575, 0.0), (2576, 0.0), (2577, 0.0), (2578, 0.0), (2579, 0.012838936067523619), (2580, 0.012757586678560308), (2581, 0.10828399775965072), (2582, 0.0), (2583, 0.0), (2584, 0.0), (2585, 0.0), (2586, 0.0), (2587, 0.0), (2588, 0.0), (2589, 0.0), (2590, 0.0), (2591, 0.04480457485305781), (2592, 0.014091062373468176), (2593, 0.013057853816126851), (2594, 0.0), (2595, 0.0), (2596, 0.0), (2597, 0.0), (2598, 0.011211049789075703), (2599, 0.0), (2600, 0.0), (2601, 0.027224426661616445), (2602, 0.04084441227855302), (2603, 0.010767885338356585), (2604, 0.0), (2605, 0.0), (2606, 0.010954756708341607), (2607, 0.03451089836244729), (2608, 0.0), (2609, 0.01087970920198381), (2610, 0.0), (2611, 0.013605009167876575), (2612, 0.011987686079181844), (2613, 0.0), (2614, 0.02138621564246337), (2615, 0.0), (2616, 0.0), (2617, 0.028945326979323623), (2618, 0.0), (2619, 0.0), (2620, 0.0), (2621, 0.008125763342397585), (2622, 0.0), (2623, 0.014788950082146354), (2624, 0.0), (2625, 0.01985485614648295), (2626, 0.0), (2627, 0.0), (2628, 0.0), (2629, 0.012008214957621206), (2630, 0.0), (2631, 0.0), (2632, 0.012037552867049097), (2633, 0.043176943912919985), (2634, 0.013468688163736971), (2635, 0.0), (2636, 0.0), (2637, 0.0), (2638, 0.11105448902120352), (2639, 0.0), (2640, 0.0), (2641, 0.0), (2642, 0.014989123406804706), (2643, 0.029044928372777317), (2644, 0.0), (2645, 0.040415863891763076), (2646, 0.0), (2647, 0.011346817521517496), (2648, 0.0), (2649, 0.0706971205376543), (2650, 0.0), (2651, 0.0), (2652, 0.026918656917581215), (2653, 0.009939407964984808), (2654, 0.0), (2655, 0.054837070854721746), (2656, 0.0), (2657, 0.0), (2658, 0.0), (2659, 0.0), (2660, 0.0), (2661, 0.008716939113346844), (2662, 0.0), (2663, 0.0), (2664, 0.011907580347674265), (2665, 0.0), (2666, 0.0), (2667, 0.0), (2668, 0.013230274937188091), (2669, 0.0), (2670, 0.0), (2671, 0.0), (2672, 0.0), (2673, 0.10080542419003585), (2674, 0.016110665150465983), (2675, 0.0), (2676, 0.0), (2677, 0.0), (2678, 0.019293488670025935), (2679, 0.0), (2680, 0.0), (2681, 0.0), (2682, 0.0), (2683, 0.0), (2684, 0.0), (2685, 0.0), (2686, 0.0), (2687, 0.013864445744421182), (2688, 0.0), (2689, 0.0), (2690, 0.0), (2691, 0.0), (2692, 1.0000000000000002), (2693, 0.0), (2694, 0.1368600483443194), (2695, 0.04179167433311674), (2696, 0.027344356815785918), (2697, 0.009400609215074674), (2698, 0.011778208624692553), (2699, 0.0), (2700, 0.0), (2701, 0.0), (2702, 0.012062198008160078), (2703, 0.0), (2704, 0.0), (2705, 0.028067803626341207), (2706, 0.014828084514644204), (2707, 0.04829765151267954), (2708, 0.0), (2709, 0.0), (2710, 0.0), (2711, 0.0), (2712, 0.06798656999173974), (2713, 0.0), (2714, 0.009939413152539817), (2715, 0.0), (2716, 0.13282209301927259), (2717, 0.0), (2718, 0.0), (2719, 0.0), (2720, 0.0), (2721, 0.0), (2722, 0.0), (2723, 0.0), (2724, 0.010729483781813723), (2725, 0.0), (2726, 0.0), (2727, 0.035401656004085444), (2728, 0.0), (2729, 0.0), (2730, 0.0), (2731, 0.06798656999173974), (2732, 0.0), (2733, 0.0), (2734, 0.0), (2735, 0.0), (2736, 0.0), (2737, 0.0), (2738, 0.0), (2739, 0.04213597877015338), (2740, 0.023694882345075257), (2741, 0.013593986978213976), (2742, 0.02977729539922038), (2743, 0.009247036565948788), (2744, 0.023823760589233283), (2745, 0.010405088624077801), (2746, 0.012592738064132367), (2747, 0.013546522333251064), (2748, 0.021732003924063225), (2749, 0.0), (2750, 0.0), (2751, 0.09742399292951223), (2752, 0.025781628450710754), (2753, 0.0), (2754, 0.0), (2755, 0.015232017036443574), (2756, 0.0), (2757, 0.10080542419003585), (2758, 0.011684677720733805), (2759, 0.0), (2760, 0.0), (2761, 0.00844685848500856), (2762, 0.0), (2763, 0.0), (2764, 0.043176943912919985), (2765, 0.0), (2766, 0.010513150024015143), (2767, 0.007834880336842357), (2768, 0.12797770669397834), (2769, 0.015411039913223727), (2770, 0.0), (2771, 0.010874968484084325), (2772, 0.02246155171296016), (2773, 0.0), (2774, 0.0), (2775, 0.02863613744089117), (2776, 0.010778157421977312), (2777, 0.07044308807159878), (2778, 0.046052094504464056), (2779, 0.012136403207364262), (2780, 0.027892771251605396), (2781, 0.0), (2782, 0.020033172522590376), (2783, 0.0), (2784, 0.03584107611994162), (2785, 0.0), (2786, 0.0), (2787, 0.0), (2788, 0.0), (2789, 0.0), (2790, 0.0), (2791, 0.02511559261786566), (2792, 0.0), (2793, 0.0), (2794, 0.0), (2795, 0.077825847980454), (2796, 0.016533651807003006), (2797, 0.01415060707765706), (2798, 0.011427607079342254), (2799, 0.0), (2800, 0.010869368964922146), (2801, 0.0), (2802, 0.014949062994614537), (2803, 0.010054805437478602), (2804, 0.0), (2805, 0.0), (2806, 0.0), (2807, 0.0), (2808, 0.038002547331627626), (2809, 0.02355337666076979), (2810, 0.0), (2811, 0.0), (2812, 0.010089832166377684), (2813, 0.0), (2814, 0.0), (2815, 0.0), (2816, 0.0), (2817, 0.0), (2818, 0.0), (2819, 0.0), (2820, 0.0), (2821, 0.02432793692439586), (2822, 0.0), (2823, 0.0), (2824, 0.0), (2825, 0.0), (2826, 0.0), (2827, 0.0), (2828, 0.0), (2829, 0.0), (2830, 0.012484358126669245), (2831, 0.028659565815644904), (2832, 0.023823760589233283), (2833, 0.0), (2834, 0.043176943912919985), (2835, 0.0), (2836, 0.0), (2837, 0.0), (2838, 0.043176943912919985), (2839, 0.0), (2840, 0.046052094504464056), (2841, 0.0), (2842, 0.0), (2843, 0.0), (2844, 0.011729363492042733), (2845, 0.01490232244059735), (2846, 0.0), (2847, 0.0), (2848, 0.013502900428038079), (2849, 0.1860387741393776), (2850, 0.0), (2851, 0.0), (2852, 0.0), (2853, 0.0), (2854, 0.046052094504464056), (2855, 0.0), (2856, 0.0), (2857, 0.027344356815785918), (2858, 0.06798656999173974), (2859, 0.09783175422756343), (2860, 0.0), (2861, 0.0), (2862, 0.011256052581440412), (2863, 0.0), (2864, 0.0), (2865, 0.0), (2866, 0.0), (2867, 0.0), (2868, 0.0), (2869, 0.0), (2870, 0.04888417287999153), (2871, 0.02436536894688721), (2872, 0.043176943912919985), (2873, 0.0), (2874, 0.0319327345329888), (2875, 0.0), (2876, 0.012357487582008329), (2877, 0.0), (2878, 0.011331218247906746), (2879, 0.021082431308285847), (2880, 0.0), (2881, 0.013727433392536317), (2882, 0.0), (2883, 0.02506352645344042), (2884, 0.0), (2885, 0.0), (2886, 0.043255755383606), (2887, 0.011329599713345443), (2888, 0.010396698738975623), (2889, 0.04614136233145008), (2890, 0.02863613744089117), (2891, 0.0), (2892, 0.04888417287999153), (2893, 0.011525741478087452), (2894, 0.012075534040130549), (2895, 0.0), (2896, 0.0), (2897, 0.029599629908191677), (2898, 0.0), (2899, 0.011628662629553114), (2900, 0.0), (2901, 0.05128512572199491), (2902, 0.0), (2903, 0.23312234424179604), (2904, 0.0136519148323952), (2905, 0.0), (2906, 0.0), (2907, 0.024663538818907278), (2908, 0.08462516333428943), (2909, 0.0), (2910, 0.04040649612298414), (2911, 0.012651713898695885), (2912, 0.0), (2913, 0.029303461797827723), (2914, 0.020736069809080857), (2915, 0.010724600927048371), (2916, 0.028500667510321896), (2917, 0.010311946858743195), (2918, 0.031923247865380124), (2919, 0.03874637402088113), (2920, 0.013210973159102305), (2921, 0.0), (2922, 0.0), (2923, 0.0), (2924, 0.013698108592722663), (2925, 0.04532726632017757), (2926, 0.012450004365860174), (2927, 0.0), (2928, 0.0), (2929, 0.0), (2930, 0.0), (2931, 0.009675710546455694), (2932, 0.11105448902120352), (2933, 0.011339872005721114), (2934, 0.03782069692050284), (2935, 0.0), (2936, 0.0), (2937, 0.0), (2938, 0.0), (2939, 0.0466115330014092), (2940, 0.0), (2941, 0.0), (2942, 0.0), (2943, 0.013893223953355235), (2944, 0.0), (2945, 0.012923849240280868), (2946, 0.013518779038746305), (2947, 0.0), (2948, 0.0), (2949, 0.022839927036950713), (2950, 0.0), (2951, 0.0), (2952, 0.0), (2953, 0.0), (2954, 0.0), (2955, 0.0), (2956, 0.0), (2957, 0.10080542419003585), (2958, 0.0), (2959, 0.0), (2960, 0.0), (2961, 0.03597782264226015), (2962, 0.0), (2963, 0.0), (2964, 0.0), (2965, 0.012679339457995334), (2966, 0.02588497001908024), (2967, 0.0), (2968, 0.0), (2969, 0.014309566553582795), (2970, 0.0), (2971, 0.0), (2972, 0.01216361465452297), (2973, 0.0), (2974, 0.014772887949903973), (2975, 0.014924300603887553), (2976, 0.011436708684681772), (2977, 0.012682453143326913), (2978, 0.03242640057657238), (2979, 0.0), (2980, 0.012533835351203355), (2981, 0.010101910182333956), (2982, 0.0), (2983, 0.0), (2984, 0.0), (2985, 0.18900305812860013), (2986, 0.021110886897905804), (2987, 0.0), (2988, 0.011966325540418304), (2989, 0.06490445070065796), (2990, 0.0), (2991, 0.0), (2992, 0.0), (2993, 0.0), (2994, 0.0), (2995, 0.012046406856782635), (2996, 0.04469487170259413), (2997, 0.0), (2998, 0.037516372763107965), (2999, 0.01164445240317162), (3000, 0.0), (3001, 0.0), (3002, 0.0), (3003, 0.0), (3004, 0.03354608081026475), (3005, 0.0), (3006, 0.0), (3007, 0.0), (3008, 0.0), (3009, 0.0), (3010, 0.0), (3011, 0.0), (3012, 0.022186835423317834), (3013, 0.015861210705516327), (3014, 0.011885730724715625), (3015, 0.02863613744089117), (3016, 0.0), (3017, 0.0), (3018, 0.0695657324915178), (3019, 0.07405387157226813), (3020, 0.0), (3021, 0.0), (3022, 0.0), (3023, 0.0), (3024, 0.0112000529039646), (3025, 0.0), (3026, 0.0), (3027, 0.016441310231423468), (3028, 0.010286849589813267), (3029, 0.0), (3030, 0.04888417287999153), (3031, 0.0), (3032, 0.012835383380826277), (3033, 0.0), (3034, 0.0), (3035, 0.054837070854721746), (3036, 0.013381361622364878), (3037, 0.06798656999173974), (3038, 0.0), (3039, 0.0), (3040, 0.06798656999173974), (3041, 0.0), (3042, 0.0), (3043, 0.052810966048979814), (3044, 0.016583713801269204), (3045, 0.0), (3046, 0.0), (3047, 0.0), (3048, 0.0), (3049, 0.0), (3050, 0.011199921879143116), (3051, 0.031945149096307635), (3052, 0.10080542419003585), (3053, 0.0), (3054, 0.0), (3055, 0.0), (3056, 0.012694790454898278), (3057, 0.0), (3058, 0.0), (3059, 0.0), (3060, 0.0), (3061, 0.0), (3062, 0.02674982217532476), (3063, 0.0), (3064, 0.0), (3065, 0.011030304528912944), (3066, 0.0), (3067, 0.02863613744089117), (3068, 0.0), (3069, 0.0), (3070, 0.027639011557226794), (3071, 0.010793875143634364), (3072, 0.015040490172934677), (3073, 0.0), (3074, 0.023587744739346786), (3075, 0.011925101956214114), (3076, 0.025486243697405545), (3077, 0.0), (3078, 0.0), (3079, 0.0), (3080, 0.0), (3081, 0.01820424947027265), (3082, 0.0), (3083, 0.0), (3084, 0.0), (3085, 0.0), (3086, 0.06178134595514738), (3087, 0.0), (3088, 0.0), (3089, 0.0), (3090, 0.0), (3091, 0.011335685238207402), (3092, 0.0), (3093, 0.0), (3094, 0.011456749027868864), (3095, 0.04229555167879114), (3096, 0.008470576323062402), (3097, 0.014729475812858453), (3098, 0.0), (3099, 0.019807163333204543), (3100, 0.0), (3101, 0.0), (3102, 0.0), (3103, 0.0), (3104, 0.0), (3105, 0.0), (3106, 0.0), (3107, 0.0), (3108, 0.012188248492572353), (3109, 0.0), (3110, 0.05192641178138255), (3111, 0.011752601182773463), (3112, 0.011630330421918703), (3113, 0.0), (3114, 0.0), (3115, 0.0), (3116, 0.04888417287999153), (3117, 0.0), (3118, 0.030628471218979488), (3119, 0.1860387741393776), (3120, 0.011593203711715213), (3121, 0.0), (3122, 0.011631147369770084), (3123, 0.01969767310953053), (3124, 0.0), (3125, 0.015519388563730177), (3126, 0.0), (3127, 0.0), (3128, 0.0), (3129, 0.0), (3130, 0.0), (3131, 0.0), (3132, 0.0), (3133, 0.0), (3134, 0.0), (3135, 0.0), (3136, 0.0), (3137, 0.027984701555653895), (3138, 0.0), (3139, 0.0), (3140, 0.024663538818907278), (3141, 0.0), (3142, 0.09536473435906219), (3143, 0.0), (3144, 0.0), (3145, 0.0), (3146, 0.014547196346375342), (3147, 0.01085392986120449), (3148, 0.012026626121003301), (3149, 0.0), (3150, 0.0), (3151, 0.01691215699837049), (3152, 0.010037777943321504), (3153, 0.010482491925059803), (3154, 0.10502864716264732), (3155, 0.03493992006808821), (3156, 0.0), (3157, 0.0), (3158, 0.0), (3159, 0.0), (3160, 0.0), (3161, 0.0), (3162, 0.0), (3163, 0.0), (3164, 0.0), (3165, 0.04235446194029365), (3166, 0.043176943912919985), (3167, 0.0), (3168, 0.0), (3169, 0.0), (3170, 0.01208684409987049), (3171, 0.03942012662837996), (3172, 0.0), (3173, 0.0), (3174, 0.0), (3175, 0.0), (3176, 0.0), (3177, 0.0), (3178, 0.043176943912919985), (3179, 0.0), (3180, 0.0), (3181, 0.0), (3182, 0.012229123250725804), (3183, 0.024183676478236424), (3184, 0.012960005962906265), (3185, 0.0), (3186, 0.0), (3187, 0.012320182802014504), (3188, 0.0), (3189, 0.0), (3190, 0.0), (3191, 0.0), (3192, 0.03342225990980577), (3193, 0.0), (3194, 0.010094875289195891), (3195, 0.010764207166774014), (3196, 0.01275016168640686), (3197, 0.0), (3198, 0.0183965579995892), (3199, 0.011943823905459113), (3200, 0.010068904104714857), (3201, 0.0), (3202, 0.0), (3203, 0.0), (3204, 0.0), (3205, 0.0), (3206, 0.0), (3207, 0.0), (3208, 0.0), (3209, 0.0), (3210, 0.04254723880875622), (3211, 0.0), (3212, 0.0), (3213, 0.0), (3214, 0.022849952699154262), (3215, 0.0), (3216, 0.0), (3217, 0.0), (3218, 0.023823760589233283), (3219, 0.024663538818907278), (3220, 0.027344356815785918), (3221, 0.0), (3222, 0.0), (3223, 0.0), (3224, 0.0), (3225, 0.0), (3226, 0.0), (3227, 0.046052094504464056), (3228, 0.054837070854721746), (3229, 0.0), (3230, 0.0), (3231, 0.0), (3232, 0.02541531331820932), (3233, 0.010674542889423556), (3234, 0.04480457485305781), (3235, 0.038028974340023926), (3236, 0.0), (3237, 0.012184140326197218), (3238, 0.0), (3239, 0.0), (3240, 0.01250479506526109), (3241, 0.017329124238918397), (3242, 0.0), (3243, 0.0), (3244, 0.0), (3245, 0.0278664596523679), (3246, 0.0), (3247, 0.0), (3248, 0.04888417287999153), (3249, 0.1311422387250216), (3250, 0.0), (3251, 0.0), (3252, 0.0), (3253, 0.0), (3254, 0.014043946095166704), (3255, 0.0), (3256, 0.0), (3257, 0.015163396826289094), (3258, 0.043176943912919985), (3259, 0.029545434423752757), (3260, 0.0), (3261, 0.0), (3262, 0.032456340200816496), (3263, 0.0), (3264, 0.0), (3265, 0.0), (3266, 0.0), (3267, 0.05584200831486545), (3268, 0.011151293426874235), (3269, 0.0), (3270, 0.0), (3271, 0.0), (3272, 0.0), (3273, 0.020233916011661662), (3274, 0.04888417287999153), (3275, 0.12797770669397834), (3276, 0.03654517459066966), (3277, 0.0), (3278, 0.011570602840494297), (3279, 0.0), (3280, 0.08458641258746231), (3281, 0.0), (3282, 0.027344356815785918), (3283, 0.0), (3284, 0.054837070854721746), (3285, 0.0), (3286, 0.0), (3287, 0.0), (3288, 0.0), (3289, 0.0), (3290, 0.0), (3291, 0.0297826742446181), (3292, 0.0), (3293, 0.1860387741393776), (3294, 0.0), (3295, 0.0), (3296, 0.04888417287999153), (3297, 0.05802246892609551), (3298, 0.012603694203394376), (3299, 0.0), (3300, 0.009634788586000384), (3301, 0.006316287692537497), (3302, 0.018237387436087653), (3303, 0.016170980874544494), (3304, 0.009412964651593992), (3305, 0.0), (3306, 0.06325075305920456), (3307, 0.0), (3308, 0.01397380839027317), (3309, 0.0), (3310, 0.0), (3311, 0.010467977955167095), (3312, 0.09742399292951223), (3313, 0.0), (3314, 0.015899825029967073), (3315, 0.011786363798426302), (3316, 0.03210884828037529), (3317, 0.036694544295269436), (3318, 0.009826394139759848), (3319, 0.0), (3320, 0.0), (3321, 0.0), (3322, 0.10080542419003585), (3323, 0.0), (3324, 0.0), (3325, 0.022313432014154404), (3326, 0.01228202084211991), (3327, 0.010003695890780357), (3328, 0.011901769740583984), (3329, 0.0), (3330, 0.012779660553947879), (3331, 0.013156188434749106), (3332, 0.0), (3333, 0.0), (3334, 0.028139311030651978), (3335, 0.0), (3336, 0.0), (3337, 0.0), (3338, 0.0), (3339, 0.0), (3340, 0.0), (3341, 0.0), (3342, 0.011745898737907334), (3343, 0.0), (3344, 0.014111675924741992), (3345, 0.0), (3346, 0.010043140147904491), (3347, 0.011418905782514399), (3348, 0.0), (3349, 0.047115024878379375), (3350, 0.0), (3351, 0.13931704013204235), (3352, 0.012077573473181242), (3353, 0.04932233913617943), (3354, 0.0), (3355, 0.01278070740287678), (3356, 0.0), (3357, 0.021084094831027106), (3358, 0.0), (3359, 0.02863613744089117), (3360, 0.012684372455289215), (3361, 0.0), (3362, 0.0), (3363, 0.02870759709345863), (3364, 0.043176943912919985), (3365, 0.008611651144484856), (3366, 0.0), (3367, 0.0), (3368, 0.0), (3369, 0.0), (3370, 0.04682021766061016), (3371, 0.0), (3372, 0.0), (3373, 0.0), (3374, 0.06941965771311087), (3375, 0.0), (3376, 0.0), (3377, 0.09349501550877289), (3378, 0.0), (3379, 0.009380056624410174), (3380, 0.013495615936202968), (3381, 0.0), (3382, 0.055022643275522205), (3383, 0.0), (3384, 0.0), (3385, 0.0), (3386, 0.014784742010526236), (3387, 0.0), (3388, 0.01230799949069791), (3389, 0.013217275897587895), (3390, 0.0), (3391, 0.010930926635225043), (3392, 0.0), (3393, 0.011129626147799242), (3394, 0.0), (3395, 0.0), (3396, 0.10080542419003585), (3397, 0.0), (3398, 0.0), (3399, 0.012387140560906843), (3400, 0.0), (3401, 0.0), (3402, 0.010892910746225748), (3403, 0.032158812516702634), (3404, 0.0), (3405, 0.0), (3406, 0.012952588511580179), (3407, 0.011088310759247667), (3408, 0.018401074499651032), (3409, 0.011355028413153964), (3410, 0.0), (3411, 0.0), (3412, 0.0), (3413, 0.012119246989566458), (3414, 0.0), (3415, 0.0), (3416, 0.0), (3417, 0.012323342888475804), (3418, 0.025350459951881444), (3419, 0.0), (3420, 0.0), (3421, 0.0), (3422, 0.0), (3423, 0.0), (3424, 0.0), (3425, 0.02863613744089117), (3426, 0.0), (3427, 0.0), (3428, 0.0), (3429, 0.0), (3430, 0.0), (3431, 0.0), (3432, 0.0), (3433, 0.011413570825401684), (3434, 0.0), (3435, 0.010738638029178852), (3436, 0.01093261181231532), (3437, 0.039017878374848214), (3438, 0.0), (3439, 0.0), (3440, 0.0), (3441, 0.0), (3442, 0.0), (3443, 0.0), (3444, 0.0), (3445, 0.010807443312041575), (3446, 0.0), (3447, 0.012330814654706753), (3448, 0.0), (3449, 0.01403090442231915), (3450, 0.06600788954043972), (3451, 0.0), (3452, 0.0), (3453, 0.029897800333641825), (3454, 0.0), (3455, 0.0), (3456, 0.0), (3457, 0.0), (3458, 0.0), (3459, 0.0), (3460, 0.011127316262291175), (3461, 0.0), (3462, 0.0), (3463, 0.0), (3464, 0.0), (3465, 0.022830671773175798), (3466, 0.023178770703277993), (3467, 0.0), (3468, 0.0), (3469, 0.0), (3470, 0.0), (3471, 0.009159577009791144), (3472, 0.0), (3473, 0.0), (3474, 0.01303744575656689), (3475, 0.0), (3476, 0.0), (3477, 0.021339530186841517), (3478, 0.0), (3479, 0.024183676478236424), (3480, 0.0), (3481, 0.0), (3482, 0.0), (3483, 0.03946818367909285), (3484, 0.0), (3485, 0.0), (3486, 0.10049991356213424), (3487, 0.011902703329277082), (3488, 0.0), (3489, 0.0), (3490, 0.0), (3491, 0.0), (3492, 0.010739915725601361), (3493, 0.010417369435507645), (3494, 0.0), (3495, 0.0), (3496, 0.011916861068645907), (3497, 0.0), (3498, 0.011042276950793425), (3499, 0.0), (3500, 0.012201913809324902), (3501, 0.012439800416306105), (3502, 0.0), (3503, 0.012435869682124795), (3504, 0.03890427993463802), (3505, 0.0), (3506, 0.02863613744089117), (3507, 0.0), (3508, 0.0), (3509, 0.0), (3510, 0.0), (3511, 0.01287161317207488), (3512, 0.04139910053977982), (3513, 0.0), (3514, 0.0), (3515, 0.0), (3516, 0.01383605367651743), (3517, 0.0), (3518, 0.10422654046861908), (3519, 0.0), (3520, 0.0), (3521, 0.024714431791093536), (3522, 0.0), (3523, 0.10080542419003585), (3524, 0.014209618210070487), (3525, 0.0), (3526, 0.01756842674838486), (3527, 0.04541548215788388), (3528, 0.0), (3529, 0.0), (3530, 0.0), (3531, 0.0), (3532, 0.0), (3533, 0.0), (3534, 0.014863198595097687), (3535, 0.027805114131592038), (3536, 0.0), (3537, 0.0), (3538, 0.0), (3539, 0.0), (3540, 0.0), (3541, 0.010895488424598958), (3542, 0.011427745880451973), (3543, 0.0), (3544, 0.0), (3545, 0.0), (3546, 0.007437364775406091), (3547, 0.0), (3548, 0.0), (3549, 0.0), (3550, 0.0), (3551, 0.013043704768577588), (3552, 0.027344356815785918), (3553, 0.0903784026823272), (3554, 0.0), (3555, 0.0), (3556, 0.01407192915242161), (3557, 0.013148332419264174), (3558, 0.011821310606452827), (3559, 0.0), (3560, 0.012571368853714975), (3561, 0.0), (3562, 0.0), (3563, 0.0), (3564, 0.01135647907576058), (3565, 0.0), (3566, 0.0), (3567, 0.0), (3568, 0.0), (3569, 0.011840877409997135), (3570, 0.0), (3571, 0.010805765731760116), (3572, 0.0), (3573, 0.0), (3574, 0.0), (3575, 0.008920714743607646), (3576, 0.0), (3577, 0.03431854032553562), (3578, 0.0), (3579, 0.02684822425743025), (3580, 0.0), (3581, 0.0), (3582, 0.02371872091421568), (3583, 0.0), (3584, 0.0), (3585, 0.0), (3586, 0.028099519660620225), (3587, 0.0), (3588, 0.0), (3589, 0.0), (3590, 0.020736069809080857), (3591, 0.0), (3592, 0.0), (3593, 0.0), (3594, 0.0), (3595, 0.0), (3596, 0.0), (3597, 0.0), (3598, 0.0), (3599, 0.0), (3600, 0.0), (3601, 0.043176943912919985), (3602, 0.0), (3603, 0.0), (3604, 0.0), (3605, 0.0), (3606, 0.0), (3607, 0.0), (3608, 0.0), (3609, 0.0), (3610, 0.0), (3611, 0.0), (3612, 0.04493479335817534), (3613, 0.02193107302052491), (3614, 0.010863635033457707), (3615, 0.0), (3616, 0.06798656999173974), (3617, 0.0), (3618, 0.012849233288443524), (3619, 0.0), (3620, 0.01658531538809256), (3621, 0.0), (3622, 0.0), (3623, 0.010082120301139348), (3624, 0.011484121710861814), (3625, 0.0), (3626, 0.007495946133393649), (3627, 0.0), (3628, 0.0), (3629, 0.0), (3630, 0.0), (3631, 0.0), (3632, 0.0), (3633, 0.0), (3634, 0.00937766937742903), (3635, 0.03884170384211337), (3636, 0.0), (3637, 0.0459330353886239), (3638, 0.04369118131587897), (3639, 0.018632202483548254), (3640, 0.012176909088795464), (3641, 0.010244064265524322), (3642, 0.027314566942957655), (3643, 0.012173783364077257), (3644, 0.0), (3645, 0.04112022012826809), (3646, 0.010468938025684807), (3647, 0.0), (3648, 0.0), (3649, 0.0), (3650, 0.0), (3651, 0.10080542419003585), (3652, 0.09914886953922811), (3653, 0.011594790767001642), (3654, 0.013188033677392217), (3655, 0.13699366479299946), (3656, 0.0), (3657, 0.009374114105953364), (3658, 0.0), (3659, 0.031644750454713), (3660, 0.010778388272464703), (3661, 0.0), (3662, 0.0), (3663, 0.0), (3664, 0.0), (3665, 0.0), (3666, 0.01436714604047246), (3667, 0.009095178432432289), (3668, 0.0), (3669, 0.013834416728109216), (3670, 0.03078295399301564), (3671, 0.0), (3672, 0.0), (3673, 0.011444059752594334), (3674, 0.0), (3675, 0.14274598107800057), (3676, 0.0), (3677, 0.0), (3678, 0.0), (3679, 0.0), (3680, 0.016197061727381803), (3681, 0.0), (3682, 0.0), (3683, 0.0), (3684, 0.0), (3685, 0.0), (3686, 0.0), (3687, 0.0), (3688, 0.0), (3689, 0.012855286834153662), (3690, 0.0), (3691, 0.0), (3692, 0.01335957159046915), (3693, 0.0), (3694, 0.03733533917093343), (3695, 0.0), (3696, 0.011138781238791771), (3697, 0.0), (3698, 0.0), (3699, 0.02892702270199611), (3700, 0.0), (3701, 0.0), (3702, 0.0), (3703, 0.0), (3704, 0.013638872991567902), (3705, 0.009925100290954392), (3706, 0.012248279915517036), (3707, 0.012297405157121057), (3708, 0.09742399292951223), (3709, 0.0), (3710, 0.0), (3711, 0.02336896397623678), (3712, 0.0), (3713, 0.0), (3714, 0.0), (3715, 0.0), (3716, 0.0), (3717, 0.0), (3718, 0.0), (3719, 0.0), (3720, 0.0), (3721, 0.0), (3722, 0.0), (3723, 0.0), (3724, 0.0), (3725, 0.0), (3726, 0.0), (3727, 0.009806848758697044), (3728, 0.01168437799520322), (3729, 0.0), (3730, 0.0), (3731, 0.03313969535815372), (3732, 0.0), (3733, 0.0), (3734, 0.010017398230578112), (3735, 0.0), (3736, 0.0), (3737, 0.0), (3738, 0.0), (3739, 0.015481056969339211), (3740, 0.0), (3741, 0.03916616740261631), (3742, 0.01065969967031974), (3743, 0.0), (3744, 0.0), (3745, 0.011045671160497922), (3746, 0.0), (3747, 0.0), (3748, 0.0), (3749, 0.01214186360494189), (3750, 0.0), (3751, 0.0), (3752, 0.0), (3753, 0.0), (3754, 0.06798656999173974), (3755, 0.01069725545438438), (3756, 0.040042435676117816), (3757, 0.0), (3758, 0.0), (3759, 0.0), (3760, 0.0), (3761, 0.0), (3762, 0.10080542419003585), (3763, 0.022849952699154262), (3764, 0.0), (3765, 0.011605308851469908), (3766, 0.14274598107800057), (3767, 0.011340972005956925), (3768, 0.0), (3769, 0.0), (3770, 0.0), (3771, 0.012879646850466431), (3772, 0.01546420370895849), (3773, 0.0), (3774, 0.0), (3775, 0.0), (3776, 0.0), (3777, 0.04381794335482325), (3778, 0.0182582743288717), (3779, 0.0), (3780, 0.01503520546426386), (3781, 0.0), (3782, 0.0), (3783, 0.0), (3784, 0.011720811125259339), (3785, 0.0), (3786, 0.0), (3787, 0.0), (3788, 0.0), (3789, 0.0), (3790, 0.0), (3791, 0.0), (3792, 0.0), (3793, 0.0), (3794, 0.03214452027308632), (3795, 0.0), (3796, 0.0), (3797, 0.012307896606596608), (3798, 0.0), (3799, 0.013938274834986856), (3800, 0.0), (3801, 0.028281468300174237), (3802, 0.0), (3803, 0.0), (3804, 0.04888417287999153), (3805, 0.0), (3806, 0.0), (3807, 0.010700930176274218), (3808, 0.0), (3809, 0.01008554074123907), (3810, 0.0), (3811, 0.010890303854264923), (3812, 0.0), (3813, 0.05128512572199491), (3814, 0.0), (3815, 0.0), (3816, 0.0), (3817, 0.0), (3818, 0.0), (3819, 0.00983238763565343), (3820, 0.0), (3821, 0.0), (3822, 0.016918388761879455), (3823, 0.0), (3824, 0.0), (3825, 0.0), (3826, 0.012751081103481764), (3827, 0.032456340200816496), (3828, 0.07555355811451124), (3829, 0.011252278343292451), (3830, 0.0), (3831, 0.0), (3832, 0.06798656999173974), (3833, 0.0), (3834, 0.0), (3835, 0.008791157554756766), (3836, 0.0), (3837, 0.0), (3838, 0.0), (3839, 0.011206811174852461), (3840, 0.0), (3841, 0.0), (3842, 0.028126728964389915), (3843, 0.0), (3844, 0.0), (3845, 0.01117527192042141), (3846, 0.0), (3847, 0.0), (3848, 0.0), (3849, 0.0), (3850, 0.0), (3851, 0.0), (3852, 0.0), (3853, 0.0), (3854, 0.029875160153930477), (3855, 0.011365741202724315), (3856, 0.0), (3857, 0.0), (3858, 0.0), (3859, 0.0), (3860, 0.024304642668806373), (3861, 0.0), (3862, 0.054872994380151495), (3863, 0.0), (3864, 0.0), (3865, 0.0), (3866, 0.01258729957555017), (3867, 0.01312792523420442), (3868, 0.012306810665347041), (3869, 0.0), (3870, 0.0), (3871, 0.0), (3872, 0.0), (3873, 0.012853650378280549), (3874, 0.0), (3875, 0.010086949854580075), (3876, 0.010337208551834549), (3877, 0.0), (3878, 0.0), (3879, 0.0), (3880, 0.010533245453005527), (3881, 0.0), (3882, 0.010928929704193593), (3883, 0.14274598107800057), (3884, 0.10080542419003585), (3885, 0.0), (3886, 0.0), (3887, 0.0), (3888, 0.010678747684171772), (3889, 0.0), (3890, 0.01274042579430436), (3891, 0.0), (3892, 0.04480457485305781), (3893, 0.012813190733328258), (3894, 0.0), (3895, 0.00793013846972145), (3896, 0.0), (3897, 0.0), (3898, 0.014653092032499124), (3899, 0.0), (3900, 0.010370375554074232), (3901, 0.021977629126242633), (3902, 0.010411987053091423), (3903, 0.013383148492039483), (3904, 0.012525867718081592), (3905, 0.0), (3906, 0.0), (3907, 0.0), (3908, 0.0), (3909, 0.0), (3910, 0.010101893868249886), (3911, 0.0), (3912, 0.0), (3913, 0.015139361957472527), (3914, 0.0), (3915, 0.011546289234300554), (3916, 0.0), (3917, 0.012209150232392857), (3918, 0.0), (3919, 0.011306136746387016), (3920, 0.015763023536635744), (3921, 0.0), (3922, 0.06798656999173974), (3923, 0.0), (3924, 0.0497772908733809), (3925, 0.023587744739346786), (3926, 0.0), (3927, 0.012149194431803425), (3928, 0.00918526371886805), (3929, 0.0), (3930, 0.0), (3931, 0.0), (3932, 0.02009049014717368), (3933, 0.0), (3934, 0.0), (3935, 0.0), (3936, 0.0), (3937, 0.0), (3938, 0.0), (3939, 0.10080542419003585), (3940, 0.0), (3941, 0.021552759899459654), (3942, 0.0), (3943, 0.0), (3944, 0.0), (3945, 0.10080542419003585), (3946, 0.1316308667435355), (3947, 0.04150528342978314), (3948, 0.0), (3949, 0.12774776701257928), (3950, 0.0), (3951, 0.0), (3952, 0.043176943912919985), (3953, 0.008694518117934556), (3954, 0.008106698674722392), (3955, 0.0), (3956, 0.011984482336001408), (3957, 0.0), (3958, 0.0), (3959, 0.07211719485573473), (3960, 0.013693140146945124), (3961, 0.029877464558152347), (3962, 0.01865567052902979), (3963, 0.0), (3964, 0.0), (3965, 0.0), (3966, 0.0), (3967, 0.0), (3968, 0.0), (3969, 0.0), (3970, 0.0), (3971, 0.0), (3972, 0.0), (3973, 0.14281748582198173), (3974, 0.012213342036749779), (3975, 0.0), (3976, 0.0), (3977, 0.0), (3978, 0.05445282775280926), (3979, 0.0), (3980, 0.0), (3981, 0.0), (3982, 0.0), (3983, 0.00998849563673038), (3984, 0.1600055371800357), (3985, 0.0), (3986, 0.0), (3987, 0.0), (3988, 0.0), (3989, 0.0), (3990, 0.05128512572199491), (3991, 0.0), (3992, 0.04612835665175966), (3993, 0.025884027242626527), (3994, 0.0), (3995, 0.0), (3996, 0.0), (3997, 0.0), (3998, 0.0), (3999, 0.046543439024141535), (4000, 0.023448530560153703), (4001, 0.0), (4002, 0.0), (4003, 0.0), (4004, 0.02566130078165807), (4005, 0.011882825026567677), (4006, 0.0), (4007, 0.12774776701257928), (4008, 0.0), (4009, 0.0), (4010, 0.0), (4011, 0.01192388975907718), (4012, 0.0), (4013, 0.0), (4014, 0.03871260108811003), (4015, 0.0), (4016, 0.023587744739346786), (4017, 0.0), (4018, 0.0), (4019, 0.0), (4020, 0.013193630605280502), (4021, 0.0), (4022, 0.0), (4023, 0.06798656999173974), (4024, 0.03210884828037529), (4025, 0.012225532194631952), (4026, 0.0), (4027, 0.0), (4028, 0.0), (4029, 0.0), (4030, 0.10080542419003585), (4031, 0.0), (4032, 0.10080542419003585), (4033, 0.01520811485564575), (4034, 0.0), (4035, 0.0), (4036, 0.01136500764023828), (4037, 0.0), (4038, 0.012164677330667487), (4039, 0.0), (4040, 0.0), (4041, 0.0), (4042, 0.0), (4043, 0.0), (4044, 0.0), (4045, 0.0), (4046, 0.011874652905099765), (4047, 0.0), (4048, 0.1860387741393776), (4049, 0.0), (4050, 0.0), (4051, 0.0149673213981054), (4052, 0.0), (4053, 0.01222990987258685), (4054, 0.013789256821105978), (4055, 0.0), (4056, 0.011538194680441859), (4057, 0.0), (4058, 0.0), (4059, 0.0), (4060, 0.03039167845372933), (4061, 0.0), (4062, 0.10080542419003585), (4063, 0.0), (4064, 0.0), (4065, 0.0), (4066, 0.012593083660442565), (4067, 0.0), (4068, 0.04614841134144499), (4069, 0.009734468207635186), (4070, 0.0), (4071, 0.0), (4072, 0.0), (4073, 0.0), (4074, 0.01125325979433741), (4075, 0.0), (4076, 0.0), (4077, 0.0), (4078, 0.0), (4079, 0.015829277897556355), (4080, 0.0), (4081, 0.0), (4082, 0.04888417287999153), (4083, 0.0), (4084, 0.0), (4085, 0.012907659919883411), (4086, 0.0), (4087, 0.015988802887983395), (4088, 0.049583646749033525), (4089, 0.0), (4090, 0.0), (4091, 0.0), (4092, 0.054837070854721746), (4093, 0.0), (4094, 0.0), (4095, 0.028523808195687325), (4096, 0.0297699221306407), (4097, 0.0), (4098, 0.013607410625258031), (4099, 0.0), (4100, 0.0), (4101, 0.020422641795584277), (4102, 0.0), (4103, 0.0), (4104, 0.0), (4105, 0.0), (4106, 0.0), (4107, 0.10080542419003585), (4108, 0.0), (4109, 0.0), (4110, 0.0), (4111, 0.012444566474104402), (4112, 0.0), (4113, 0.014651338787895915), (4114, 0.0), (4115, 0.0), (4116, 0.014402541859803024), (4117, 0.014514022117888443), (4118, 0.03787084373503361), (4119, 0.0), (4120, 0.0), (4121, 0.029174721892799363), (4122, 0.1241203808162209), (4123, 0.011232209183130419), (4124, 0.02319021823398336), (4125, 0.0), (4126, 0.0), (4127, 0.0), (4128, 0.0), (4129, 0.0), (4130, 0.011356946285349659), (4131, 0.0), (4132, 0.0), (4133, 0.01409263413824392), (4134, 0.0), (4135, 0.01232822948162784), (4136, 0.0), (4137, 0.011571534560556096), (4138, 0.012109744562902496), (4139, 0.0), (4140, 0.0), (4141, 0.030897437551200918), (4142, 0.0), (4143, 0.008797488785121915), (4144, 0.0), (4145, 0.0), (4146, 0.0), (4147, 0.0), (4148, 0.0), (4149, 0.0), (4150, 0.0), (4151, 0.029349773788529755), (4152, 0.010769139664578847), (4153, 0.0), (4154, 0.009215018226309315), (4155, 0.0), (4156, 0.01032213127863916), (4157, 0.0), (4158, 0.0), (4159, 0.0), (4160, 0.01646761235287214), (4161, 0.0), (4162, 0.0), (4163, 0.027703755781301694), (4164, 0.031387150993944894), (4165, 0.0), (4166, 0.0), (4167, 0.0), (4168, 0.0), (4169, 0.10080542419003585), (4170, 0.0), (4171, 0.019111811356185924), (4172, 0.10080542419003585), (4173, 0.0), (4174, 0.0), (4175, 0.0), (4176, 0.01093139367498462), (4177, 0.0), (4178, 0.010857049912877196), (4179, 0.0), (4180, 0.0), (4181, 0.0), (4182, 0.011208253966080082), (4183, 0.012008049820464106), (4184, 0.0), (4185, 0.0), (4186, 0.0), (4187, 0.012096724096988795), (4188, 0.0), (4189, 0.038097133342673395), (4190, 0.0), (4191, 0.0), (4192, 0.033661076796018194), (4193, 0.0), (4194, 0.0), (4195, 0.0), (4196, 0.0), (4197, 0.0), (4198, 0.0), (4199, 0.0), (4200, 0.0), (4201, 0.0), (4202, 0.03112379847477777), (4203, 0.017260915327706697), (4204, 0.0), (4205, 0.009949645033220657), (4206, 0.0), (4207, 0.0), (4208, 0.0), (4209, 0.0), (4210, 0.0), (4211, 0.0), (4212, 0.0), (4213, 0.0), (4214, 0.0), (4215, 0.0), (4216, 0.02831571315701705), (4217, 0.0), (4218, 0.0), (4219, 0.0), (4220, 0.0), (4221, 0.06490445070065796), (4222, 0.043176943912919985), (4223, 0.0), (4224, 0.0), (4225, 0.10080542419003585), (4226, 0.0), (4227, 0.02861717120043669), (4228, 0.0), (4229, 0.0), (4230, 0.10080542419003585), (4231, 0.14274598107800057), (4232, 0.033311874047775254), (4233, 0.02881665420489456), (4234, 0.0), (4235, 0.02350109018878472), (4236, 0.0), (4237, 0.0), (4238, 0.0), (4239, 0.0), (4240, 0.0), (4241, 0.0), (4242, 0.14274598107800057), (4243, 0.04888417287999153), (4244, 0.013185844285183854), (4245, 0.0), (4246, 0.06200784751755909), (4247, 0.010929368554949217), (4248, 0.0), (4249, 0.011034443893352544), (4250, 0.0), (4251, 0.0), (4252, 0.0), (4253, 0.0), (4254, 0.0), (4255, 0.011075011125915727), (4256, 0.0), (4257, 0.01008046965156176), (4258, 0.0), (4259, 0.013971314504578366), (4260, 0.0), (4261, 0.023525107658649184), (4262, 0.0), (4263, 0.03151955028576135), (4264, 0.0), (4265, 0.0), (4266, 0.0133503829414988), (4267, 0.0), (4268, 0.03879972901117416), (4269, 0.01646761235287214), (4270, 0.0), (4271, 0.0), (4272, 0.0), (4273, 0.0), (4274, 0.0), (4275, 0.0), (4276, 0.0), (4277, 0.0), (4278, 0.0), (4279, 0.0), (4280, 0.0), (4281, 0.0), (4282, 0.012090375722211524), (4283, 0.011727469517173447), (4284, 0.01950527283861991), (4285, 0.0), (4286, 0.023587744739346786), (4287, 0.015125750111688504), (4288, 0.08394557237868627), (4289, 0.0), (4290, 0.0), (4291, 0.0), (4292, 0.0), (4293, 0.13997330226942797), (4294, 0.0), (4295, 0.013221779407904631), (4296, 0.0), (4297, 0.0), (4298, 0.0), (4299, 0.0), (4300, 0.0), (4301, 0.0), (4302, 0.0), (4303, 0.0), (4304, 0.0), (4305, 0.0), (4306, 0.0), (4307, 0.0), (4308, 0.0), (4309, 0.01111333746673084), (4310, 0.0), (4311, 0.012787339129740566), (4312, 0.0), (4313, 0.0), (4314, 0.0), (4315, 0.0), (4316, 0.0), (4317, 0.0), (4318, 0.0), (4319, 0.0), (4320, 0.0), (4321, 0.01264402151499903), (4322, 0.0), (4323, 0.0), (4324, 0.0), (4325, 0.02962435431372626), (4326, 0.0), (4327, 0.0), (4328, 0.0), (4329, 0.0), (4330, 0.012121267258427507), (4331, 0.0), (4332, 0.0), (4333, 0.022564609001114382), (4334, 0.0123830388254006), (4335, 0.0), (4336, 0.01110518595073069), (4337, 0.0), (4338, 0.0), (4339, 0.0), (4340, 0.0), (4341, 0.0), (4342, 0.0), (4343, 0.0), (4344, 0.008265109622895485), (4345, 0.009613407779941826), (4346, 0.0), (4347, 0.0), (4348, 0.0), (4349, 0.0), (4350, 0.01011219647714568), (4351, 0.0), (4352, 0.0), (4353, 0.0), (4354, 0.0), (4355, 0.0), (4356, 0.012029491140710885), (4357, 0.010459321833020199), (4358, 0.0), (4359, 0.0), (4360, 0.0), (4361, 0.0), (4362, 0.011924031583767269), (4363, 0.0), (4364, 0.0), (4365, 0.0), (4366, 0.0), (4367, 0.0), (4368, 0.01457795244476214), (4369, 0.016072251148933993), (4370, 0.0), (4371, 0.011841456295357149), (4372, 0.0), (4373, 0.0), (4374, 0.04278338189582703), (4375, 0.11440811294247617), (4376, 0.0), (4377, 0.0), (4378, 0.0), (4379, 0.04099146795660748), (4380, 0.030732736257235757), (4381, 0.0), (4382, 0.011375006467359682), (4383, 0.0), (4384, 0.0), (4385, 0.0), (4386, 0.0), (4387, 0.03832483521468722), (4388, 0.0), (4389, 0.0), (4390, 0.0), (4391, 0.0), (4392, 0.0), (4393, 0.0), (4394, 0.012008948034359418), (4395, 0.0), (4396, 0.1183370741918763), (4397, 0.0), (4398, 0.0), (4399, 0.0), (4400, 0.0), (4401, 0.012173172140690885), (4402, 0.00994243074700652), (4403, 0.07151472768288422), (4404, 0.0), (4405, 0.0), (4406, 0.0), (4407, 0.10080542419003585), (4408, 0.0), (4409, 0.0), (4410, 0.0), (4411, 0.008564305055096933), (4412, 0.016595081737264955), (4413, 0.0), (4414, 0.0), (4415, 0.0), (4416, 0.0), (4417, 0.0), (4418, 0.0), (4419, 0.016700361707084905), (4420, 0.010486683490342784), (4421, 0.0), (4422, 0.010458208474085217), (4423, 0.10080542419003585), (4424, 0.0), (4425, 0.0), (4426, 0.0), (4427, 0.0), (4428, 0.0), (4429, 0.009271255222144583), (4430, 0.010107040174999814), (4431, 0.0), (4432, 0.012371950154533174), (4433, 0.0), (4434, 0.0), (4435, 0.02564205501355517), (4436, 0.04063906204798397), (4437, 0.0), (4438, 0.0), (4439, 0.0), (4440, 0.10828399775965072), (4441, 0.0), (4442, 0.02458484824622096), (4443, 0.046052094504464056), (4444, 0.046052094504464056), (4445, 0.0), (4446, 0.015758499451443097), (4447, 0.0), (4448, 0.014082169743696282), (4449, 0.0), (4450, 0.025519575383263503), (4451, 0.0), (4452, 0.0), (4453, 0.0), (4454, 0.0), (4455, 0.0), (4456, 0.0), (4457, 0.0), (4458, 0.04888417287999153), (4459, 0.0), (4460, 0.0), (4461, 0.0), (4462, 0.0), (4463, 0.0), (4464, 0.0), (4465, 0.06242019008648478), (4466, 0.0), (4467, 0.0), (4468, 0.0), (4469, 0.1860387741393776), (4470, 0.01243766506172889), (4471, 0.0), (4472, 0.011699187703409598), (4473, 0.007895646842876754), (4474, 0.03838549764627209), (4475, 0.0378952730763515), (4476, 0.0), (4477, 0.019268766156175565), (4478, 0.0), (4479, 0.00971066440015964), (4480, 0.0), (4481, 0.030158977061931467), (4482, 0.0), (4483, 0.0), (4484, 0.01582923557982761), (4485, 0.0), (4486, 0.0), (4487, 0.011576006932298146), (4488, 0.0), (4489, 0.011980655019464324), (4490, 0.031003122819442046), (4491, 0.0), (4492, 0.0), (4493, 0.0), (4494, 0.013453390671630924), (4495, 0.0), (4496, 0.0), (4497, 0.0), (4498, 0.0), (4499, 0.0), (4500, 0.0), (4501, 0.011943316128127353), (4502, 0.037116301359101614), (4503, 0.04479857196452615), (4504, 0.0), (4505, 0.0), (4506, 0.0), (4507, 0.011477590437680388), (4508, 0.0), (4509, 0.0), (4510, 0.02954421151375577), (4511, 0.01046068964802715), (4512, 0.11087196131630932), (4513, 0.0), (4514, 0.0), (4515, 0.0), (4516, 0.011976837324906345), (4517, 0.023488631284258744), (4518, 0.0), (4519, 0.0), (4520, 0.010923302808202305), (4521, 0.020211660838331133), (4522, 0.047115024878379375), (4523, 0.011526067644160743), (4524, 0.0), (4525, 0.0), (4526, 0.0), (4527, 0.0), (4528, 0.012909588404604459), (4529, 0.0), (4530, 0.008614606689926346), (4531, 0.029006368463521608), (4532, 0.0), (4533, 0.010558356635260844), (4534, 0.0), (4535, 0.011548532321201108), (4536, 0.01084772119374727), (4537, 0.0), (4538, 0.0), (4539, 0.0), (4540, 0.10080542419003585), (4541, 0.0), (4542, 0.0), (4543, 0.0), (4544, 0.0), (4545, 0.0), (4546, 0.01934023781005682), (4547, 0.0), (4548, 0.0), (4549, 0.0), (4550, 0.0), (4551, 0.05497408573099823), (4552, 0.0), (4553, 0.031194741623352548), (4554, 0.11105448902120352), (4555, 0.015699624487312415), (4556, 0.0), (4557, 0.028126385113128555), (4558, 0.0), (4559, 0.0), (4560, 0.0), (4561, 0.0), (4562, 0.0), (4563, 0.011475962111402196), (4564, 0.0), (4565, 0.0), (4566, 0.012882340068918034), (4567, 0.0), (4568, 0.0), (4569, 0.0), (4570, 0.0), (4571, 0.06798656999173974), (4572, 0.10080542419003585), (4573, 0.023587744739346786), (4574, 0.0), (4575, 0.012891741501908695), (4576, 0.0), (4577, 0.0), (4578, 0.0), (4579, 0.0), (4580, 0.0), (4581, 0.022805640871495718), (4582, 0.0), (4583, 0.0), (4584, 0.0), (4585, 0.0), (4586, 0.0), (4587, 0.0), (4588, 0.0), (4589, 0.04829765151267954), (4590, 0.010754960332293942), (4591, 0.0092946064118976), (4592, 0.0), (4593, 0.03199557438732322), (4594, 0.021000439460958305), (4595, 0.0), (4596, 0.0), (4597, 0.0), (4598, 0.0), (4599, 0.0), (4600, 0.0), (4601, 0.013741682587047653), (4602, 0.0), (4603, 0.011697657388687539), (4604, 0.0), (4605, 0.0), (4606, 0.0), (4607, 0.051889087639739796), (4608, 0.0), (4609, 0.0), (4610, 0.034523921823818936), (4611, 0.0), (4612, 0.0), (4613, 0.0), (4614, 0.13064200761656145), (4615, 0.0), (4616, 0.0), (4617, 0.1860387741393776), (4618, 0.0), (4619, 0.15641600420247775), (4620, 0.0), (4621, 0.0), (4622, 0.0), (4623, 0.02953332175218675), (4624, 0.011804814694896767), (4625, 0.014046001632817965), (4626, 0.010823547321438538), (4627, 0.0), (4628, 0.0), (4629, 0.01318084708887957), (4630, 0.0), (4631, 0.0), (4632, 0.04888417287999153), (4633, 0.0), (4634, 0.0), (4635, 0.0), (4636, 0.011035221560732904), (4637, 0.11105448902120352), (4638, 0.01407653200386896), (4639, 0.0), (4640, 0.00930750182109917), (4641, 0.0), (4642, 0.0), (4643, 0.030363643539890125), (4644, 0.0), (4645, 0.0), (4646, 0.0), (4647, 0.0), (4648, 0.0), (4649, 0.0), (4650, 0.019404103222490095), (4651, 0.0), (4652, 0.0), (4653, 0.0), (4654, 0.0), (4655, 0.0), (4656, 0.1241203808162209), (4657, 0.011622217209107576), (4658, 0.044792435293168516), (4659, 0.0), (4660, 0.03330747946818882), (4661, 0.0), (4662, 0.0), (4663, 0.0), (4664, 0.0), (4665, 0.0), (4666, 0.0), (4667, 0.0), (4668, 0.01288324517701895), (4669, 0.041494306902730524), (4670, 0.012359530673005813), (4671, 0.0), (4672, 0.0), (4673, 0.039286083018851524), (4674, 0.013210803694190773), (4675, 0.0), (4676, 0.0), (4677, 0.0), (4678, 0.0), (4679, 0.025126726766571007), (4680, 0.0), (4681, 0.0), (4682, 0.0), (4683, 0.0), (4684, 0.030647005723179), (4685, 0.0), (4686, 0.0), (4687, 0.0), (4688, 0.0), (4689, 0.0), (4690, 0.0), (4691, 0.0), (4692, 0.0), (4693, 0.10080542419003585), (4694, 0.0), (4695, 0.0), (4696, 0.0), (4697, 0.0), (4698, 0.0), (4699, 0.03199557438732322), (4700, 0.0), (4701, 0.03199557438732322), (4702, 0.0), (4703, 0.0), (4704, 0.033457247911000014), (4705, 0.0), (4706, 0.023587744739346786), (4707, 0.15636077493140438), (4708, 0.0), (4709, 0.09742399292951223), (4710, 0.023587744739346786), (4711, 0.0), (4712, 0.012890871358290373), (4713, 0.021942178483931214), (4714, 0.0), (4715, 0.0), (4716, 0.0), (4717, 0.03816627212605869), (4718, 0.021732003924063225), (4719, 0.043176943912919985), (4720, 0.0), (4721, 0.0), (4722, 0.05101101302163068), (4723, 0.025502796773402895), (4724, 0.14274598107800057), (4725, 0.0), (4726, 0.0), (4727, 0.03127445922445274), (4728, 0.0), (4729, 0.0), (4730, 0.0), (4731, 0.054837070854721746), (4732, 0.0), (4733, 0.01188811382396915), (4734, 0.018879290023782934), (4735, 0.14274598107800057), (4736, 0.0), (4737, 0.0), (4738, 0.0), (4739, 0.15641600420247775), (4740, 0.0), (4741, 0.0), (4742, 0.0), (4743, 0.0), (4744, 0.0), (4745, 0.0), (4746, 0.0), (4747, 0.09742399292951223), (4748, 0.0), (4749, 0.0), (4750, 0.0), (4751, 0.0), (4752, 0.0072076931772428856), (4753, 0.10080542419003585), (4754, 0.0), (4755, 0.0), (4756, 0.04480457485305781), (4757, 0.0), (4758, 0.0), (4759, 0.0)]\n"
          ]
        }
      ]
    },
    {
      "cell_type": "code",
      "source": [
        "len(Recommendation_Score)"
      ],
      "metadata": {
        "colab": {
          "base_uri": "https://localhost:8080/"
        },
        "id": "SYAvF8mMDv00",
        "outputId": "4c111738-be6d-4f19-9116-ebf9567c2cb1"
      },
      "execution_count": null,
      "outputs": [
        {
          "output_type": "execute_result",
          "data": {
            "text/plain": [
              "4760"
            ]
          },
          "metadata": {},
          "execution_count": 45
        }
      ]
    },
    {
      "cell_type": "markdown",
      "source": [
        "Get All Movies Sort Based on Recommendation Score wrt Favourite Movie"
      ],
      "metadata": {
        "id": "aIhMBO_ZDzPM"
      }
    },
    {
      "cell_type": "code",
      "source": [
        "Sorted_Similar_Movies = sorted(Recommendation_Score, key = lambda x:x[1], reverse=True )\n",
        "print(Sorted_Similar_Movies)"
      ],
      "metadata": {
        "colab": {
          "base_uri": "https://localhost:8080/"
        },
        "id": "5TB9GrVlD8fw",
        "outputId": "127c8409-70d5-4ad1-b57f-ba5d400c35ae"
      },
      "execution_count": null,
      "outputs": [
        {
          "output_type": "stream",
          "name": "stdout",
          "text": [
            "[(2692, 1.0000000000000002), (2558, 0.2785899194367715), (2903, 0.23312234424179604), (628, 0.20891131115041606), (2985, 0.18900305812860013), (2346, 0.1860387741393776), (2849, 0.1860387741393776), (3119, 0.1860387741393776), (3293, 0.1860387741393776), (4048, 0.1860387741393776), (4469, 0.1860387741393776), (4617, 0.1860387741393776), (1320, 0.1809125375604801), (2214, 0.16787472059313252), (1070, 0.16014444032037203), (3984, 0.1600055371800357), (4619, 0.15641600420247775), (4739, 0.15641600420247775), (4707, 0.15636077493140438), (2026, 0.15013225916655354), (455, 0.14532740884951995), (45, 0.14523451783366542), (2375, 0.14468001680717876), (3973, 0.14281748582198173), (3675, 0.14274598107800057), (3766, 0.14274598107800057), (3883, 0.14274598107800057), (4231, 0.14274598107800057), (4242, 0.14274598107800057), (4724, 0.14274598107800057), (4735, 0.14274598107800057), (1821, 0.1409189593696622), (4293, 0.13997330226942797), (3351, 0.13931704013204235), (2123, 0.13837248685095785), (3655, 0.13699366479299946), (2694, 0.1368600483443194), (830, 0.1347320399195765), (2716, 0.13282209301927259), (3946, 0.1316308667435355), (3249, 0.1311422387250216), (172, 0.13102151611174312), (4614, 0.13064200761656145), (2768, 0.12797770669397834), (3275, 0.12797770669397834), (1371, 0.12774776701257928), (3949, 0.12774776701257928), (4007, 0.12774776701257928), (2321, 0.12740270392728245), (4122, 0.1241203808162209), (4656, 0.1241203808162209), (1311, 0.11891363158814945), (4396, 0.1183370741918763), (2229, 0.11735549429212896), (2295, 0.11735549429212896), (694, 0.11733404767654326), (4375, 0.11440811294247617), (2122, 0.1116263452160776), (2638, 0.11105448902120352), (2932, 0.11105448902120352), (4554, 0.11105448902120352), (4637, 0.11105448902120352), (4512, 0.11087196131630932), (2540, 0.1087799830215273), (2363, 0.10828399775965072), (2581, 0.10828399775965072), (4440, 0.10828399775965072), (2014, 0.10521885267483864), (3154, 0.10502864716264732), (3518, 0.10422654046861908), (2288, 0.10080542419003585), (2299, 0.10080542419003585), (2392, 0.10080542419003585), (2425, 0.10080542419003585), (2454, 0.10080542419003585), (2673, 0.10080542419003585), (2757, 0.10080542419003585), (2957, 0.10080542419003585), (3052, 0.10080542419003585), (3322, 0.10080542419003585), (3396, 0.10080542419003585), (3523, 0.10080542419003585), (3651, 0.10080542419003585), (3762, 0.10080542419003585), (3884, 0.10080542419003585), (3939, 0.10080542419003585), (3945, 0.10080542419003585), (4030, 0.10080542419003585), (4032, 0.10080542419003585), (4062, 0.10080542419003585), (4107, 0.10080542419003585), (4169, 0.10080542419003585), (4172, 0.10080542419003585), (4225, 0.10080542419003585), (4230, 0.10080542419003585), (4407, 0.10080542419003585), (4423, 0.10080542419003585), (4540, 0.10080542419003585), (4572, 0.10080542419003585), (4693, 0.10080542419003585), (4753, 0.10080542419003585), (3486, 0.10049991356213424), (213, 0.099974069251437), (179, 0.0993617134658499), (381, 0.09927963442729264), (3652, 0.09914886953922811), (2859, 0.09783175422756343), (2275, 0.09742399292951223), (2383, 0.09742399292951223), (2751, 0.09742399292951223), (3312, 0.09742399292951223), (3708, 0.09742399292951223), (4709, 0.09742399292951223), (4747, 0.09742399292951223), (3142, 0.09536473435906219), (1118, 0.09487628042252674), (387, 0.0946144348863828), (873, 0.09423696018835138), (3377, 0.09349501550877289), (2444, 0.09192738415644233), (3553, 0.0903784026823272), (935, 0.08960836839737393), (65, 0.08871198210739363), (328, 0.08849734006165454), (67, 0.08835621034123187), (2908, 0.08462516333428943), (3280, 0.08458641258746231), (4288, 0.08394557237868627), (836, 0.08316917003511795), (2235, 0.08290520208608533), (2406, 0.08081302105382865), (2210, 0.08005242025544135), (2795, 0.077825847980454), (3828, 0.07555355811451124), (3019, 0.07405387157226813), (947, 0.07306382026454672), (3959, 0.07211719485573473), (4403, 0.07151472768288422), (2649, 0.0706971205376543), (2777, 0.07044308807159878), (3018, 0.0695657324915178), (3374, 0.06941965771311087), (2137, 0.06798656999173974), (2404, 0.06798656999173974), (2490, 0.06798656999173974), (2561, 0.06798656999173974), (2712, 0.06798656999173974), (2731, 0.06798656999173974), (2858, 0.06798656999173974), (3037, 0.06798656999173974), (3040, 0.06798656999173974), (3616, 0.06798656999173974), (3754, 0.06798656999173974), (3832, 0.06798656999173974), (3922, 0.06798656999173974), (4023, 0.06798656999173974), (4571, 0.06798656999173974), (3450, 0.06600788954043972), (2989, 0.06490445070065796), (4221, 0.06490445070065796), (710, 0.06384763020186851), (68, 0.06356880377947413), (3306, 0.06325075305920456), (4465, 0.06242019008648478), (4246, 0.06200784751755909), (3086, 0.06178134595514738), (458, 0.05852312662498016), (3297, 0.05802246892609551), (3267, 0.05584200831486545), (3382, 0.055022643275522205), (4551, 0.05497408573099823), (3862, 0.054872994380151495), (2655, 0.054837070854721746), (3035, 0.054837070854721746), (3228, 0.054837070854721746), (3284, 0.054837070854721746), (4092, 0.054837070854721746), (4731, 0.054837070854721746), (2276, 0.05465309483819846), (3978, 0.05445282775280926), (2250, 0.05419849500815785), (123, 0.05385662485921234), (2464, 0.05309177288398448), (3043, 0.052810966048979814), (3110, 0.05192641178138255), (2400, 0.051889087639739796), (4607, 0.051889087639739796), (795, 0.051381651463144294), (904, 0.051381651463144294), (905, 0.051381651463144294), (2257, 0.05128512572199491), (2901, 0.05128512572199491), (3813, 0.05128512572199491), (3990, 0.05128512572199491), (4722, 0.05101101302163068), (1572, 0.05072328863241236), (2037, 0.050474521820191395), (450, 0.0498754560294892), (3924, 0.0497772908733809), (986, 0.04975362309490567), (4088, 0.049583646749033525), (2569, 0.049528066441182794), (3353, 0.04932233913617943), (2266, 0.04888417287999153), (2407, 0.04888417287999153), (2560, 0.04888417287999153), (2870, 0.04888417287999153), (2892, 0.04888417287999153), (3030, 0.04888417287999153), (3116, 0.04888417287999153), (3248, 0.04888417287999153), (3274, 0.04888417287999153), (3296, 0.04888417287999153), (3804, 0.04888417287999153), (4082, 0.04888417287999153), (4243, 0.04888417287999153), (4458, 0.04888417287999153), (4632, 0.04888417287999153), (429, 0.048779346920423475), (2707, 0.04829765151267954), (4589, 0.04829765151267954), (181, 0.0477952769218086), (1058, 0.04735891428467404), (643, 0.04719406805177484), (3349, 0.047115024878379375), (4522, 0.047115024878379375), (584, 0.046875877558221604), (2053, 0.046838348336951836), (3370, 0.04682021766061016), (124, 0.04680348896002745), (2939, 0.0466115330014092), (806, 0.046582680645238426), (3999, 0.046543439024141535), (4068, 0.04614841134144499), (2889, 0.04614136233145008), (3992, 0.04612835665175966), (2188, 0.046052094504464056), (2778, 0.046052094504464056), (2840, 0.046052094504464056), (2854, 0.046052094504464056), (3227, 0.046052094504464056), (4443, 0.046052094504464056), (4444, 0.046052094504464056), (3637, 0.0459330353886239), (682, 0.04563183517360848), (3527, 0.04541548215788388), (2040, 0.045341329637022004), (2925, 0.04532726632017757), (210, 0.04531530718333439), (2284, 0.04521813708312343), (1716, 0.0452069419876973), (1224, 0.045047179797759684), (3612, 0.04493479335817534), (2379, 0.04480457485305781), (2423, 0.04480457485305781), (2591, 0.04480457485305781), (3234, 0.04480457485305781), (3892, 0.04480457485305781), (4756, 0.04480457485305781), (4503, 0.04479857196452615), (4658, 0.044792435293168516), (2254, 0.044791722402390724), (236, 0.0446998885132365), (2996, 0.04469487170259413), (2097, 0.0445817019400192), (21, 0.04444323241234227), (1248, 0.04391027331751358), (2212, 0.04390177316627902), (3777, 0.04381794335482325), (3638, 0.04369118131587897), (1064, 0.04347221627208057), (701, 0.0433337938463161), (2886, 0.043255755383606), (2488, 0.043176943912919985), (2492, 0.043176943912919985), (2494, 0.043176943912919985), (2529, 0.043176943912919985), (2633, 0.043176943912919985), (2764, 0.043176943912919985), (2834, 0.043176943912919985), (2838, 0.043176943912919985), (2872, 0.043176943912919985), (3166, 0.043176943912919985), (3178, 0.043176943912919985), (3258, 0.043176943912919985), (3364, 0.043176943912919985), (3601, 0.043176943912919985), (3952, 0.043176943912919985), (4222, 0.043176943912919985), (4719, 0.043176943912919985), (939, 0.043119453224773334), (879, 0.043084765761265686), (684, 0.042964602148281836), (2112, 0.042954645629467006), (1141, 0.04284095473928058), (4374, 0.04278338189582703), (1132, 0.042746233859536756), (3210, 0.04254723880875622), (3165, 0.04235446194029365), (3095, 0.04229555167879114), (676, 0.04226727736490235), (1237, 0.04222447422049536), (2512, 0.04217760143328247), (2739, 0.04213597877015338), (2695, 0.04179167433311674), (1360, 0.04178278997562637), (948, 0.04163468191774147), (1053, 0.04161072226768127), (3947, 0.04150528342978314), (4669, 0.041494306902730524), (5, 0.041480760699494815), (48, 0.04144811965465734), (1387, 0.041441654866153935), (3512, 0.04139910053977982), (2251, 0.04139702274801522), (3645, 0.04112022012826809), (1985, 0.04099991953744195), (4379, 0.04099146795660748), (878, 0.04097229345977665), (1183, 0.04093857873981041), (622, 0.04086551542790364), (2602, 0.04084441227855302), (896, 0.04069912867702932), (4436, 0.04063906204798397), (2255, 0.04063756310134272), (2522, 0.04061444082951989), (760, 0.04046259041207093), (1275, 0.040442339916067105), (2645, 0.040415863891763076), (2910, 0.04040649612298414), (2447, 0.04021934715132123), (547, 0.04010346378566143), (534, 0.04006439033015012), (3756, 0.040042435676117816), (2224, 0.03998778691026289), (1035, 0.039969858754014535), (1621, 0.039832785026120754), (669, 0.0396847306683431), (860, 0.039626491600942976), (533, 0.039625318052224995), (2486, 0.03961035828192633), (112, 0.03953274504869416), (3483, 0.03946818367909285), (3171, 0.03942012662837996), (87, 0.03933436072335906), (4673, 0.039286083018851524), (1417, 0.039212875835446345), (3741, 0.03916616740261631), (3437, 0.039017878374848214), (2412, 0.03891176993849011), (3504, 0.03890427993463802), (3635, 0.03884170384211337), (4268, 0.03879972901117416), (2919, 0.03874637402088113), (4014, 0.03871260108811003), (1334, 0.03870907075539031), (1506, 0.03862898070648023), (1739, 0.038492535747208276), (870, 0.038475495803407964), (2024, 0.038434396202575154), (4474, 0.03838549764627209), (2070, 0.03832908695996734), (4387, 0.03832483521468722), (1184, 0.03828820385190247), (799, 0.038187501241765474), (4717, 0.03816627212605869), (1252, 0.03816561650233147), (4189, 0.038097133342673395), (937, 0.03808445863521068), (1160, 0.0380373291642891), (3235, 0.038028974340023926), (2808, 0.038002547331627626), (1119, 0.037921751202607316), (4475, 0.0378952730763515), (2334, 0.03788533333349911), (4118, 0.03787084373503361), (2216, 0.0378518880259943), (2934, 0.03782069692050284), (1232, 0.03775717573253945), (2998, 0.037516372763107965), (988, 0.03749059493080893), (866, 0.037466390925068704), (270, 0.03746039702850242), (1942, 0.03739733913149845), (3694, 0.03733533917093343), (942, 0.037208856959796026), (199, 0.03718559057127462), (4502, 0.037116301359101614), (149, 0.0370928441195751), (2489, 0.037085864015570444), (1806, 0.03702481828425711), (1337, 0.03686633400213893), (816, 0.036789024185677664), (3317, 0.036694544295269436), (502, 0.036554795645263274), (3276, 0.03654517459066966), (2016, 0.036438000652815154), (105, 0.03623325314070515), (1853, 0.03620170001464128), (1967, 0.03611475086133853), (1385, 0.036088441528223755), (2961, 0.03597782264226015), (2023, 0.03590649441242904), (51, 0.03585031683897837), (2784, 0.03584107611994162), (1671, 0.03565579487756987), (543, 0.03564412677283697), (1629, 0.03544040459941754), (2727, 0.035401656004085444), (1595, 0.035386290233964474), (2196, 0.03525658163315153), (2550, 0.03524769571058651), (542, 0.03511344056011488), (109, 0.03509317499878157), (1815, 0.0350639374671832), (1665, 0.0350612500190167), (2531, 0.03495979574432019), (3155, 0.03493992006808821), (85, 0.034811199626958785), (1971, 0.03476337989003721), (370, 0.034734170915946244), (89, 0.03460551577763845), (4610, 0.034523921823818936), (2607, 0.03451089836244729), (2126, 0.034464893990539786), (166, 0.034451566758805716), (3577, 0.03431854032553562), (2055, 0.034177890939487046), (1343, 0.03411244118363118), (251, 0.034102437741826), (120, 0.034012256461571216), (500, 0.03392778083217942), (653, 0.033749379685980005), (4192, 0.033661076796018194), (3004, 0.03354608081026475), (4704, 0.033457247911000014), (3192, 0.03342225990980577), (224, 0.03339767393713959), (4232, 0.033311874047775254), (4660, 0.03330747946818882), (1542, 0.033238081087583166), (3731, 0.03313969535815372), (2080, 0.03293166525169402), (989, 0.03289179119782455), (485, 0.03281213801558308), (753, 0.032669999131258294), (276, 0.03257099167528971), (396, 0.03252508712424392), (2289, 0.032456340200816496), (3262, 0.032456340200816496), (3827, 0.032456340200816496), (1412, 0.03244313246319417), (2978, 0.03242640057657238), (3403, 0.032158812516702634), (147, 0.032155578315241365), (3794, 0.03214452027308632), (566, 0.03214435815877738), (3316, 0.03210884828037529), (4024, 0.03210884828037529), (869, 0.03210789929265685), (530, 0.03202976140965935), (4593, 0.03199557438732322), (4699, 0.03199557438732322), (4701, 0.03199557438732322), (3051, 0.031945149096307635), (2874, 0.0319327345329888), (2918, 0.031923247865380124), (1776, 0.0319017149510528), (1858, 0.03183012076646938), (1949, 0.031811455161140124), (675, 0.03168761817153457), (3659, 0.031644750454713), (842, 0.03158845239796763), (4263, 0.03151955028576135), (501, 0.03146235856159196), (4164, 0.031387150993944894), (4727, 0.03127445922445274), (418, 0.031215913614567346), (145, 0.031209974118277202), (4553, 0.031194741623352548), (408, 0.031157428630936828), (4202, 0.03112379847477777), (2316, 0.031047235655548757), (4490, 0.031003122819442046), (4141, 0.030897437551200918), (1735, 0.030785350008561398), (3670, 0.03078295399301564), (4380, 0.030732736257235757), (483, 0.03069974366450471), (4684, 0.030647005723179), (3118, 0.030628471218979488), (2394, 0.030610476781322365), (1591, 0.030608666302467263), (4060, 0.03039167845372933), (1050, 0.030376256174225486), (4643, 0.030363643539890125), (494, 0.030263017251853087), (2065, 0.030228108248469856), (4481, 0.030158977061931467), (918, 0.030103193650167004), (3453, 0.029897800333641825), (515, 0.029885156271285077), (3961, 0.029877464558152347), (3854, 0.029875160153930477), (207, 0.029858214162937123), (2475, 0.0297826742446181), (3291, 0.0297826742446181), (2742, 0.02977729539922038), (4096, 0.0297699221306407), (148, 0.029726482431103696), (874, 0.02968694869565021), (4325, 0.02962435431372626), (1471, 0.02961680690415589), (1231, 0.029604958798958372), (2897, 0.029599629908191677), (2279, 0.02959773262421455), (3259, 0.029545434423752757), (4510, 0.02954421151375577), (4623, 0.02953332175218675), (209, 0.029457728932726496), (4151, 0.029349773788529755), (1000, 0.029349233378084143), (2913, 0.029303461797827723), (683, 0.02929340300274489), (1736, 0.02926189822081443), (1377, 0.029254138728983903), (52, 0.0292272252468516), (1874, 0.029216972908198476), (1024, 0.029193807167179328), (4121, 0.029174721892799363), (853, 0.029144232382124127), (137, 0.029068257925012143), (2643, 0.029044928372777317), (4531, 0.029006368463521608), (1727, 0.02899024730410713), (447, 0.028988086139159944), (2617, 0.028945326979323623), (287, 0.02894479748595957), (3699, 0.02892702270199611), (1442, 0.02892467471343648), (1339, 0.028876342196392638), (2082, 0.02887387180812652), (4233, 0.02881665420489456), (2280, 0.028790990794642122), (3363, 0.02870759709345863), (2831, 0.028659565815644904), (2349, 0.02863613744089117), (2775, 0.02863613744089117), (2890, 0.02863613744089117), (3015, 0.02863613744089117), (3067, 0.02863613744089117), (3359, 0.02863613744089117), (3425, 0.02863613744089117), (3506, 0.02863613744089117), (4227, 0.02861717120043669), (4095, 0.028523808195687325), (162, 0.028519811752756016), (544, 0.028515104966776558), (2916, 0.028500667510321896), (2546, 0.028438021561872223), (1236, 0.028381980683513924), (833, 0.028338320991812015), (1419, 0.028337611369180275), (1832, 0.028325056923156473), (4216, 0.02831571315701705), (1544, 0.02828986475596788), (1314, 0.028283651599873044), (3801, 0.028281468300174237), (1774, 0.028225236373048426), (654, 0.028202035319874967), (629, 0.028169904155881012), (1440, 0.028148841137522994), (3334, 0.028139311030651978), (3842, 0.028126728964389915), (4557, 0.028126385113128555), (86, 0.028120080749635214), (757, 0.02811918438651652), (3586, 0.028099519660620225), (2705, 0.028067803626341207), (368, 0.028016198883981182), (3137, 0.027984701555653895), (2206, 0.027954000895738407), (1436, 0.02793171646988563), (1527, 0.02790002942713833), (2780, 0.027892771251605396), (3245, 0.0278664596523679), (1317, 0.02785011848811349), (3535, 0.027805114131592038), (1432, 0.02770907426098883), (4163, 0.027703755781301694), (1148, 0.027698949410292845), (1061, 0.027684422419750453), (3070, 0.027639011557226794), (1116, 0.02760225709492338), (915, 0.027576146785904622), (2484, 0.02756403417903484), (1992, 0.027538231461966083), (908, 0.027533863059357427), (2320, 0.027344356815785918), (2434, 0.027344356815785918), (2696, 0.027344356815785918), (2857, 0.027344356815785918), (3220, 0.027344356815785918), (3282, 0.027344356815785918), (3552, 0.027344356815785918), (3642, 0.027314566942957655), (2601, 0.027224426661616445), (201, 0.027067515597459853), (1388, 0.026972501246051654), (2652, 0.026918656917581215), (1861, 0.026914624571089858), (1234, 0.02691253093525026), (827, 0.026900978875344872), (83, 0.02689609464811394), (1754, 0.02687134896169531), (3579, 0.02684822425743025), (994, 0.02683391235053268), (385, 0.026831676344685484), (2119, 0.0267853467519238), (43, 0.026775648228266082), (3062, 0.02674982217532476), (1292, 0.02668090361149882), (1115, 0.02658810537052443), (1816, 0.026517511292159745), (1970, 0.026488015792807514), (916, 0.02641433644216791), (695, 0.026409766325946677), (369, 0.02639783968038638), (2264, 0.026347715798091316), (281, 0.026322390635176468), (461, 0.026257423981553573), (1674, 0.026224251632149705), (976, 0.026212316479339307), (1406, 0.02615572154904589), (0, 0.026067010937601828), (1705, 0.025968261844792118), (613, 0.02594701279314002), (2966, 0.02588497001908024), (3993, 0.025884027242626527), (1585, 0.02582173117534215), (254, 0.025816572834514155), (1369, 0.025792667960418722), (2752, 0.025781628450710754), (2318, 0.0257074458240843), (4004, 0.02566130078165807), (1074, 0.02565737254565412), (360, 0.0256560793048458), (4435, 0.02564205501355517), (435, 0.02555291582064725), (285, 0.025538952847696077), (4450, 0.025519575383263503), (4723, 0.025502796773402895), (3076, 0.025486243697405545), (2487, 0.025429146492500276), (931, 0.025418032354591273), (3232, 0.02541531331820932), (3418, 0.025350459951881444), (144, 0.025325314706222346), (1063, 0.025308044310872854), (122, 0.025270233347909097), (2269, 0.02514360512367774), (4679, 0.025126726766571007), (2791, 0.02511559261786566), (180, 0.025084051173786058), (1680, 0.025071581844955754), (2883, 0.02506352645344042), (667, 0.02490665218794586), (801, 0.024737026588359474), (861, 0.024714431791093536), (3521, 0.024714431791093536), (2448, 0.024663538818907278), (2907, 0.024663538818907278), (3140, 0.024663538818907278), (3219, 0.024663538818907278), (4442, 0.02458484824622096), (1018, 0.024532676582683228), (1455, 0.024510248214576702), (2871, 0.02436536894688721), (2821, 0.02432793692439586), (3860, 0.024304642668806373), (1945, 0.024292805595017848), (1128, 0.0242716088728778), (170, 0.02426250227131481), (2391, 0.024183676478236424), (2570, 0.024183676478236424), (3183, 0.024183676478236424), (3479, 0.024183676478236424), (2110, 0.02404863508031382), (1185, 0.02400780438994563), (1937, 0.023938925691363185), (790, 0.023909514740754183), (1230, 0.023868120861703385), (735, 0.023823760589233283), (2744, 0.023823760589233283), (2832, 0.023823760589233283), (3218, 0.023823760589233283), (2555, 0.023804846637067383), (888, 0.023744543639439016), (2459, 0.023727853840381733), (1797, 0.023725983935589137), (3582, 0.02371872091421568), (1300, 0.023707149285661533), (2740, 0.023694882345075257), (1348, 0.023684753015305465), (844, 0.023676626812375978), (2559, 0.023627157359461633), (3074, 0.023587744739346786), (3925, 0.023587744739346786), (4016, 0.023587744739346786), (4286, 0.023587744739346786), (4573, 0.023587744739346786), (4706, 0.023587744739346786), (4710, 0.023587744739346786), (2809, 0.02355337666076979), (4261, 0.023525107658649184), (4235, 0.02350109018878472), (4517, 0.023488631284258744), (1694, 0.023476608895425802), (4000, 0.023448530560153703), (3711, 0.02336896397623678), (2415, 0.023328463731964975), (1854, 0.023213510036544826), (1068, 0.02319681541416094), (4124, 0.02319021823398336), (3466, 0.023178770703277993), (3214, 0.022849952699154262), (3763, 0.022849952699154262), (2949, 0.022839927036950713), (3465, 0.022830671773175798), (4581, 0.022805640871495718), (244, 0.022667202706441177), (4333, 0.022564609001114382), (2427, 0.022506097402392147), (2772, 0.02246155171296016), (2076, 0.022411240820033103), (106, 0.022369049925305147), (3325, 0.022313432014154404), (2191, 0.022186835423317834), (3012, 0.022186835423317834), (828, 0.022165327824758836), (3901, 0.021977629126242633), (4713, 0.021942178483931214), (3613, 0.02193107302052491), (2748, 0.021732003924063225), (4718, 0.021732003924063225), (2428, 0.021679718561015273), (3941, 0.021552759899459654), (108, 0.021434904897359667), (2614, 0.02138621564246337), (692, 0.021377749482931287), (3477, 0.021339530186841517), (333, 0.021327547818453963), (1922, 0.021279213633207825), (2986, 0.021110886897905804), (3357, 0.021084094831027106), (2879, 0.021082431308285847), (670, 0.021034620764253574), (4594, 0.021000439460958305), (668, 0.020815264733756014), (2914, 0.020736069809080857), (3590, 0.020736069809080857), (4101, 0.020422641795584277), (2350, 0.020235343508212943), (3273, 0.020233916011661662), (4521, 0.020211660838331133), (1276, 0.02019723670663711), (3932, 0.02009049014717368), (2782, 0.020033172522590376), (1707, 0.020026422714970467), (967, 0.01988902854670093), (2625, 0.01985485614648295), (3099, 0.019807163333204543), (3123, 0.01969767310953053), (1208, 0.01952335722490856), (4284, 0.01950527283861991), (4650, 0.019404103222490095), (4546, 0.01934023781005682), (2678, 0.019293488670025935), (4477, 0.019268766156175565), (2237, 0.019158953377406217), (4171, 0.019111811356185924), (1088, 0.018987105124177745), (991, 0.01889705934830682), (4734, 0.018879290023782934), (3962, 0.01865567052902979), (3639, 0.018632202483548254), (3408, 0.018401074499651032), (3198, 0.0183965579995892), (829, 0.018324405742954974), (3778, 0.0182582743288717), (3302, 0.018237387436087653), (3081, 0.01820424947027265), (2530, 0.018130255879352186), (1023, 0.018108558203225922), (3526, 0.01756842674838486), (1995, 0.017515024025236706), (3241, 0.017329124238918397), (612, 0.017295781083049067), (925, 0.017260915327706697), (4203, 0.017260915327706697), (1264, 0.017177998935935596), (2388, 0.017052636863360355), (2230, 0.016992013615165048), (3822, 0.016918388761879455), (3151, 0.01691215699837049), (1655, 0.016910897547127178), (1071, 0.016893907823706346), (2436, 0.016705188301469064), (4419, 0.016700361707084905), (4412, 0.016595081737264955), (3620, 0.01658531538809256), (3044, 0.016583713801269204), (2796, 0.016533651807003006), (2535, 0.016492134380178155), (4160, 0.01646761235287214), (4269, 0.01646761235287214), (2226, 0.016463288160941565), (2199, 0.016461146871954407), (3027, 0.016441310231423468), (2520, 0.016415660623628297), (2348, 0.01620324710377839), (3680, 0.016197061727381803), (3303, 0.016170980874544494), (2674, 0.016110665150465983), (4369, 0.016072251148933993), (952, 0.016036913014445407), (2286, 0.016004429054347884), (4087, 0.015988802887983395), (783, 0.015945195285330786), (3314, 0.015899825029967073), (3013, 0.015861210705516327), (4079, 0.015829277897556355), (4484, 0.01582923557982761), (3920, 0.015763023536635744), (4446, 0.015758499451443097), (4555, 0.015699624487312415), (1325, 0.01559103916062648), (2362, 0.015542068512726045), (2453, 0.015528468635884399), (3125, 0.015519388563730177), (3739, 0.015481056969339211), (3772, 0.01546420370895849), (1884, 0.015427670613682037), (2769, 0.015411039913223727), (2438, 0.015300613065454507), (2755, 0.015232017036443574), (4033, 0.01520811485564575), (3257, 0.015163396826289094), (923, 0.015163040603020008), (3913, 0.015139361957472527), (4287, 0.015125750111688504), (2344, 0.015044058602315126), (3072, 0.015040490172934677), (3780, 0.01503520546426386), (930, 0.015009465872743205), (2642, 0.014989123406804706), (4051, 0.0149673213981054), (2075, 0.01495730048277514), (2802, 0.014949062994614537), (2975, 0.014924300603887553), (2845, 0.01490232244059735), (2437, 0.014891737291018909), (3534, 0.014863198595097687), (813, 0.014846102355826833), (2706, 0.014828084514644204), (1518, 0.01480586022222702), (2623, 0.014788950082146354), (3386, 0.014784742010526236), (721, 0.014774746167065152), (2974, 0.014772887949903973), (3097, 0.014729475812858453), (3898, 0.014653092032499124), (4113, 0.014651338787895915), (1410, 0.014645452320467267), (2556, 0.014642828674811512), (2162, 0.01464024125170144), (1398, 0.014589484812003338), (4368, 0.01457795244476214), (3146, 0.014547196346375342), (4117, 0.014514022117888443), (832, 0.014449153024067341), (1049, 0.014409689169459944), (4116, 0.014402541859803024), (968, 0.014393490830846033), (3666, 0.01436714604047246), (623, 0.014328616802727246), (2969, 0.014309566553582795), (1007, 0.014287011648048738), (3524, 0.014209618210070487), (490, 0.01419075011189757), (434, 0.014188461035452956), (985, 0.014185817569261294), (2797, 0.01415060707765706), (2121, 0.014139828545324256), (3344, 0.014111675924741992), (1946, 0.014105704422971781), (1498, 0.014104973360495793), (4133, 0.01409263413824392), (2592, 0.014091062373468176), (4448, 0.014082169743696282), (4638, 0.01407653200386896), (2563, 0.014073192127069024), (3556, 0.01407192915242161), (1813, 0.014057266107346856), (587, 0.01405390708201936), (4625, 0.014046001632817965), (3254, 0.014043946095166704), (1876, 0.01403539015107271), (3449, 0.01403090442231915), (910, 0.013993630316181324), (1533, 0.013974267076454135), (3308, 0.01397380839027317), (4259, 0.013971314504578366), (1138, 0.0139452367597326), (3799, 0.013938274834986856), (563, 0.013933972675195586), (1286, 0.013902205300784077), (481, 0.013895059180901477), (2943, 0.013893223953355235), (2402, 0.013879420568432894), (2687, 0.013864445744421182), (1968, 0.013847971056145764), (3516, 0.01383605367651743), (3669, 0.013834416728109216), (637, 0.013807082588108775), (4054, 0.013789256821105978), (1357, 0.013762617843192427), (2149, 0.013761980601912846), (4601, 0.013741682587047653), (74, 0.013730930208807075), (1923, 0.013730258873721864), (2881, 0.013727433392536317), (605, 0.013707555094688073), (2924, 0.013698108592722663), (3960, 0.013693140146945124), (2302, 0.01369165194834208), (761, 0.0136778213555853), (2904, 0.0136519148323952), (959, 0.013640384020935077), (3704, 0.013638872991567902), (1619, 0.013625622538968594), (4098, 0.013607410625258031), (2611, 0.013605009167876575), (2741, 0.013593986978213976), (2747, 0.013546522333251064), (1675, 0.013523746478430486), (1257, 0.01351921009373909), (2946, 0.013518779038746305), (1916, 0.013515353531384007), (464, 0.013504974739543521), (2848, 0.013502900428038079), (3380, 0.013495615936202968), (436, 0.0134907688925629), (673, 0.013480487163525772), (1192, 0.013474836566754482), (1463, 0.013472925648013088), (2634, 0.013468688163736971), (728, 0.01345696958485641), (4494, 0.013453390671630924), (957, 0.013421423615507156), (3903, 0.013383148492039483), (1109, 0.013382506945487663), (326, 0.013381592993435458), (3036, 0.013381361622364878), (443, 0.01336014638230693), (3692, 0.01335957159046915), (4266, 0.0133503829414988), (589, 0.013347414355946052), (847, 0.013341964955730005), (2477, 0.01328500355800674), (457, 0.013239695609652772), (2668, 0.013230274937188091), (198, 0.01322652675424468), (4295, 0.013221779407904631), (3389, 0.013217275897587895), (2920, 0.013210973159102305), (4674, 0.013210803694190773), (4020, 0.013193630605280502), (3654, 0.013188033677392217), (4244, 0.013185844285183854), (4629, 0.01318084708887957), (579, 0.013172707826275318), (3331, 0.013156188434749106), (1782, 0.01315167160261689), (3557, 0.013148332419264174), (2467, 0.013147543820640366), (2029, 0.013132627029640997), (3867, 0.01312792523420442), (2478, 0.013088404532490513), (342, 0.013083864755371604), (1335, 0.013083193575305603), (1918, 0.013072019661184243), (2593, 0.013057853816126851), (2554, 0.013051780434740161), (3551, 0.013043704768577588), (1997, 0.013042994300263821), (644, 0.01303993731417365), (1711, 0.013037840532725819), (3474, 0.01303744575656689), (716, 0.013033057598948475), (2411, 0.013008942123735906), (2502, 0.013002561053979707), (1188, 0.012989870899328994), (3184, 0.012960005962906265), (729, 0.012955641103297043), (3406, 0.012952588511580179), (743, 0.012940644078049771), (2945, 0.012923849240280868), (2031, 0.012922731572689257), (4528, 0.012909588404604459), (4085, 0.012907659919883411), (1229, 0.012901150255994224), (1102, 0.012899803819081545), (4575, 0.012891741501908695), (4712, 0.012890871358290373), (1666, 0.012884563341817578), (4668, 0.01288324517701895), (4566, 0.012882340068918034), (3771, 0.012879646850466431), (1489, 0.01287764481692684), (655, 0.012875154390433229), (3511, 0.01287161317207488), (470, 0.012861945364356364), (3689, 0.012855286834153662), (3873, 0.012853650378280549), (3618, 0.012849233288443524), (2579, 0.012838936067523619), (3032, 0.012835383380826277), (975, 0.012833245592880455), (3893, 0.012813190733328258), (696, 0.012804553657584856), (388, 0.012804315806208378), (221, 0.012804035402399274), (4311, 0.012787339129740566), (3355, 0.01278070740287678), (3330, 0.012779660553947879), (2580, 0.012757586678560308), (3826, 0.012751081103481764), (3196, 0.01275016168640686), (1947, 0.012743307842381705), (3890, 0.01274042579430436), (1187, 0.0127367878849154), (1503, 0.012731208218531347), (2116, 0.012729818593657231), (495, 0.012727039489383703), (962, 0.012726044778347908), (1865, 0.01272428023207277), (2527, 0.012711903555097588), (3056, 0.012694790454898278), (274, 0.012688647505165174), (33, 0.012684601305014922), (3360, 0.012684372455289215), (2977, 0.012682453143326913), (2965, 0.012679339457995334), (2089, 0.012666859681433789), (456, 0.012663394437006103), (2911, 0.012651713898695885), (2096, 0.012646021555983392), (732, 0.012645027833189031), (178, 0.012644088956335179), (4321, 0.01264402151499903), (903, 0.012633763858027162), (121, 0.01262958892182081), (719, 0.012627500087877355), (3298, 0.012603694203394376), (4066, 0.012593083660442565), (2746, 0.012592738064132367), (3866, 0.01258729957555017), (2108, 0.012584947370999335), (1983, 0.012584521739992343), (2144, 0.012583588165584407), (1951, 0.01257623594852113), (3560, 0.012571368853714975), (2265, 0.012563534410211578), (2405, 0.012552494701151813), (2980, 0.012533835351203355), (857, 0.012528963893244049), (3904, 0.012525867718081592), (1905, 0.012523099731657423), (1717, 0.0125115281284643), (3240, 0.01250479506526109), (1454, 0.012492253708561918), (2830, 0.012484358126669245), (1429, 0.012480919360295694), (1483, 0.012470872265185467), (2027, 0.012465903865049928), (479, 0.012464462564480647), (2319, 0.012461750409813064), (774, 0.012450012774327935), (2926, 0.012450004365860174), (4111, 0.012444566474104402), (3501, 0.012439800416306105), (750, 0.012439599349764614), (4470, 0.01243766506172889), (3503, 0.012435869682124795), (1219, 0.012421087194067353), (2104, 0.012413220090954476), (826, 0.012411928199919115), (2422, 0.012405669919788571), (1710, 0.012390547787864293), (3399, 0.012387140560906843), (1383, 0.012385292217177164), (4334, 0.0123830388254006), (4432, 0.012371950154533174), (4670, 0.012359530673005813), (2876, 0.012357487582008329), (132, 0.0123402574890579), (606, 0.012338993838589324), (1547, 0.012334271391016019), (1247, 0.012334224634390316), (3447, 0.012330814654706753), (4135, 0.01232822948162784), (1543, 0.012325971839853412), (3417, 0.012323342888475804), (3187, 0.012320182802014504), (3388, 0.01230799949069791), (3797, 0.012307896606596608), (3868, 0.012306810665347041), (1768, 0.012299363023085513), (3707, 0.012297405157121057), (3326, 0.01228202084211991), (1191, 0.01227676699795643), (1878, 0.012266779055535975), (1255, 0.012264669219671027), (1885, 0.012253883770359401), (1851, 0.01225143612099719), (3706, 0.012248279915517036), (689, 0.012248065764232118), (1015, 0.012243000565513314), (688, 0.01224232299709471), (4053, 0.01222990987258685), (3182, 0.012229123250725804), (1866, 0.012228262394300407), (4025, 0.012225532194631952), (614, 0.01222198845024235), (431, 0.01221335706023366), (3974, 0.012213342036749779), (3917, 0.012209150232392857), (1472, 0.012203033454695198), (3500, 0.012201913809324902), (3108, 0.012188248492572353), (3237, 0.012184140326197218), (3640, 0.012176909088795464), (831, 0.012176489790848899), (3643, 0.012173783364077257), (4401, 0.012173172140690885), (4038, 0.012164677330667487), (2972, 0.01216361465452297), (660, 0.01216297216205048), (3927, 0.012149194431803425), (3749, 0.01214186360494189), (2779, 0.012136403207364262), (4330, 0.012121267258427507), (3413, 0.012119246989566458), (1052, 0.0121174772619759), (522, 0.012113684173420741), (4138, 0.012109744562902496), (1828, 0.012105218266684339), (4187, 0.012096724096988795), (1318, 0.012095629569316226), (626, 0.01209072917873243), (4282, 0.012090375722211524), (62, 0.012088295104805245), (3170, 0.01208684409987049), (3352, 0.012077573473181242), (355, 0.012076424419377594), (2894, 0.012075534040130549), (1682, 0.012069270343393841), (880, 0.012064769642250273), (1175, 0.012064088431623363), (2702, 0.012062198008160078), (2526, 0.01205245750298323), (1763, 0.012050122920256581), (2995, 0.012046406856782635), (2632, 0.012037552867049097), (1382, 0.012034745495646445), (266, 0.012032890922287926), (4356, 0.012029491140710885), (1251, 0.012028483458231744), (3148, 0.012026626121003301), (739, 0.012015520235818845), (2159, 0.012012214179084284), (4394, 0.012008948034359418), (804, 0.012008772662519946), (2629, 0.012008214957621206), (4183, 0.012008049820464106), (1864, 0.01200124096373163), (1827, 0.012000403341523268), (510, 0.0119926047338122), (698, 0.011989036795473017), (2612, 0.011987686079181844), (3956, 0.011984482336001408), (4489, 0.011980655019464324), (2397, 0.011980059770023657), (808, 0.011978605971290707), (4516, 0.011976837324906345), (2988, 0.011966325540418304), (1893, 0.011957738585873835), (2061, 0.011956702429728218), (969, 0.011953664625475174), (3199, 0.011943823905459113), (4501, 0.011943316128127353), (638, 0.011940371399484846), (1510, 0.01193904058037998), (2528, 0.011935024952136324), (981, 0.011929944674104732), (3075, 0.011925101956214114), (4362, 0.011924031583767269), (4011, 0.01192388975907718), (1658, 0.011918480566879254), (3496, 0.011916861068645907), (2034, 0.01191359743130612), (222, 0.011912937348036548), (2664, 0.011907580347674265), (183, 0.011906715113045916), (3487, 0.011902703329277082), (3328, 0.011901769740583984), (4733, 0.01188811382396915), (193, 0.011886763687919027), (3014, 0.011885730724715625), (2393, 0.01188562184151372), (4005, 0.011882825026567677), (374, 0.011882412097071849), (169, 0.011882111223856042), (4046, 0.011874652905099765), (419, 0.011845210293776155), (358, 0.01184331005789765), (897, 0.011842158376010492), (4371, 0.011841456295357149), (3569, 0.011840877409997135), (2049, 0.011832518542463893), (228, 0.011826787301209117), (256, 0.01182417908021681), (3558, 0.011821310606452827), (580, 0.011815697727288582), (934, 0.011809815885072551), (2102, 0.011806827952518532), (4624, 0.011804814694896767), (475, 0.011802925145721592), (3315, 0.011786363798426302), (12, 0.011782568656532664), (2698, 0.011778208624692553), (1438, 0.011761365611845888), (34, 0.011753590728607847), (3111, 0.011752601182773463), (126, 0.011752183808864796), (3342, 0.011745898737907334), (480, 0.011737846574254723), (1764, 0.011736574838824058), (2844, 0.011729363492042733), (4283, 0.011727469517173447), (558, 0.011724055456830461), (3784, 0.011720811125259339), (371, 0.011715451531788707), (4472, 0.011699187703409598), (238, 0.011697749889816261), (4603, 0.011697657388687539), (1722, 0.011690462336940103), (2758, 0.011684677720733805), (3728, 0.01168437799520322), (1075, 0.011680915537524756), (693, 0.011680613187852124), (104, 0.011678620421225899), (2155, 0.011676876826393052), (727, 0.011661191516329755), (1907, 0.011649924640541142), (2999, 0.01164445240317162), (318, 0.011636978925370326), (551, 0.011632974560688097), (3122, 0.011631147369770084), (3112, 0.011630330421918703), (2899, 0.011628662629553114), (2399, 0.011627527271576614), (2134, 0.011625773619300154), (4657, 0.011622217209107576), (190, 0.011610722839732066), (2509, 0.011610147560415457), (2073, 0.011606257721628542), (3765, 0.011605308851469908), (2361, 0.011600598556344016), (2195, 0.011595695874091365), (3653, 0.011594790767001642), (3120, 0.011593203711715213), (1740, 0.011580375954197824), (202, 0.011576157173021344), (4487, 0.011576006932298146), (1481, 0.011571610805449396), (4137, 0.011571534560556096), (3278, 0.011570602840494297), (1565, 0.011563423980344012), (1634, 0.01155836078724964), (2048, 0.011550578626194165), (29, 0.011550110788938422), (4535, 0.011548532321201108), (1643, 0.01154779156017369), (3915, 0.011546289234300554), (2154, 0.011540326682332548), (1225, 0.01153923416106714), (4056, 0.011538194680441859), (1019, 0.011535875402141299), (127, 0.011528651051364129), (4523, 0.011526067644160743), (2893, 0.011525741478087452), (15, 0.011524202628601547), (142, 0.011515299108251002), (2105, 0.011509002678267304), (448, 0.011499454553478474), (192, 0.011496475632438658), (504, 0.011486526668576552), (3624, 0.011484121710861814), (2131, 0.011483922105412315), (4507, 0.011477590437680388), (4563, 0.011475962111402196), (1349, 0.011463441566867552), (16, 0.01146120749449762), (1446, 0.011459976549437893), (255, 0.011458251579070202), (3094, 0.011456749027868864), (2132, 0.011453080607250303), (1819, 0.011453059159185605), (1378, 0.011451343619134103), (1687, 0.011448149024498686), (3673, 0.011444059752594334), (1597, 0.01143934560497892), (2976, 0.011436708684681772), (3542, 0.011427745880451973), (2798, 0.011427607079342254), (2359, 0.0114224352913382), (3347, 0.011418905782514399), (3433, 0.011413570825401684), (1509, 0.0114115106854004), (2068, 0.011405430615184162), (1537, 0.011405270647353185), (2386, 0.011405230781530938), (350, 0.011404470861619088), (1306, 0.011397247163163652), (850, 0.011394186864799951), (1779, 0.011388288941205409), (283, 0.011385471752842852), (1179, 0.011381505659638167), (1931, 0.011380648730867316), (4382, 0.011375006467359682), (3855, 0.011365741202724315), (4036, 0.01136500764023828), (286, 0.011360792349096828), (4130, 0.011356946285349659), (3564, 0.01135647907576058), (3409, 0.011355028413153964), (1476, 0.011352749287498238), (63, 0.011348297189497496), (2647, 0.011346817521517496), (406, 0.0113456954009005), (351, 0.011343604978168548), (1170, 0.011343331309696185), (3767, 0.011340972005956925), (2933, 0.011339872005721114), (3091, 0.011335685238207402), (1902, 0.011331717400616285), (2878, 0.011331218247906746), (2887, 0.011329599713345443), (2260, 0.011328620464284754), (2242, 0.011322233224991497), (218, 0.01132152436544518), (1122, 0.011315743384429365), (3919, 0.011306136746387016), (1488, 0.011303734339935713), (1909, 0.011302020908148908), (1065, 0.011299795549075807), (1616, 0.011295384125134833), (2000, 0.011285703158448186), (787, 0.011285113702506533), (8, 0.011284934048368141), (1324, 0.01128396978972312), (1370, 0.011279298125820835), (493, 0.011277717510211449), (2473, 0.01127370347808114), (1719, 0.011273008453855031), (216, 0.011268488927211686), (672, 0.011265411990106935), (1365, 0.011262100511548502), (2862, 0.011256052581440412), (1685, 0.011255885359685358), (4074, 0.01125325979433741), (3829, 0.011252278343292451), (1474, 0.011247331318886177), (356, 0.011247211565119106), (242, 0.011237270958207307), (107, 0.01123670632529719), (1570, 0.011235998289610766), (4123, 0.011232209183130419), (2004, 0.011230842693079455), (838, 0.011223088594069872), (430, 0.011217367228449753), (1163, 0.011216726307803996), (1924, 0.011214549617525963), (2598, 0.011211049789075703), (1026, 0.011209725924952773), (4182, 0.011208253966080082), (3839, 0.011206811174852461), (3024, 0.0112000529039646), (3050, 0.011199921879143116), (1896, 0.011194620703184468), (1760, 0.011192831524513142), (1161, 0.011178925993127005), (1080, 0.011175298620961916), (3845, 0.01117527192042141), (1017, 0.01117406693435289), (1030, 0.011170475837430558), (2117, 0.01116133496064732), (407, 0.01115613883354428), (616, 0.011155779351901655), (267, 0.011155042984452983), (44, 0.01115375078536746), (3268, 0.011151293426874235), (1364, 0.011150380958000493), (1338, 0.011146704447121566), (980, 0.011145897061831798), (3696, 0.011138781238791771), (2176, 0.01113347056251336), (3393, 0.011129626147799242), (2374, 0.011128452792039029), (3460, 0.011127316262291175), (1748, 0.011127110908795139), (792, 0.011116465108487147), (4309, 0.01111333746673084), (998, 0.011109582882881237), (1350, 0.011108728430693557), (4336, 0.01110518595073069), (204, 0.01110166321299882), (1977, 0.011090770900307169), (1140, 0.01109019634457184), (3407, 0.011088310759247667), (796, 0.011086417825021977), (2474, 0.011085939271596243), (627, 0.011081031337452646), (4255, 0.011075011125915727), (590, 0.011069918073623878), (1892, 0.011068598357283325), (657, 0.011061277896956252), (2390, 0.011060405001112), (2367, 0.01105077256782409), (659, 0.01105060414711883), (1206, 0.01104751319418334), (3745, 0.011045671160497922), (2443, 0.011042815154160104), (3498, 0.011042276950793425), (4636, 0.011035221560732904), (111, 0.011034853111619107), (4249, 0.011034443893352544), (3065, 0.011030304528912944), (1400, 0.011029691915505218), (641, 0.011027618595187586), (1027, 0.011027313644047942), (2039, 0.011024907527583996), (651, 0.011023714147642676), (800, 0.01101784718026736), (330, 0.010998052715018141), (453, 0.010996082268588957), (428, 0.01099194952736427), (2466, 0.010990197230364894), (1582, 0.010987966479770435), (733, 0.010984636916732871), (18, 0.010980794856834628), (184, 0.010976453642591828), (1131, 0.010969122846072004), (999, 0.010968904802983964), (1620, 0.010961883133668191), (1871, 0.010956790460091561), (2606, 0.010954756708341607), (2051, 0.01094365751168291), (872, 0.01094310309765928), (1875, 0.010942984448390975), (2223, 0.010934054077535893), (3436, 0.01093261181231532), (4176, 0.01093139367498462), (3391, 0.010930926635225043), (4247, 0.010929368554949217), (3882, 0.010928929704193593), (4520, 0.010923302808202305), (1084, 0.010919517727662356), (2011, 0.010913296358420843), (1798, 0.010912573364842325), (282, 0.01090582276870076), (2301, 0.010898028351781847), (607, 0.01089696906161637), (32, 0.01089611151341268), (3541, 0.010895488424598958), (3402, 0.010892910746225748), (1413, 0.010892821798624221), (749, 0.010892781611924307), (3811, 0.010890303854264923), (2169, 0.010888670564442919), (2088, 0.010885060427261159), (2035, 0.010881006078548533), (2609, 0.01087970920198381), (951, 0.010874969074794651), (2771, 0.010874968484084325), (2800, 0.010869368964922146), (3614, 0.010863635033457707), (1706, 0.01086251932477631), (769, 0.010858997453039773), (4178, 0.010857049912877196), (3147, 0.01085392986120449), (858, 0.01085265379699188), (215, 0.010852646925845028), (1608, 0.010851683484370399), (4536, 0.01084772119374727), (161, 0.010844260348287022), (348, 0.010842924068683162), (2430, 0.010841468534163413), (871, 0.010838845855975497), (519, 0.01083086718332839), (1423, 0.010826770434294407), (471, 0.010825761726560683), (4626, 0.010823547321438538), (1223, 0.010815052753290042), (3445, 0.010807443312041575), (3571, 0.010805765731760116), (1475, 0.010801003986346522), (2045, 0.010793891759474303), (3071, 0.010793875143634364), (1415, 0.010787666863166389), (3660, 0.010778388272464703), (2776, 0.010778157421977312), (596, 0.010772517396539925), (4152, 0.010769139664578847), (309, 0.010767984238759677), (2603, 0.010767885338356585), (3195, 0.010764207166774014), (652, 0.010761611371954407), (1209, 0.010759546170749083), (4590, 0.010754960332293942), (1261, 0.010753751153827816), (364, 0.010748719831161766), (208, 0.010747891974007407), (3492, 0.010739915725601361), (3435, 0.010738638029178852), (41, 0.010735881309553727), (1462, 0.010735412280272649), (372, 0.010730722318844697), (2724, 0.010729483781813723), (609, 0.01072632875523297), (2915, 0.010724600927048371), (197, 0.010718486831057208), (353, 0.010715864992568542), (798, 0.010709250302805867), (3807, 0.010700930176274218), (96, 0.01070056174297446), (3755, 0.01069725545438438), (1891, 0.010691800578342134), (156, 0.010682177860444324), (3888, 0.010678747684171772), (3233, 0.010674542889423556), (195, 0.010672187094238103), (3742, 0.01065969967031974), (1041, 0.01064558006937079), (1408, 0.010643155366448935), (1421, 0.010639124497613861), (1478, 0.01063367747551128), (1351, 0.010631353280214844), (3, 0.010615959905050012), (1762, 0.010614303516311003), (867, 0.010613291581721241), (1869, 0.010612034035195348), (1822, 0.010608447004259442), (1001, 0.010587923343066137), (1598, 0.010584532006972533), (1539, 0.01057896102243128), (103, 0.010575759268171094), (1403, 0.010572930019940512), (2083, 0.010570097512878985), (1176, 0.010563342341218057), (1667, 0.010558549457437356), (4533, 0.010558356635260844), (373, 0.010547926206708183), (1628, 0.010543106100691386), (894, 0.010542742766385125), (472, 0.010535350062140217), (3880, 0.010533245453005527), (129, 0.010530596941999606), (1653, 0.010516623132836342), (2766, 0.010513150024015143), (1477, 0.01050904835360856), (1375, 0.010503451900749456), (608, 0.010502256830714398), (576, 0.01049683743285308), (4420, 0.010486683490342784), (3153, 0.010482491925059803), (1648, 0.010475540234172005), (3646, 0.010468938025684807), (3311, 0.010467977955167095), (2103, 0.010462109893994338), (4511, 0.01046068964802715), (4357, 0.010459321833020199), (4422, 0.010458208474085217), (79, 0.010446317726240351), (2201, 0.010445605805815399), (578, 0.010443267172852525), (3493, 0.010417369435507645), (3902, 0.010411987053091423), (2745, 0.010405088624077801), (1513, 0.010397935560113694), (2888, 0.010396698738975623), (441, 0.010395205023892741), (92, 0.010391030295090063), (2174, 0.010388724599470519), (1006, 0.01038384044799733), (206, 0.0103815604767506), (2355, 0.010376598006096206), (1186, 0.010376389914138834), (588, 0.010376379270324698), (3900, 0.010370375554074232), (114, 0.010369126842314941), (705, 0.01036380175365638), (953, 0.010360595251154524), (2457, 0.010349334777190449), (1730, 0.01034813278798519), (865, 0.010347996906332941), (907, 0.010340999938657659), (3876, 0.010337208551834549), (562, 0.010336453930619147), (7, 0.010333718109054537), (173, 0.01032879669829734), (4156, 0.01032213127863916), (1290, 0.010320206676454845), (2917, 0.010311946858743195), (1215, 0.010311754088181312), (1216, 0.010296446552678574), (1690, 0.01029353544303697), (3028, 0.010286849589813267), (794, 0.010285912388153498), (734, 0.010281245450577311), (174, 0.010275302709784252), (165, 0.010269729056247382), (876, 0.010260475717634615), (3641, 0.010244064265524322), (509, 0.010243923624456175), (636, 0.010243022675775156), (269, 0.010225789412598276), (200, 0.010224234561939115), (1519, 0.010222859148044395), (433, 0.010211571454080184), (71, 0.010207558730536694), (1040, 0.010194120568904973), (642, 0.010192217384833235), (744, 0.010190967673325219), (343, 0.01018919140425662), (900, 0.01018585194634116), (1177, 0.010182417738481855), (357, 0.010181207938131712), (23, 0.010178681861611754), (2496, 0.01017665079570659), (1950, 0.01017648475689381), (2441, 0.01016811612997019), (296, 0.01015055879645274), (1448, 0.010130852396081231), (4350, 0.01011219647714568), (4430, 0.010107040174999814), (2981, 0.010101910182333956), (3910, 0.010101893868249886), (1678, 0.010095818729158717), (3194, 0.010094875289195891), (1220, 0.010092026791176314), (2812, 0.010089832166377684), (3875, 0.010086949854580075), (1245, 0.01008567192523448), (3809, 0.01008554074123907), (3623, 0.010082120301139348), (4257, 0.01008046965156176), (400, 0.010069830032722757), (3200, 0.010068904104714857), (1308, 0.01006664741092219), (307, 0.010065187638434916), (243, 0.010061771391652957), (2534, 0.010060904896470522), (2277, 0.010060311947298764), (1352, 0.010058158078896201), (2803, 0.010054805437478602), (1897, 0.010049816726020509), (349, 0.010047401594525366), (2313, 0.01004474168400715), (3346, 0.010043140147904491), (2287, 0.010042833829759706), (227, 0.010037982933410444), (3152, 0.010037777943321504), (1021, 0.010032767683419427), (2461, 0.01002647937207294), (31, 0.010023744064538119), (3734, 0.010017398230578112), (3327, 0.010003695890780357), (1002, 0.010003387809184533), (2008, 0.01000265348674975), (1558, 0.010002054733506214), (864, 0.009994192486984878), (3983, 0.00998849563673038), (1743, 0.009983204322238256), (11, 0.0099560259969793), (936, 0.009954779585510696), (4205, 0.009949645033220657), (2338, 0.00994728278076669), (4402, 0.00994243074700652), (2714, 0.009939413152539817), (2653, 0.009939407964984808), (886, 0.009938989618550425), (3705, 0.009925100290954392), (929, 0.009917112160461584), (1305, 0.009917018152360357), (25, 0.009908659053443274), (1703, 0.009908415717728117), (843, 0.009888702868872029), (1060, 0.009884832478286887), (1964, 0.009879565322994372), (2069, 0.009876637073228474), (2087, 0.009873878614300313), (2553, 0.009865491634707969), (1845, 0.009863923473475632), (2568, 0.009847280389335855), (1044, 0.009842058556526949), (465, 0.009841697562374244), (482, 0.009841008626170619), (437, 0.00983959294860433), (1313, 0.0098367506934651), (1083, 0.009833764982440813), (3819, 0.00983238763565343), (3318, 0.009826394139759848), (564, 0.00981307143208729), (707, 0.009809552719156732), (3727, 0.009806848758697044), (1372, 0.009792753932329394), (856, 0.009792096608860094), (61, 0.00978673289289993), (697, 0.009755787130878942), (4069, 0.009734468207635186), (818, 0.009729213681297396), (1943, 0.009728744545675284), (4479, 0.00971066440015964), (452, 0.009689995974841433), (571, 0.009689079912951369), (463, 0.009688291772300859), (2931, 0.009675710546455694), (1422, 0.00966795442356117), (1020, 0.009659529861465921), (1886, 0.009642187822817607), (252, 0.009637878092773213), (1394, 0.009637756181469703), (3300, 0.009634788586000384), (2091, 0.009617215615391512), (617, 0.009614386894577436), (4345, 0.009613407779941826), (442, 0.009599850637660008), (851, 0.009575321123032967), (2067, 0.009573771926349962), (815, 0.009571836752439309), (496, 0.009571032647519606), (1241, 0.00954612348951339), (1960, 0.009536089738691881), (1340, 0.0095353523101385), (1005, 0.009534586044071872), (944, 0.009521039352171561), (852, 0.009519838432213955), (722, 0.009495696877066652), (1199, 0.009493550512110418), (97, 0.009493010385465737), (2482, 0.009487256714275243), (488, 0.009467719377617739), (1744, 0.009461986253602126), (924, 0.00944149407975354), (2538, 0.009436991800389361), (1830, 0.009428747594556837), (963, 0.00941760625468681), (3304, 0.009412964651593992), (2697, 0.009400609215074674), (280, 0.009394924228082125), (1123, 0.00939120794921153), (410, 0.009388584471831092), (1645, 0.009385135048438702), (3379, 0.009380056624410174), (325, 0.009379284210052675), (3634, 0.00937766937742903), (3657, 0.009374114105953364), (271, 0.009374010793483892), (1356, 0.009369054070780793), (1882, 0.009367186728849433), (403, 0.00935777014300333), (854, 0.00935080574937491), (940, 0.009347454266749666), (60, 0.00931724504798838), (359, 0.009311384766330635), (4640, 0.00930750182109917), (1303, 0.009296169659736422), (4591, 0.0092946064118976), (703, 0.009287451408064588), (2143, 0.00927709664080736), (4429, 0.009271255222144583), (416, 0.00926619378424474), (2743, 0.009247036565948788), (1107, 0.00922542623962327), (4154, 0.009215018226309315), (1920, 0.009201851861135243), (1969, 0.00919974781639363), (1677, 0.009197953150514025), (3928, 0.00918526371886805), (742, 0.009182558180470568), (604, 0.009176483690880474), (1182, 0.009172651030453376), (1605, 0.00916688422459328), (3471, 0.009159577009791144), (113, 0.009155429656926816), (755, 0.009134632550996785), (1034, 0.009134275678553228), (1989, 0.009121987187108414), (1273, 0.009108401609082281), (119, 0.009098819798403811), (3667, 0.009095178432432289), (594, 0.009075903709371117), (1514, 0.009073856847094674), (1217, 0.009057519685107849), (1077, 0.009036739035355587), (1693, 0.009003985335147714), (598, 0.00898577879498541), (1624, 0.008962972910442554), (3575, 0.008920714743607646), (1136, 0.00884325257540716), (1078, 0.008798533076568546), (4143, 0.008797488785121915), (3835, 0.008791157554756766), (2661, 0.008716939113346844), (194, 0.008707849701946067), (1627, 0.008697568369822621), (3953, 0.008694518117934556), (1079, 0.00866840639608138), (2127, 0.008663159099408877), (1414, 0.008633651961977105), (4530, 0.008614606689926346), (3365, 0.008611651144484856), (2347, 0.008602129879176277), (116, 0.00858471401878177), (4411, 0.008564305055096933), (966, 0.008517114475623734), (3096, 0.008470576323062402), (1796, 0.00847006520042119), (136, 0.008468771483150166), (2761, 0.00844685848500856), (1202, 0.008440663721527084), (824, 0.008315452075421115), (4344, 0.008265109622895485), (2211, 0.008263433073371459), (2010, 0.00817864849745722), (1934, 0.008133403219686922), (1747, 0.008128909307673323), (2621, 0.008125763342397585), (3954, 0.008106698674722392), (3895, 0.00793013846972145), (4473, 0.007895646842876754), (712, 0.00784571721846277), (2767, 0.007834880336842357), (1009, 0.007806849033156336), (3626, 0.007495946133393649), (2240, 0.007477919598972013), (3546, 0.007437364775406091), (2469, 0.007375613110390948), (1427, 0.007326837215577697), (4752, 0.0072076931772428856), (3301, 0.006316287692537497), (1, 0.0), (2, 0.0), (4, 0.0), (6, 0.0), (9, 0.0), (10, 0.0), (13, 0.0), (14, 0.0), (17, 0.0), (19, 0.0), (20, 0.0), (22, 0.0), (24, 0.0), (26, 0.0), (27, 0.0), (28, 0.0), (30, 0.0), (35, 0.0), (36, 0.0), (37, 0.0), (38, 0.0), (39, 0.0), (40, 0.0), (42, 0.0), (46, 0.0), (47, 0.0), (49, 0.0), (50, 0.0), (53, 0.0), (54, 0.0), (55, 0.0), (56, 0.0), (57, 0.0), (58, 0.0), (59, 0.0), (64, 0.0), (66, 0.0), (69, 0.0), (70, 0.0), (72, 0.0), (73, 0.0), (75, 0.0), (76, 0.0), (77, 0.0), (78, 0.0), (80, 0.0), (81, 0.0), (82, 0.0), (84, 0.0), (88, 0.0), (90, 0.0), (91, 0.0), (93, 0.0), (94, 0.0), (95, 0.0), (98, 0.0), (99, 0.0), (100, 0.0), (101, 0.0), (102, 0.0), (110, 0.0), (115, 0.0), (117, 0.0), (118, 0.0), (125, 0.0), (128, 0.0), (130, 0.0), (131, 0.0), (133, 0.0), (134, 0.0), (135, 0.0), (138, 0.0), (139, 0.0), (140, 0.0), (141, 0.0), (143, 0.0), (146, 0.0), (150, 0.0), (151, 0.0), (152, 0.0), (153, 0.0), (154, 0.0), (155, 0.0), (157, 0.0), (158, 0.0), (159, 0.0), (160, 0.0), (163, 0.0), (164, 0.0), (167, 0.0), (168, 0.0), (171, 0.0), (175, 0.0), (176, 0.0), (177, 0.0), (182, 0.0), (185, 0.0), (186, 0.0), (187, 0.0), (188, 0.0), (189, 0.0), (191, 0.0), (196, 0.0), (203, 0.0), (205, 0.0), (211, 0.0), (212, 0.0), (214, 0.0), (217, 0.0), (219, 0.0), (220, 0.0), (223, 0.0), (225, 0.0), (226, 0.0), (229, 0.0), (230, 0.0), (231, 0.0), (232, 0.0), (233, 0.0), (234, 0.0), (235, 0.0), (237, 0.0), (239, 0.0), (240, 0.0), (241, 0.0), (245, 0.0), (246, 0.0), (247, 0.0), (248, 0.0), (249, 0.0), (250, 0.0), (253, 0.0), (257, 0.0), (258, 0.0), (259, 0.0), (260, 0.0), (261, 0.0), (262, 0.0), (263, 0.0), (264, 0.0), (265, 0.0), (268, 0.0), (272, 0.0), (273, 0.0), (275, 0.0), (277, 0.0), (278, 0.0), (279, 0.0), (284, 0.0), (288, 0.0), (289, 0.0), (290, 0.0), (291, 0.0), (292, 0.0), (293, 0.0), (294, 0.0), (295, 0.0), (297, 0.0), (298, 0.0), (299, 0.0), (300, 0.0), (301, 0.0), (302, 0.0), (303, 0.0), (304, 0.0), (305, 0.0), (306, 0.0), (308, 0.0), (310, 0.0), (311, 0.0), (312, 0.0), (313, 0.0), (314, 0.0), (315, 0.0), (316, 0.0), (317, 0.0), (319, 0.0), (320, 0.0), (321, 0.0), (322, 0.0), (323, 0.0), (324, 0.0), (327, 0.0), (329, 0.0), (331, 0.0), (332, 0.0), (334, 0.0), (335, 0.0), (336, 0.0), (337, 0.0), (338, 0.0), (339, 0.0), (340, 0.0), (341, 0.0), (344, 0.0), (345, 0.0), (346, 0.0), (347, 0.0), (352, 0.0), (354, 0.0), (361, 0.0), (362, 0.0), (363, 0.0), (365, 0.0), (366, 0.0), (367, 0.0), (375, 0.0), (376, 0.0), (377, 0.0), (378, 0.0), (379, 0.0), (380, 0.0), (382, 0.0), (383, 0.0), (384, 0.0), (386, 0.0), (389, 0.0), (390, 0.0), (391, 0.0), (392, 0.0), (393, 0.0), (394, 0.0), (395, 0.0), (397, 0.0), (398, 0.0), (399, 0.0), (401, 0.0), (402, 0.0), (404, 0.0), (405, 0.0), (409, 0.0), (411, 0.0), (412, 0.0), (413, 0.0), (414, 0.0), (415, 0.0), (417, 0.0), (420, 0.0), (421, 0.0), (422, 0.0), (423, 0.0), (424, 0.0), (425, 0.0), (426, 0.0), (427, 0.0), (432, 0.0), (438, 0.0), (439, 0.0), (440, 0.0), (444, 0.0), (445, 0.0), (446, 0.0), (449, 0.0), (451, 0.0), (454, 0.0), (459, 0.0), (460, 0.0), (462, 0.0), (466, 0.0), (467, 0.0), (468, 0.0), (469, 0.0), (473, 0.0), (474, 0.0), (476, 0.0), (477, 0.0), (478, 0.0), (484, 0.0), (486, 0.0), (487, 0.0), (489, 0.0), (491, 0.0), (492, 0.0), (497, 0.0), (498, 0.0), (499, 0.0), (503, 0.0), (505, 0.0), (506, 0.0), (507, 0.0), (508, 0.0), (511, 0.0), (512, 0.0), (513, 0.0), (514, 0.0), (516, 0.0), (517, 0.0), (518, 0.0), (520, 0.0), (521, 0.0), (523, 0.0), (524, 0.0), (525, 0.0), (526, 0.0), (527, 0.0), (528, 0.0), (529, 0.0), (531, 0.0), (532, 0.0), (535, 0.0), (536, 0.0), (537, 0.0), (538, 0.0), (539, 0.0), (540, 0.0), (541, 0.0), (545, 0.0), (546, 0.0), (548, 0.0), (549, 0.0), (550, 0.0), (552, 0.0), (553, 0.0), (554, 0.0), (555, 0.0), (556, 0.0), (557, 0.0), (559, 0.0), (560, 0.0), (561, 0.0), (565, 0.0), (567, 0.0), (568, 0.0), (569, 0.0), (570, 0.0), (572, 0.0), (573, 0.0), (574, 0.0), (575, 0.0), (577, 0.0), (581, 0.0), (582, 0.0), (583, 0.0), (585, 0.0), (586, 0.0), (591, 0.0), (592, 0.0), (593, 0.0), (595, 0.0), (597, 0.0), (599, 0.0), (600, 0.0), (601, 0.0), (602, 0.0), (603, 0.0), (610, 0.0), (611, 0.0), (615, 0.0), (618, 0.0), (619, 0.0), (620, 0.0), (621, 0.0), (624, 0.0), (625, 0.0), (630, 0.0), (631, 0.0), (632, 0.0), (633, 0.0), (634, 0.0), (635, 0.0), (639, 0.0), (640, 0.0), (645, 0.0), (646, 0.0), (647, 0.0), (648, 0.0), (649, 0.0), (650, 0.0), (656, 0.0), (658, 0.0), (661, 0.0), (662, 0.0), (663, 0.0), (664, 0.0), (665, 0.0), (666, 0.0), (671, 0.0), (674, 0.0), (677, 0.0), (678, 0.0), (679, 0.0), (680, 0.0), (681, 0.0), (685, 0.0), (686, 0.0), (687, 0.0), (690, 0.0), (691, 0.0), (699, 0.0), (700, 0.0), (702, 0.0), (704, 0.0), (706, 0.0), (708, 0.0), (709, 0.0), (711, 0.0), (713, 0.0), (714, 0.0), (715, 0.0), (717, 0.0), (718, 0.0), (720, 0.0), (723, 0.0), (724, 0.0), (725, 0.0), (726, 0.0), (730, 0.0), (731, 0.0), (736, 0.0), (737, 0.0), (738, 0.0), (740, 0.0), (741, 0.0), (745, 0.0), (746, 0.0), (747, 0.0), (748, 0.0), (751, 0.0), (752, 0.0), (754, 0.0), (756, 0.0), (758, 0.0), (759, 0.0), (762, 0.0), (763, 0.0), (764, 0.0), (765, 0.0), (766, 0.0), (767, 0.0), (768, 0.0), (770, 0.0), (771, 0.0), (772, 0.0), (773, 0.0), (775, 0.0), (776, 0.0), (777, 0.0), (778, 0.0), (779, 0.0), (780, 0.0), (781, 0.0), (782, 0.0), (784, 0.0), (785, 0.0), (786, 0.0), (788, 0.0), (789, 0.0), (791, 0.0), (793, 0.0), (797, 0.0), (802, 0.0), (803, 0.0), (805, 0.0), (807, 0.0), (809, 0.0), (810, 0.0), (811, 0.0), (812, 0.0), (814, 0.0), (817, 0.0), (819, 0.0), (820, 0.0), (821, 0.0), (822, 0.0), (823, 0.0), (825, 0.0), (834, 0.0), (835, 0.0), (837, 0.0), (839, 0.0), (840, 0.0), (841, 0.0), (845, 0.0), (846, 0.0), (848, 0.0), (849, 0.0), (855, 0.0), (859, 0.0), (862, 0.0), (863, 0.0), (868, 0.0), (875, 0.0), (877, 0.0), (881, 0.0), (882, 0.0), (883, 0.0), (884, 0.0), (885, 0.0), (887, 0.0), (889, 0.0), (890, 0.0), (891, 0.0), (892, 0.0), (893, 0.0), (895, 0.0), (898, 0.0), (899, 0.0), (901, 0.0), (902, 0.0), (906, 0.0), (909, 0.0), (911, 0.0), (912, 0.0), (913, 0.0), (914, 0.0), (917, 0.0), (919, 0.0), (920, 0.0), (921, 0.0), (922, 0.0), (926, 0.0), (927, 0.0), (928, 0.0), (932, 0.0), (933, 0.0), (938, 0.0), (941, 0.0), (943, 0.0), (945, 0.0), (946, 0.0), (949, 0.0), (950, 0.0), (954, 0.0), (955, 0.0), (956, 0.0), (958, 0.0), (960, 0.0), (961, 0.0), (964, 0.0), (965, 0.0), (970, 0.0), (971, 0.0), (972, 0.0), (973, 0.0), (974, 0.0), (977, 0.0), (978, 0.0), (979, 0.0), (982, 0.0), (983, 0.0), (984, 0.0), (987, 0.0), (990, 0.0), (992, 0.0), (993, 0.0), (995, 0.0), (996, 0.0), (997, 0.0), (1003, 0.0), (1004, 0.0), (1008, 0.0), (1010, 0.0), (1011, 0.0), (1012, 0.0), (1013, 0.0), (1014, 0.0), (1016, 0.0), (1022, 0.0), (1025, 0.0), (1028, 0.0), (1029, 0.0), (1031, 0.0), (1032, 0.0), (1033, 0.0), (1036, 0.0), (1037, 0.0), (1038, 0.0), (1039, 0.0), (1042, 0.0), (1043, 0.0), (1045, 0.0), (1046, 0.0), (1047, 0.0), (1048, 0.0), (1051, 0.0), (1054, 0.0), (1055, 0.0), (1056, 0.0), (1057, 0.0), (1059, 0.0), (1062, 0.0), (1066, 0.0), (1067, 0.0), (1069, 0.0), (1072, 0.0), (1073, 0.0), (1076, 0.0), (1081, 0.0), (1082, 0.0), (1085, 0.0), (1086, 0.0), (1087, 0.0), (1089, 0.0), (1090, 0.0), (1091, 0.0), (1092, 0.0), (1093, 0.0), (1094, 0.0), (1095, 0.0), (1096, 0.0), (1097, 0.0), (1098, 0.0), (1099, 0.0), (1100, 0.0), (1101, 0.0), (1103, 0.0), (1104, 0.0), (1105, 0.0), (1106, 0.0), (1108, 0.0), (1110, 0.0), (1111, 0.0), (1112, 0.0), (1113, 0.0), (1114, 0.0), (1117, 0.0), (1120, 0.0), (1121, 0.0), (1124, 0.0), (1125, 0.0), (1126, 0.0), (1127, 0.0), (1129, 0.0), (1130, 0.0), (1133, 0.0), (1134, 0.0), (1135, 0.0), (1137, 0.0), (1139, 0.0), (1142, 0.0), (1143, 0.0), (1144, 0.0), (1145, 0.0), (1146, 0.0), (1147, 0.0), (1149, 0.0), (1150, 0.0), (1151, 0.0), (1152, 0.0), (1153, 0.0), (1154, 0.0), (1155, 0.0), (1156, 0.0), (1157, 0.0), (1158, 0.0), (1159, 0.0), (1162, 0.0), (1164, 0.0), (1165, 0.0), (1166, 0.0), (1167, 0.0), (1168, 0.0), (1169, 0.0), (1171, 0.0), (1172, 0.0), (1173, 0.0), (1174, 0.0), (1178, 0.0), (1180, 0.0), (1181, 0.0), (1189, 0.0), (1190, 0.0), (1193, 0.0), (1194, 0.0), (1195, 0.0), (1196, 0.0), (1197, 0.0), (1198, 0.0), (1200, 0.0), (1201, 0.0), (1203, 0.0), (1204, 0.0), (1205, 0.0), (1207, 0.0), (1210, 0.0), (1211, 0.0), (1212, 0.0), (1213, 0.0), (1214, 0.0), (1218, 0.0), (1221, 0.0), (1222, 0.0), (1226, 0.0), (1227, 0.0), (1228, 0.0), (1233, 0.0), (1235, 0.0), (1238, 0.0), (1239, 0.0), (1240, 0.0), (1242, 0.0), (1243, 0.0), (1244, 0.0), (1246, 0.0), (1249, 0.0), (1250, 0.0), (1253, 0.0), (1254, 0.0), (1256, 0.0), (1258, 0.0), (1259, 0.0), (1260, 0.0), (1262, 0.0), (1263, 0.0), (1265, 0.0), (1266, 0.0), (1267, 0.0), (1268, 0.0), (1269, 0.0), (1270, 0.0), (1271, 0.0), (1272, 0.0), (1274, 0.0), (1277, 0.0), (1278, 0.0), (1279, 0.0), (1280, 0.0), (1281, 0.0), (1282, 0.0), (1283, 0.0), (1284, 0.0), (1285, 0.0), (1287, 0.0), (1288, 0.0), (1289, 0.0), (1291, 0.0), (1293, 0.0), (1294, 0.0), (1295, 0.0), (1296, 0.0), (1297, 0.0), (1298, 0.0), (1299, 0.0), (1301, 0.0), (1302, 0.0), (1304, 0.0), (1307, 0.0), (1309, 0.0), (1310, 0.0), (1312, 0.0), (1315, 0.0), (1316, 0.0), (1319, 0.0), (1321, 0.0), (1322, 0.0), (1323, 0.0), (1326, 0.0), (1327, 0.0), (1328, 0.0), (1329, 0.0), (1330, 0.0), (1331, 0.0), (1332, 0.0), (1333, 0.0), (1336, 0.0), (1341, 0.0), (1342, 0.0), (1344, 0.0), (1345, 0.0), (1346, 0.0), (1347, 0.0), (1353, 0.0), (1354, 0.0), (1355, 0.0), (1358, 0.0), (1359, 0.0), (1361, 0.0), (1362, 0.0), (1363, 0.0), (1366, 0.0), (1367, 0.0), (1368, 0.0), (1373, 0.0), (1374, 0.0), (1376, 0.0), (1379, 0.0), (1380, 0.0), (1381, 0.0), (1384, 0.0), (1386, 0.0), (1389, 0.0), (1390, 0.0), (1391, 0.0), (1392, 0.0), (1393, 0.0), (1395, 0.0), (1396, 0.0), (1397, 0.0), (1399, 0.0), (1401, 0.0), (1402, 0.0), (1404, 0.0), (1405, 0.0), (1407, 0.0), (1409, 0.0), (1411, 0.0), (1416, 0.0), (1418, 0.0), (1420, 0.0), (1424, 0.0), (1425, 0.0), (1426, 0.0), (1428, 0.0), (1430, 0.0), (1431, 0.0), (1433, 0.0), (1434, 0.0), (1435, 0.0), (1437, 0.0), (1439, 0.0), (1441, 0.0), (1443, 0.0), (1444, 0.0), (1445, 0.0), (1447, 0.0), (1449, 0.0), (1450, 0.0), (1451, 0.0), (1452, 0.0), (1453, 0.0), (1456, 0.0), (1457, 0.0), (1458, 0.0), (1459, 0.0), (1460, 0.0), (1461, 0.0), (1464, 0.0), (1465, 0.0), (1466, 0.0), (1467, 0.0), (1468, 0.0), (1469, 0.0), (1470, 0.0), (1473, 0.0), (1479, 0.0), (1480, 0.0), (1482, 0.0), (1484, 0.0), (1485, 0.0), (1486, 0.0), (1487, 0.0), (1490, 0.0), (1491, 0.0), (1492, 0.0), (1493, 0.0), (1494, 0.0), (1495, 0.0), (1496, 0.0), (1497, 0.0), (1499, 0.0), (1500, 0.0), (1501, 0.0), (1502, 0.0), (1504, 0.0), (1505, 0.0), (1507, 0.0), (1508, 0.0), (1511, 0.0), (1512, 0.0), (1515, 0.0), (1516, 0.0), (1517, 0.0), (1520, 0.0), (1521, 0.0), (1522, 0.0), (1523, 0.0), (1524, 0.0), (1525, 0.0), (1526, 0.0), (1528, 0.0), (1529, 0.0), (1530, 0.0), (1531, 0.0), (1532, 0.0), (1534, 0.0), (1535, 0.0), (1536, 0.0), (1538, 0.0), (1540, 0.0), (1541, 0.0), (1545, 0.0), (1546, 0.0), (1548, 0.0), (1549, 0.0), (1550, 0.0), (1551, 0.0), (1552, 0.0), (1553, 0.0), (1554, 0.0), (1555, 0.0), (1556, 0.0), (1557, 0.0), (1559, 0.0), (1560, 0.0), (1561, 0.0), (1562, 0.0), (1563, 0.0), (1564, 0.0), (1566, 0.0), (1567, 0.0), (1568, 0.0), (1569, 0.0), (1571, 0.0), (1573, 0.0), (1574, 0.0), (1575, 0.0), (1576, 0.0), (1577, 0.0), (1578, 0.0), (1579, 0.0), (1580, 0.0), (1581, 0.0), (1583, 0.0), (1584, 0.0), (1586, 0.0), (1587, 0.0), (1588, 0.0), (1589, 0.0), (1590, 0.0), (1592, 0.0), (1593, 0.0), (1594, 0.0), (1596, 0.0), (1599, 0.0), (1600, 0.0), (1601, 0.0), (1602, 0.0), (1603, 0.0), (1604, 0.0), (1606, 0.0), (1607, 0.0), (1609, 0.0), (1610, 0.0), (1611, 0.0), (1612, 0.0), (1613, 0.0), (1614, 0.0), (1615, 0.0), (1617, 0.0), (1618, 0.0), (1622, 0.0), (1623, 0.0), (1625, 0.0), (1626, 0.0), (1630, 0.0), (1631, 0.0), (1632, 0.0), (1633, 0.0), (1635, 0.0), (1636, 0.0), (1637, 0.0), (1638, 0.0), (1639, 0.0), (1640, 0.0), (1641, 0.0), (1642, 0.0), (1644, 0.0), (1646, 0.0), (1647, 0.0), (1649, 0.0), (1650, 0.0), (1651, 0.0), (1652, 0.0), (1654, 0.0), (1656, 0.0), (1657, 0.0), (1659, 0.0), (1660, 0.0), (1661, 0.0), (1662, 0.0), (1663, 0.0), (1664, 0.0), (1668, 0.0), (1669, 0.0), (1670, 0.0), (1672, 0.0), (1673, 0.0), (1676, 0.0), (1679, 0.0), (1681, 0.0), (1683, 0.0), (1684, 0.0), (1686, 0.0), (1688, 0.0), (1689, 0.0), (1691, 0.0), (1692, 0.0), (1695, 0.0), (1696, 0.0), (1697, 0.0), (1698, 0.0), (1699, 0.0), (1700, 0.0), (1701, 0.0), (1702, 0.0), (1704, 0.0), (1708, 0.0), (1709, 0.0), (1712, 0.0), (1713, 0.0), (1714, 0.0), (1715, 0.0), (1718, 0.0), (1720, 0.0), (1721, 0.0), (1723, 0.0), (1724, 0.0), (1725, 0.0), (1726, 0.0), (1728, 0.0), (1729, 0.0), (1731, 0.0), (1732, 0.0), (1733, 0.0), (1734, 0.0), (1737, 0.0), (1738, 0.0), (1741, 0.0), (1742, 0.0), (1745, 0.0), (1746, 0.0), (1749, 0.0), (1750, 0.0), (1751, 0.0), (1752, 0.0), (1753, 0.0), (1755, 0.0), (1756, 0.0), (1757, 0.0), (1758, 0.0), (1759, 0.0), (1761, 0.0), (1765, 0.0), (1766, 0.0), (1767, 0.0), (1769, 0.0), (1770, 0.0), (1771, 0.0), (1772, 0.0), (1773, 0.0), (1775, 0.0), (1777, 0.0), (1778, 0.0), (1780, 0.0), (1781, 0.0), (1783, 0.0), (1784, 0.0), (1785, 0.0), (1786, 0.0), (1787, 0.0), (1788, 0.0), (1789, 0.0), (1790, 0.0), (1791, 0.0), (1792, 0.0), (1793, 0.0), (1794, 0.0), (1795, 0.0), (1799, 0.0), (1800, 0.0), (1801, 0.0), (1802, 0.0), (1803, 0.0), (1804, 0.0), (1805, 0.0), (1807, 0.0), (1808, 0.0), (1809, 0.0), (1810, 0.0), (1811, 0.0), (1812, 0.0), (1814, 0.0), (1817, 0.0), (1818, 0.0), (1820, 0.0), (1823, 0.0), (1824, 0.0), (1825, 0.0), (1826, 0.0), (1829, 0.0), (1831, 0.0), (1833, 0.0), (1834, 0.0), (1835, 0.0), (1836, 0.0), (1837, 0.0), (1838, 0.0), (1839, 0.0), (1840, 0.0), (1841, 0.0), (1842, 0.0), (1843, 0.0), (1844, 0.0), (1846, 0.0), (1847, 0.0), (1848, 0.0), (1849, 0.0), (1850, 0.0), (1852, 0.0), (1855, 0.0), (1856, 0.0), (1857, 0.0), (1859, 0.0), (1860, 0.0), (1862, 0.0), (1863, 0.0), (1867, 0.0), (1868, 0.0), (1870, 0.0), (1872, 0.0), (1873, 0.0), (1877, 0.0), (1879, 0.0), (1880, 0.0), (1881, 0.0), (1883, 0.0), (1887, 0.0), (1888, 0.0), (1889, 0.0), (1890, 0.0), (1894, 0.0), (1895, 0.0), (1898, 0.0), (1899, 0.0), (1900, 0.0), (1901, 0.0), (1903, 0.0), (1904, 0.0), (1906, 0.0), (1908, 0.0), (1910, 0.0), (1911, 0.0), (1912, 0.0), (1913, 0.0), (1914, 0.0), (1915, 0.0), (1917, 0.0), (1919, 0.0), (1921, 0.0), (1925, 0.0), (1926, 0.0), (1927, 0.0), (1928, 0.0), (1929, 0.0), (1930, 0.0), (1932, 0.0), (1933, 0.0), (1935, 0.0), (1936, 0.0), (1938, 0.0), (1939, 0.0), (1940, 0.0), (1941, 0.0), (1944, 0.0), (1948, 0.0), (1952, 0.0), (1953, 0.0), (1954, 0.0), (1955, 0.0), (1956, 0.0), (1957, 0.0), (1958, 0.0), (1959, 0.0), (1961, 0.0), (1962, 0.0), (1963, 0.0), (1965, 0.0), (1966, 0.0), (1972, 0.0), (1973, 0.0), (1974, 0.0), (1975, 0.0), (1976, 0.0), (1978, 0.0), (1979, 0.0), (1980, 0.0), (1981, 0.0), (1982, 0.0), (1984, 0.0), (1986, 0.0), (1987, 0.0), (1988, 0.0), (1990, 0.0), (1991, 0.0), (1993, 0.0), (1994, 0.0), (1996, 0.0), (1998, 0.0), (1999, 0.0), (2001, 0.0), (2002, 0.0), (2003, 0.0), (2005, 0.0), (2006, 0.0), (2007, 0.0), (2009, 0.0), (2012, 0.0), (2013, 0.0), (2015, 0.0), (2017, 0.0), (2018, 0.0), (2019, 0.0), (2020, 0.0), (2021, 0.0), (2022, 0.0), (2025, 0.0), (2028, 0.0), (2030, 0.0), (2032, 0.0), (2033, 0.0), (2036, 0.0), (2038, 0.0), (2041, 0.0), (2042, 0.0), (2043, 0.0), (2044, 0.0), (2046, 0.0), (2047, 0.0), (2050, 0.0), (2052, 0.0), (2054, 0.0), (2056, 0.0), (2057, 0.0), (2058, 0.0), (2059, 0.0), (2060, 0.0), (2062, 0.0), (2063, 0.0), (2064, 0.0), (2066, 0.0), (2071, 0.0), (2072, 0.0), (2074, 0.0), (2077, 0.0), (2078, 0.0), (2079, 0.0), (2081, 0.0), (2084, 0.0), (2085, 0.0), (2086, 0.0), (2090, 0.0), (2092, 0.0), (2093, 0.0), (2094, 0.0), (2095, 0.0), (2098, 0.0), (2099, 0.0), (2100, 0.0), (2101, 0.0), (2106, 0.0), (2107, 0.0), (2109, 0.0), (2111, 0.0), (2113, 0.0), (2114, 0.0), (2115, 0.0), (2118, 0.0), (2120, 0.0), (2124, 0.0), (2125, 0.0), (2128, 0.0), (2129, 0.0), (2130, 0.0), (2133, 0.0), (2135, 0.0), (2136, 0.0), (2138, 0.0), (2139, 0.0), (2140, 0.0), (2141, 0.0), (2142, 0.0), (2145, 0.0), (2146, 0.0), (2147, 0.0), (2148, 0.0), (2150, 0.0), (2151, 0.0), (2152, 0.0), (2153, 0.0), (2156, 0.0), (2157, 0.0), (2158, 0.0), (2160, 0.0), (2161, 0.0), (2163, 0.0), (2164, 0.0), (2165, 0.0), (2166, 0.0), (2167, 0.0), (2168, 0.0), (2170, 0.0), (2171, 0.0), (2172, 0.0), (2173, 0.0), (2175, 0.0), (2177, 0.0), (2178, 0.0), (2179, 0.0), (2180, 0.0), (2181, 0.0), (2182, 0.0), (2183, 0.0), (2184, 0.0), (2185, 0.0), (2186, 0.0), (2187, 0.0), (2189, 0.0), (2190, 0.0), (2192, 0.0), (2193, 0.0), (2194, 0.0), (2197, 0.0), (2198, 0.0), (2200, 0.0), (2202, 0.0), (2203, 0.0), (2204, 0.0), (2205, 0.0), (2207, 0.0), (2208, 0.0), (2209, 0.0), (2213, 0.0), (2215, 0.0), (2217, 0.0), (2218, 0.0), (2219, 0.0), (2220, 0.0), (2221, 0.0), (2222, 0.0), (2225, 0.0), (2227, 0.0), (2228, 0.0), (2231, 0.0), (2232, 0.0), (2233, 0.0), (2234, 0.0), (2236, 0.0), (2238, 0.0), (2239, 0.0), (2241, 0.0), (2243, 0.0), (2244, 0.0), (2245, 0.0), (2246, 0.0), (2247, 0.0), (2248, 0.0), (2249, 0.0), (2252, 0.0), (2253, 0.0), (2256, 0.0), (2258, 0.0), (2259, 0.0), (2261, 0.0), (2262, 0.0), (2263, 0.0), (2267, 0.0), (2268, 0.0), (2270, 0.0), (2271, 0.0), (2272, 0.0), (2273, 0.0), (2274, 0.0), (2278, 0.0), (2281, 0.0), (2282, 0.0), (2283, 0.0), (2285, 0.0), (2290, 0.0), (2291, 0.0), (2292, 0.0), (2293, 0.0), (2294, 0.0), (2296, 0.0), (2297, 0.0), (2298, 0.0), (2300, 0.0), (2303, 0.0), (2304, 0.0), (2305, 0.0), (2306, 0.0), (2307, 0.0), (2308, 0.0), (2309, 0.0), (2310, 0.0), (2311, 0.0), (2312, 0.0), (2314, 0.0), (2315, 0.0), (2317, 0.0), (2322, 0.0), (2323, 0.0), (2324, 0.0), (2325, 0.0), (2326, 0.0), (2327, 0.0), (2328, 0.0), (2329, 0.0), (2330, 0.0), (2331, 0.0), (2332, 0.0), (2333, 0.0), (2335, 0.0), (2336, 0.0), (2337, 0.0), (2339, 0.0), (2340, 0.0), (2341, 0.0), (2342, 0.0), (2343, 0.0), (2345, 0.0), (2351, 0.0), (2352, 0.0), (2353, 0.0), (2354, 0.0), (2356, 0.0), (2357, 0.0), (2358, 0.0), (2360, 0.0), (2364, 0.0), (2365, 0.0), (2366, 0.0), (2368, 0.0), (2369, 0.0), (2370, 0.0), (2371, 0.0), (2372, 0.0), (2373, 0.0), (2376, 0.0), (2377, 0.0), (2378, 0.0), (2380, 0.0), (2381, 0.0), (2382, 0.0), (2384, 0.0), (2385, 0.0), (2387, 0.0), (2389, 0.0), (2395, 0.0), (2396, 0.0), (2398, 0.0), (2401, 0.0), (2403, 0.0), (2408, 0.0), (2409, 0.0), (2410, 0.0), (2413, 0.0), (2414, 0.0), (2416, 0.0), (2417, 0.0), (2418, 0.0), (2419, 0.0), (2420, 0.0), (2421, 0.0), (2424, 0.0), (2426, 0.0), (2429, 0.0), (2431, 0.0), (2432, 0.0), (2433, 0.0), (2435, 0.0), (2439, 0.0), (2440, 0.0), (2442, 0.0), (2445, 0.0), (2446, 0.0), (2449, 0.0), (2450, 0.0), (2451, 0.0), (2452, 0.0), (2455, 0.0), (2456, 0.0), (2458, 0.0), (2460, 0.0), (2462, 0.0), (2463, 0.0), (2465, 0.0), (2468, 0.0), (2470, 0.0), (2471, 0.0), (2472, 0.0), (2476, 0.0), (2479, 0.0), (2480, 0.0), (2481, 0.0), (2483, 0.0), (2485, 0.0), (2491, 0.0), (2493, 0.0), (2495, 0.0), (2497, 0.0), (2498, 0.0), (2499, 0.0), (2500, 0.0), (2501, 0.0), (2503, 0.0), (2504, 0.0), (2505, 0.0), (2506, 0.0), (2507, 0.0), (2508, 0.0), (2510, 0.0), (2511, 0.0), (2513, 0.0), (2514, 0.0), (2515, 0.0), (2516, 0.0), (2517, 0.0), (2518, 0.0), (2519, 0.0), (2521, 0.0), (2523, 0.0), (2524, 0.0), (2525, 0.0), (2532, 0.0), (2533, 0.0), (2536, 0.0), (2537, 0.0), (2539, 0.0), (2541, 0.0), (2542, 0.0), (2543, 0.0), (2544, 0.0), (2545, 0.0), (2547, 0.0), (2548, 0.0), (2549, 0.0), (2551, 0.0), (2552, 0.0), (2557, 0.0), (2562, 0.0), (2564, 0.0), (2565, 0.0), (2566, 0.0), (2567, 0.0), (2571, 0.0), (2572, 0.0), (2573, 0.0), (2574, 0.0), (2575, 0.0), (2576, 0.0), (2577, 0.0), (2578, 0.0), (2582, 0.0), (2583, 0.0), (2584, 0.0), (2585, 0.0), (2586, 0.0), (2587, 0.0), (2588, 0.0), (2589, 0.0), (2590, 0.0), (2594, 0.0), (2595, 0.0), (2596, 0.0), (2597, 0.0), (2599, 0.0), (2600, 0.0), (2604, 0.0), (2605, 0.0), (2608, 0.0), (2610, 0.0), (2613, 0.0), (2615, 0.0), (2616, 0.0), (2618, 0.0), (2619, 0.0), (2620, 0.0), (2622, 0.0), (2624, 0.0), (2626, 0.0), (2627, 0.0), (2628, 0.0), (2630, 0.0), (2631, 0.0), (2635, 0.0), (2636, 0.0), (2637, 0.0), (2639, 0.0), (2640, 0.0), (2641, 0.0), (2644, 0.0), (2646, 0.0), (2648, 0.0), (2650, 0.0), (2651, 0.0), (2654, 0.0), (2656, 0.0), (2657, 0.0), (2658, 0.0), (2659, 0.0), (2660, 0.0), (2662, 0.0), (2663, 0.0), (2665, 0.0), (2666, 0.0), (2667, 0.0), (2669, 0.0), (2670, 0.0), (2671, 0.0), (2672, 0.0), (2675, 0.0), (2676, 0.0), (2677, 0.0), (2679, 0.0), (2680, 0.0), (2681, 0.0), (2682, 0.0), (2683, 0.0), (2684, 0.0), (2685, 0.0), (2686, 0.0), (2688, 0.0), (2689, 0.0), (2690, 0.0), (2691, 0.0), (2693, 0.0), (2699, 0.0), (2700, 0.0), (2701, 0.0), (2703, 0.0), (2704, 0.0), (2708, 0.0), (2709, 0.0), (2710, 0.0), (2711, 0.0), (2713, 0.0), (2715, 0.0), (2717, 0.0), (2718, 0.0), (2719, 0.0), (2720, 0.0), (2721, 0.0), (2722, 0.0), (2723, 0.0), (2725, 0.0), (2726, 0.0), (2728, 0.0), (2729, 0.0), (2730, 0.0), (2732, 0.0), (2733, 0.0), (2734, 0.0), (2735, 0.0), (2736, 0.0), (2737, 0.0), (2738, 0.0), (2749, 0.0), (2750, 0.0), (2753, 0.0), (2754, 0.0), (2756, 0.0), (2759, 0.0), (2760, 0.0), (2762, 0.0), (2763, 0.0), (2765, 0.0), (2770, 0.0), (2773, 0.0), (2774, 0.0), (2781, 0.0), (2783, 0.0), (2785, 0.0), (2786, 0.0), (2787, 0.0), (2788, 0.0), (2789, 0.0), (2790, 0.0), (2792, 0.0), (2793, 0.0), (2794, 0.0), (2799, 0.0), (2801, 0.0), (2804, 0.0), (2805, 0.0), (2806, 0.0), (2807, 0.0), (2810, 0.0), (2811, 0.0), (2813, 0.0), (2814, 0.0), (2815, 0.0), (2816, 0.0), (2817, 0.0), (2818, 0.0), (2819, 0.0), (2820, 0.0), (2822, 0.0), (2823, 0.0), (2824, 0.0), (2825, 0.0), (2826, 0.0), (2827, 0.0), (2828, 0.0), (2829, 0.0), (2833, 0.0), (2835, 0.0), (2836, 0.0), (2837, 0.0), (2839, 0.0), (2841, 0.0), (2842, 0.0), (2843, 0.0), (2846, 0.0), (2847, 0.0), (2850, 0.0), (2851, 0.0), (2852, 0.0), (2853, 0.0), (2855, 0.0), (2856, 0.0), (2860, 0.0), (2861, 0.0), (2863, 0.0), (2864, 0.0), (2865, 0.0), (2866, 0.0), (2867, 0.0), (2868, 0.0), (2869, 0.0), (2873, 0.0), (2875, 0.0), (2877, 0.0), (2880, 0.0), (2882, 0.0), (2884, 0.0), (2885, 0.0), (2891, 0.0), (2895, 0.0), (2896, 0.0), (2898, 0.0), (2900, 0.0), (2902, 0.0), (2905, 0.0), (2906, 0.0), (2909, 0.0), (2912, 0.0), (2921, 0.0), (2922, 0.0), (2923, 0.0), (2927, 0.0), (2928, 0.0), (2929, 0.0), (2930, 0.0), (2935, 0.0), (2936, 0.0), (2937, 0.0), (2938, 0.0), (2940, 0.0), (2941, 0.0), (2942, 0.0), (2944, 0.0), (2947, 0.0), (2948, 0.0), (2950, 0.0), (2951, 0.0), (2952, 0.0), (2953, 0.0), (2954, 0.0), (2955, 0.0), (2956, 0.0), (2958, 0.0), (2959, 0.0), (2960, 0.0), (2962, 0.0), (2963, 0.0), (2964, 0.0), (2967, 0.0), (2968, 0.0), (2970, 0.0), (2971, 0.0), (2973, 0.0), (2979, 0.0), (2982, 0.0), (2983, 0.0), (2984, 0.0), (2987, 0.0), (2990, 0.0), (2991, 0.0), (2992, 0.0), (2993, 0.0), (2994, 0.0), (2997, 0.0), (3000, 0.0), (3001, 0.0), (3002, 0.0), (3003, 0.0), (3005, 0.0), (3006, 0.0), (3007, 0.0), (3008, 0.0), (3009, 0.0), (3010, 0.0), (3011, 0.0), (3016, 0.0), (3017, 0.0), (3020, 0.0), (3021, 0.0), (3022, 0.0), (3023, 0.0), (3025, 0.0), (3026, 0.0), (3029, 0.0), (3031, 0.0), (3033, 0.0), (3034, 0.0), (3038, 0.0), (3039, 0.0), (3041, 0.0), (3042, 0.0), (3045, 0.0), (3046, 0.0), (3047, 0.0), (3048, 0.0), (3049, 0.0), (3053, 0.0), (3054, 0.0), (3055, 0.0), (3057, 0.0), (3058, 0.0), (3059, 0.0), (3060, 0.0), (3061, 0.0), (3063, 0.0), (3064, 0.0), (3066, 0.0), (3068, 0.0), (3069, 0.0), (3073, 0.0), (3077, 0.0), (3078, 0.0), (3079, 0.0), (3080, 0.0), (3082, 0.0), (3083, 0.0), (3084, 0.0), (3085, 0.0), (3087, 0.0), (3088, 0.0), (3089, 0.0), (3090, 0.0), (3092, 0.0), (3093, 0.0), (3098, 0.0), (3100, 0.0), (3101, 0.0), (3102, 0.0), (3103, 0.0), (3104, 0.0), (3105, 0.0), (3106, 0.0), (3107, 0.0), (3109, 0.0), (3113, 0.0), (3114, 0.0), (3115, 0.0), (3117, 0.0), (3121, 0.0), (3124, 0.0), (3126, 0.0), (3127, 0.0), (3128, 0.0), (3129, 0.0), (3130, 0.0), (3131, 0.0), (3132, 0.0), (3133, 0.0), (3134, 0.0), (3135, 0.0), (3136, 0.0), (3138, 0.0), (3139, 0.0), (3141, 0.0), (3143, 0.0), (3144, 0.0), (3145, 0.0), (3149, 0.0), (3150, 0.0), (3156, 0.0), (3157, 0.0), (3158, 0.0), (3159, 0.0), (3160, 0.0), (3161, 0.0), (3162, 0.0), (3163, 0.0), (3164, 0.0), (3167, 0.0), (3168, 0.0), (3169, 0.0), (3172, 0.0), (3173, 0.0), (3174, 0.0), (3175, 0.0), (3176, 0.0), (3177, 0.0), (3179, 0.0), (3180, 0.0), (3181, 0.0), (3185, 0.0), (3186, 0.0), (3188, 0.0), (3189, 0.0), (3190, 0.0), (3191, 0.0), (3193, 0.0), (3197, 0.0), (3201, 0.0), (3202, 0.0), (3203, 0.0), (3204, 0.0), (3205, 0.0), (3206, 0.0), (3207, 0.0), (3208, 0.0), (3209, 0.0), (3211, 0.0), (3212, 0.0), (3213, 0.0), (3215, 0.0), (3216, 0.0), (3217, 0.0), (3221, 0.0), (3222, 0.0), (3223, 0.0), (3224, 0.0), (3225, 0.0), (3226, 0.0), (3229, 0.0), (3230, 0.0), (3231, 0.0), (3236, 0.0), (3238, 0.0), (3239, 0.0), (3242, 0.0), (3243, 0.0), (3244, 0.0), (3246, 0.0), (3247, 0.0), (3250, 0.0), (3251, 0.0), (3252, 0.0), (3253, 0.0), (3255, 0.0), (3256, 0.0), (3260, 0.0), (3261, 0.0), (3263, 0.0), (3264, 0.0), (3265, 0.0), (3266, 0.0), (3269, 0.0), (3270, 0.0), (3271, 0.0), (3272, 0.0), (3277, 0.0), (3279, 0.0), (3281, 0.0), (3283, 0.0), (3285, 0.0), (3286, 0.0), (3287, 0.0), (3288, 0.0), (3289, 0.0), (3290, 0.0), (3292, 0.0), (3294, 0.0), (3295, 0.0), (3299, 0.0), (3305, 0.0), (3307, 0.0), (3309, 0.0), (3310, 0.0), (3313, 0.0), (3319, 0.0), (3320, 0.0), (3321, 0.0), (3323, 0.0), (3324, 0.0), (3329, 0.0), (3332, 0.0), (3333, 0.0), (3335, 0.0), (3336, 0.0), (3337, 0.0), (3338, 0.0), (3339, 0.0), (3340, 0.0), (3341, 0.0), (3343, 0.0), (3345, 0.0), (3348, 0.0), (3350, 0.0), (3354, 0.0), (3356, 0.0), (3358, 0.0), (3361, 0.0), (3362, 0.0), (3366, 0.0), (3367, 0.0), (3368, 0.0), (3369, 0.0), (3371, 0.0), (3372, 0.0), (3373, 0.0), (3375, 0.0), (3376, 0.0), (3378, 0.0), (3381, 0.0), (3383, 0.0), (3384, 0.0), (3385, 0.0), (3387, 0.0), (3390, 0.0), (3392, 0.0), (3394, 0.0), (3395, 0.0), (3397, 0.0), (3398, 0.0), (3400, 0.0), (3401, 0.0), (3404, 0.0), (3405, 0.0), (3410, 0.0), (3411, 0.0), (3412, 0.0), (3414, 0.0), (3415, 0.0), (3416, 0.0), (3419, 0.0), (3420, 0.0), (3421, 0.0), (3422, 0.0), (3423, 0.0), (3424, 0.0), (3426, 0.0), (3427, 0.0), (3428, 0.0), (3429, 0.0), (3430, 0.0), (3431, 0.0), (3432, 0.0), (3434, 0.0), (3438, 0.0), (3439, 0.0), (3440, 0.0), (3441, 0.0), (3442, 0.0), (3443, 0.0), (3444, 0.0), (3446, 0.0), (3448, 0.0), (3451, 0.0), (3452, 0.0), (3454, 0.0), (3455, 0.0), (3456, 0.0), (3457, 0.0), (3458, 0.0), (3459, 0.0), (3461, 0.0), (3462, 0.0), (3463, 0.0), (3464, 0.0), (3467, 0.0), (3468, 0.0), (3469, 0.0), (3470, 0.0), (3472, 0.0), (3473, 0.0), (3475, 0.0), (3476, 0.0), (3478, 0.0), (3480, 0.0), (3481, 0.0), (3482, 0.0), (3484, 0.0), (3485, 0.0), (3488, 0.0), (3489, 0.0), (3490, 0.0), (3491, 0.0), (3494, 0.0), (3495, 0.0), (3497, 0.0), (3499, 0.0), (3502, 0.0), (3505, 0.0), (3507, 0.0), (3508, 0.0), (3509, 0.0), (3510, 0.0), (3513, 0.0), (3514, 0.0), (3515, 0.0), (3517, 0.0), (3519, 0.0), (3520, 0.0), (3522, 0.0), (3525, 0.0), (3528, 0.0), (3529, 0.0), (3530, 0.0), (3531, 0.0), (3532, 0.0), (3533, 0.0), (3536, 0.0), (3537, 0.0), (3538, 0.0), (3539, 0.0), (3540, 0.0), (3543, 0.0), (3544, 0.0), (3545, 0.0), (3547, 0.0), (3548, 0.0), (3549, 0.0), (3550, 0.0), (3554, 0.0), (3555, 0.0), (3559, 0.0), (3561, 0.0), (3562, 0.0), (3563, 0.0), (3565, 0.0), (3566, 0.0), (3567, 0.0), (3568, 0.0), (3570, 0.0), (3572, 0.0), (3573, 0.0), (3574, 0.0), (3576, 0.0), (3578, 0.0), (3580, 0.0), (3581, 0.0), (3583, 0.0), (3584, 0.0), (3585, 0.0), (3587, 0.0), (3588, 0.0), (3589, 0.0), (3591, 0.0), (3592, 0.0), (3593, 0.0), (3594, 0.0), (3595, 0.0), (3596, 0.0), (3597, 0.0), (3598, 0.0), (3599, 0.0), (3600, 0.0), (3602, 0.0), (3603, 0.0), (3604, 0.0), (3605, 0.0), (3606, 0.0), (3607, 0.0), (3608, 0.0), (3609, 0.0), (3610, 0.0), (3611, 0.0), (3615, 0.0), (3617, 0.0), (3619, 0.0), (3621, 0.0), (3622, 0.0), (3625, 0.0), (3627, 0.0), (3628, 0.0), (3629, 0.0), (3630, 0.0), (3631, 0.0), (3632, 0.0), (3633, 0.0), (3636, 0.0), (3644, 0.0), (3647, 0.0), (3648, 0.0), (3649, 0.0), (3650, 0.0), (3656, 0.0), (3658, 0.0), (3661, 0.0), (3662, 0.0), (3663, 0.0), (3664, 0.0), (3665, 0.0), (3668, 0.0), (3671, 0.0), (3672, 0.0), (3674, 0.0), (3676, 0.0), (3677, 0.0), (3678, 0.0), (3679, 0.0), (3681, 0.0), (3682, 0.0), (3683, 0.0), (3684, 0.0), (3685, 0.0), (3686, 0.0), (3687, 0.0), (3688, 0.0), (3690, 0.0), (3691, 0.0), (3693, 0.0), (3695, 0.0), (3697, 0.0), (3698, 0.0), (3700, 0.0), (3701, 0.0), (3702, 0.0), (3703, 0.0), (3709, 0.0), (3710, 0.0), (3712, 0.0), (3713, 0.0), (3714, 0.0), (3715, 0.0), (3716, 0.0), (3717, 0.0), (3718, 0.0), (3719, 0.0), (3720, 0.0), (3721, 0.0), (3722, 0.0), (3723, 0.0), (3724, 0.0), (3725, 0.0), (3726, 0.0), (3729, 0.0), (3730, 0.0), (3732, 0.0), (3733, 0.0), (3735, 0.0), (3736, 0.0), (3737, 0.0), (3738, 0.0), (3740, 0.0), (3743, 0.0), (3744, 0.0), (3746, 0.0), (3747, 0.0), (3748, 0.0), (3750, 0.0), (3751, 0.0), (3752, 0.0), (3753, 0.0), (3757, 0.0), (3758, 0.0), (3759, 0.0), (3760, 0.0), (3761, 0.0), (3764, 0.0), (3768, 0.0), (3769, 0.0), (3770, 0.0), (3773, 0.0), (3774, 0.0), (3775, 0.0), (3776, 0.0), (3779, 0.0), (3781, 0.0), (3782, 0.0), (3783, 0.0), (3785, 0.0), (3786, 0.0), (3787, 0.0), (3788, 0.0), (3789, 0.0), (3790, 0.0), (3791, 0.0), (3792, 0.0), (3793, 0.0), (3795, 0.0), (3796, 0.0), (3798, 0.0), (3800, 0.0), (3802, 0.0), (3803, 0.0), (3805, 0.0), (3806, 0.0), (3808, 0.0), (3810, 0.0), (3812, 0.0), (3814, 0.0), (3815, 0.0), (3816, 0.0), (3817, 0.0), (3818, 0.0), (3820, 0.0), (3821, 0.0), (3823, 0.0), (3824, 0.0), (3825, 0.0), (3830, 0.0), (3831, 0.0), (3833, 0.0), (3834, 0.0), (3836, 0.0), (3837, 0.0), (3838, 0.0), (3840, 0.0), (3841, 0.0), (3843, 0.0), (3844, 0.0), (3846, 0.0), (3847, 0.0), (3848, 0.0), (3849, 0.0), (3850, 0.0), (3851, 0.0), (3852, 0.0), (3853, 0.0), (3856, 0.0), (3857, 0.0), (3858, 0.0), (3859, 0.0), (3861, 0.0), (3863, 0.0), (3864, 0.0), (3865, 0.0), (3869, 0.0), (3870, 0.0), (3871, 0.0), (3872, 0.0), (3874, 0.0), (3877, 0.0), (3878, 0.0), (3879, 0.0), (3881, 0.0), (3885, 0.0), (3886, 0.0), (3887, 0.0), (3889, 0.0), (3891, 0.0), (3894, 0.0), (3896, 0.0), (3897, 0.0), (3899, 0.0), (3905, 0.0), (3906, 0.0), (3907, 0.0), (3908, 0.0), (3909, 0.0), (3911, 0.0), (3912, 0.0), (3914, 0.0), (3916, 0.0), (3918, 0.0), (3921, 0.0), (3923, 0.0), (3926, 0.0), (3929, 0.0), (3930, 0.0), (3931, 0.0), (3933, 0.0), (3934, 0.0), (3935, 0.0), (3936, 0.0), (3937, 0.0), (3938, 0.0), (3940, 0.0), (3942, 0.0), (3943, 0.0), (3944, 0.0), (3948, 0.0), (3950, 0.0), (3951, 0.0), (3955, 0.0), (3957, 0.0), (3958, 0.0), (3963, 0.0), (3964, 0.0), (3965, 0.0), (3966, 0.0), (3967, 0.0), (3968, 0.0), (3969, 0.0), (3970, 0.0), (3971, 0.0), (3972, 0.0), (3975, 0.0), (3976, 0.0), (3977, 0.0), (3979, 0.0), (3980, 0.0), (3981, 0.0), (3982, 0.0), (3985, 0.0), (3986, 0.0), (3987, 0.0), (3988, 0.0), (3989, 0.0), (3991, 0.0), (3994, 0.0), (3995, 0.0), (3996, 0.0), (3997, 0.0), (3998, 0.0), (4001, 0.0), (4002, 0.0), (4003, 0.0), (4006, 0.0), (4008, 0.0), (4009, 0.0), (4010, 0.0), (4012, 0.0), (4013, 0.0), (4015, 0.0), (4017, 0.0), (4018, 0.0), (4019, 0.0), (4021, 0.0), (4022, 0.0), (4026, 0.0), (4027, 0.0), (4028, 0.0), (4029, 0.0), (4031, 0.0), (4034, 0.0), (4035, 0.0), (4037, 0.0), (4039, 0.0), (4040, 0.0), (4041, 0.0), (4042, 0.0), (4043, 0.0), (4044, 0.0), (4045, 0.0), (4047, 0.0), (4049, 0.0), (4050, 0.0), (4052, 0.0), (4055, 0.0), (4057, 0.0), (4058, 0.0), (4059, 0.0), (4061, 0.0), (4063, 0.0), (4064, 0.0), (4065, 0.0), (4067, 0.0), (4070, 0.0), (4071, 0.0), (4072, 0.0), (4073, 0.0), (4075, 0.0), (4076, 0.0), (4077, 0.0), (4078, 0.0), (4080, 0.0), (4081, 0.0), (4083, 0.0), (4084, 0.0), (4086, 0.0), (4089, 0.0), (4090, 0.0), (4091, 0.0), (4093, 0.0), (4094, 0.0), (4097, 0.0), (4099, 0.0), (4100, 0.0), (4102, 0.0), (4103, 0.0), (4104, 0.0), (4105, 0.0), (4106, 0.0), (4108, 0.0), (4109, 0.0), (4110, 0.0), (4112, 0.0), (4114, 0.0), (4115, 0.0), (4119, 0.0), (4120, 0.0), (4125, 0.0), (4126, 0.0), (4127, 0.0), (4128, 0.0), (4129, 0.0), (4131, 0.0), (4132, 0.0), (4134, 0.0), (4136, 0.0), (4139, 0.0), (4140, 0.0), (4142, 0.0), (4144, 0.0), (4145, 0.0), (4146, 0.0), (4147, 0.0), (4148, 0.0), (4149, 0.0), (4150, 0.0), (4153, 0.0), (4155, 0.0), (4157, 0.0), (4158, 0.0), (4159, 0.0), (4161, 0.0), (4162, 0.0), (4165, 0.0), (4166, 0.0), (4167, 0.0), (4168, 0.0), (4170, 0.0), (4173, 0.0), (4174, 0.0), (4175, 0.0), (4177, 0.0), (4179, 0.0), (4180, 0.0), (4181, 0.0), (4184, 0.0), (4185, 0.0), (4186, 0.0), (4188, 0.0), (4190, 0.0), (4191, 0.0), (4193, 0.0), (4194, 0.0), (4195, 0.0), (4196, 0.0), (4197, 0.0), (4198, 0.0), (4199, 0.0), (4200, 0.0), (4201, 0.0), (4204, 0.0), (4206, 0.0), (4207, 0.0), (4208, 0.0), (4209, 0.0), (4210, 0.0), (4211, 0.0), (4212, 0.0), (4213, 0.0), (4214, 0.0), (4215, 0.0), (4217, 0.0), (4218, 0.0), (4219, 0.0), (4220, 0.0), (4223, 0.0), (4224, 0.0), (4226, 0.0), (4228, 0.0), (4229, 0.0), (4234, 0.0), (4236, 0.0), (4237, 0.0), (4238, 0.0), (4239, 0.0), (4240, 0.0), (4241, 0.0), (4245, 0.0), (4248, 0.0), (4250, 0.0), (4251, 0.0), (4252, 0.0), (4253, 0.0), (4254, 0.0), (4256, 0.0), (4258, 0.0), (4260, 0.0), (4262, 0.0), (4264, 0.0), (4265, 0.0), (4267, 0.0), (4270, 0.0), (4271, 0.0), (4272, 0.0), (4273, 0.0), (4274, 0.0), (4275, 0.0), (4276, 0.0), (4277, 0.0), (4278, 0.0), (4279, 0.0), (4280, 0.0), (4281, 0.0), (4285, 0.0), (4289, 0.0), (4290, 0.0), (4291, 0.0), (4292, 0.0), (4294, 0.0), (4296, 0.0), (4297, 0.0), (4298, 0.0), (4299, 0.0), (4300, 0.0), (4301, 0.0), (4302, 0.0), (4303, 0.0), (4304, 0.0), (4305, 0.0), (4306, 0.0), (4307, 0.0), (4308, 0.0), (4310, 0.0), (4312, 0.0), (4313, 0.0), (4314, 0.0), (4315, 0.0), (4316, 0.0), (4317, 0.0), (4318, 0.0), (4319, 0.0), (4320, 0.0), (4322, 0.0), (4323, 0.0), (4324, 0.0), (4326, 0.0), (4327, 0.0), (4328, 0.0), (4329, 0.0), (4331, 0.0), (4332, 0.0), (4335, 0.0), (4337, 0.0), (4338, 0.0), (4339, 0.0), (4340, 0.0), (4341, 0.0), (4342, 0.0), (4343, 0.0), (4346, 0.0), (4347, 0.0), (4348, 0.0), (4349, 0.0), (4351, 0.0), (4352, 0.0), (4353, 0.0), (4354, 0.0), (4355, 0.0), (4358, 0.0), (4359, 0.0), (4360, 0.0), (4361, 0.0), (4363, 0.0), (4364, 0.0), (4365, 0.0), (4366, 0.0), (4367, 0.0), (4370, 0.0), (4372, 0.0), (4373, 0.0), (4376, 0.0), (4377, 0.0), (4378, 0.0), (4381, 0.0), (4383, 0.0), (4384, 0.0), (4385, 0.0), (4386, 0.0), (4388, 0.0), (4389, 0.0), (4390, 0.0), (4391, 0.0), (4392, 0.0), (4393, 0.0), (4395, 0.0), (4397, 0.0), (4398, 0.0), (4399, 0.0), (4400, 0.0), (4404, 0.0), (4405, 0.0), (4406, 0.0), (4408, 0.0), (4409, 0.0), (4410, 0.0), (4413, 0.0), (4414, 0.0), (4415, 0.0), (4416, 0.0), (4417, 0.0), (4418, 0.0), (4421, 0.0), (4424, 0.0), (4425, 0.0), (4426, 0.0), (4427, 0.0), (4428, 0.0), (4431, 0.0), (4433, 0.0), (4434, 0.0), (4437, 0.0), (4438, 0.0), (4439, 0.0), (4441, 0.0), (4445, 0.0), (4447, 0.0), (4449, 0.0), (4451, 0.0), (4452, 0.0), (4453, 0.0), (4454, 0.0), (4455, 0.0), (4456, 0.0), (4457, 0.0), (4459, 0.0), (4460, 0.0), (4461, 0.0), (4462, 0.0), (4463, 0.0), (4464, 0.0), (4466, 0.0), (4467, 0.0), (4468, 0.0), (4471, 0.0), (4476, 0.0), (4478, 0.0), (4480, 0.0), (4482, 0.0), (4483, 0.0), (4485, 0.0), (4486, 0.0), (4488, 0.0), (4491, 0.0), (4492, 0.0), (4493, 0.0), (4495, 0.0), (4496, 0.0), (4497, 0.0), (4498, 0.0), (4499, 0.0), (4500, 0.0), (4504, 0.0), (4505, 0.0), (4506, 0.0), (4508, 0.0), (4509, 0.0), (4513, 0.0), (4514, 0.0), (4515, 0.0), (4518, 0.0), (4519, 0.0), (4524, 0.0), (4525, 0.0), (4526, 0.0), (4527, 0.0), (4529, 0.0), (4532, 0.0), (4534, 0.0), (4537, 0.0), (4538, 0.0), (4539, 0.0), (4541, 0.0), (4542, 0.0), (4543, 0.0), (4544, 0.0), (4545, 0.0), (4547, 0.0), (4548, 0.0), (4549, 0.0), (4550, 0.0), (4552, 0.0), (4556, 0.0), (4558, 0.0), (4559, 0.0), (4560, 0.0), (4561, 0.0), (4562, 0.0), (4564, 0.0), (4565, 0.0), (4567, 0.0), (4568, 0.0), (4569, 0.0), (4570, 0.0), (4574, 0.0), (4576, 0.0), (4577, 0.0), (4578, 0.0), (4579, 0.0), (4580, 0.0), (4582, 0.0), (4583, 0.0), (4584, 0.0), (4585, 0.0), (4586, 0.0), (4587, 0.0), (4588, 0.0), (4592, 0.0), (4595, 0.0), (4596, 0.0), (4597, 0.0), (4598, 0.0), (4599, 0.0), (4600, 0.0), (4602, 0.0), (4604, 0.0), (4605, 0.0), (4606, 0.0), (4608, 0.0), (4609, 0.0), (4611, 0.0), (4612, 0.0), (4613, 0.0), (4615, 0.0), (4616, 0.0), (4618, 0.0), (4620, 0.0), (4621, 0.0), (4622, 0.0), (4627, 0.0), (4628, 0.0), (4630, 0.0), (4631, 0.0), (4633, 0.0), (4634, 0.0), (4635, 0.0), (4639, 0.0), (4641, 0.0), (4642, 0.0), (4644, 0.0), (4645, 0.0), (4646, 0.0), (4647, 0.0), (4648, 0.0), (4649, 0.0), (4651, 0.0), (4652, 0.0), (4653, 0.0), (4654, 0.0), (4655, 0.0), (4659, 0.0), (4661, 0.0), (4662, 0.0), (4663, 0.0), (4664, 0.0), (4665, 0.0), (4666, 0.0), (4667, 0.0), (4671, 0.0), (4672, 0.0), (4675, 0.0), (4676, 0.0), (4677, 0.0), (4678, 0.0), (4680, 0.0), (4681, 0.0), (4682, 0.0), (4683, 0.0), (4685, 0.0), (4686, 0.0), (4687, 0.0), (4688, 0.0), (4689, 0.0), (4690, 0.0), (4691, 0.0), (4692, 0.0), (4694, 0.0), (4695, 0.0), (4696, 0.0), (4697, 0.0), (4698, 0.0), (4700, 0.0), (4702, 0.0), (4703, 0.0), (4705, 0.0), (4708, 0.0), (4711, 0.0), (4714, 0.0), (4715, 0.0), (4716, 0.0), (4720, 0.0), (4721, 0.0), (4725, 0.0), (4726, 0.0), (4728, 0.0), (4729, 0.0), (4730, 0.0), (4732, 0.0), (4736, 0.0), (4737, 0.0), (4738, 0.0), (4740, 0.0), (4741, 0.0), (4742, 0.0), (4743, 0.0), (4744, 0.0), (4745, 0.0), (4746, 0.0), (4748, 0.0), (4749, 0.0), (4750, 0.0), (4751, 0.0), (4754, 0.0), (4755, 0.0), (4757, 0.0), (4758, 0.0), (4759, 0.0)]\n"
          ]
        }
      ]
    },
    {
      "cell_type": "code",
      "source": [
        "print('Top 30 Movies Suggested For you:\\n')\n",
        "\n",
        "i= 1\n",
        "for movie in Sorted_Similar_Movies:\n",
        "  index = movie[0]\n",
        "  title_from_index = df[df.index == index]['Movie_Title'].values[0]\n",
        "  if(i<31):\n",
        "    print (i, '.', title_from_index)\n",
        "    i+=1"
      ],
      "metadata": {
        "colab": {
          "base_uri": "https://localhost:8080/"
        },
        "id": "kkVQksrfEWQL",
        "outputId": "25841e15-d34f-4054-f544-03061fd3a988"
      },
      "execution_count": null,
      "outputs": [
        {
          "output_type": "stream",
          "name": "stdout",
          "text": [
            "Top 30 Movies Suggested For you:\n",
            "\n",
            "1 . Niagara\n",
            "2 . Eye for an Eye\n",
            "3 . Harry Brown\n",
            "4 . Enough\n",
            "5 . The Lost Weekend\n",
            "6 . Better Luck Tomorrow\n",
            "7 . Ajami\n",
            "8 . Deadline - U.S.A.\n",
            "9 . Blood Done Sign My Name\n",
            "10 . El Rey de Najayo\n",
            "11 . Water & Power\n",
            "12 . Black Water Transit\n",
            "13 . Kung Fu Hustle\n",
            "14 . Butterfly on a Wheel\n",
            "15 . Welcome to the Sticks\n",
            "16 . Madea's Witness Protection\n",
            "17 . Black November\n",
            "18 . Amidst the Devil's Wings\n",
            "19 . The Rise of the Krays\n",
            "20 . Intolerable Cruelty\n",
            "21 . Notes on a Scandal\n",
            "22 . Back to the Future\n",
            "23 . The Oh in Ohio\n",
            "24 . Just Looking\n",
            "25 . N-Secure\n",
            "26 . The Son of No One\n",
            "27 . Compliance\n",
            "28 . Zulu\n",
            "29 . Blood Ties\n",
            "30 . Dutch Kills\n"
          ]
        }
      ]
    },
    {
      "cell_type": "markdown",
      "source": [
        "Top 10 Movie Recommendation System"
      ],
      "metadata": {
        "id": "lPVYAoaCGI0L"
      }
    },
    {
      "cell_type": "code",
      "source": [
        "Movie_Name=input(\"Enter your favourite movie name:\")\n",
        "list_of_all_titles=df['Movie_Title'].tolist()\n",
        "Find_Close_Match=difflib.get_close_matches(Movie_Name,list_of_all_titles)\n",
        "Close_Match=Find_Close_Match[0]\n",
        "Index_of_Movie=df[df.Movie_Title==Close_Match]['Movie_ID'].values[0]\n",
        "Recommenndation_Score=list(enumerate(Similarity_Score[Index_of_Movie]))\n",
        "sorted_similar_movies=sorted(Recommendation_Score,key=lambda x:x[1],reverse=True)\n",
        "print(\"Top 10 Movies suggested for you:\\n\")\n",
        "i=1\n",
        "for movie in sorted_similar_movies:\n",
        "  index=movie[0]\n",
        "  title_from_index=df[df.Movie_ID==index]['Movie_Title'].values\n",
        "  if(i<11):\n",
        "    print(i,'.',title_from_index)\n",
        "    i+=1"
      ],
      "metadata": {
        "colab": {
          "base_uri": "https://localhost:8080/"
        },
        "id": "Ps5OZm4BGNl_",
        "outputId": "dbbd21fd-303c-4802-f249-34f5034a7271"
      },
      "execution_count": null,
      "outputs": [
        {
          "output_type": "stream",
          "name": "stdout",
          "text": [
            "Enter your favourite movie name:avtaar\n",
            "Top 10 Movies suggested for you:\n",
            "\n",
            "1 . ['Avatar']\n",
            "2 . ['Bright Lights, Big City']\n",
            "3 . ['Precious']\n",
            "4 . ['Gerry']\n",
            "5 . ['Case 39']\n",
            "6 . ['In the Shadow of the Moon']\n",
            "7 . [\"The Time Traveler's Wife\"]\n",
            "8 . ['Cure']\n",
            "9 . [\"Mo' Better Blues\"]\n",
            "10 . ['Parker']\n"
          ]
        }
      ]
    }
  ]
}